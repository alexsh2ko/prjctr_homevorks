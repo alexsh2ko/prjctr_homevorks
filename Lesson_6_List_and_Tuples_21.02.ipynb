{
 "cells": [
  {
   "attachments": {},
   "cell_type": "markdown",
   "id": "c91baf6d",
   "metadata": {},
   "source": [
    "### Lesson 6. Tuple and operation. List and operation. 21.02 \n",
    ">    **Topic**: \\\n",
    ">        1. Tuple \\\n",
    ">        2. Operation with tuple \\\n",
    ">        3. Tuple function \\\n",
    ">        4. List/operation with list \\\n",
    ">        5. List function\n",
    "\n",
    ">    **Materials**: \\\n",
    ">        1. [Lists w3schools](https://www.w3schools.com/python/python_arrays.asp) \\\n",
    ">        2. [More lists in w3school](https://www.w3schools.com/python/python_lists.asp) \\\n",
    ">        3. [Realpython lits](https://realpython.com/python-scope-legb-rule/) \\\n",
    ">        4. [Realpython tuples](https://realpython.com/python-lists-tuples/) \\\n",
    ">        5. [Learnpython](https://www.learnpython.org) - find lists/tuples \\\n",
    ">        6. [Exceptions](https://realpython.com/python-exceptions/)\n",
    "       "
   ]
  },
  {
   "cell_type": "markdown",
   "id": "5cc11bde",
   "metadata": {},
   "source": [
    "### Scope"
   ]
  },
  {
   "cell_type": "code",
   "execution_count": 19,
   "id": "d526c4fa",
   "metadata": {},
   "outputs": [
    {
     "name": "stdout",
     "output_type": "stream",
     "text": [
      "A = 5\n",
      "B = 10\n",
      "C = 15\n",
      "args = (1, 'Try', 'New scope')\n",
      "None\n"
     ]
    }
   ],
   "source": [
    "def add(a, b = 5, c = 6, *args):\n",
    "    print(f'A = {a}') # a = 5\n",
    "    print(f'B = {b}') # b = 10\n",
    "    print(f'C = {c}') # c = 15\n",
    "    print(f'args = {args}') # 1, try, new scope\n",
    "\n",
    "print(add(5, 10, 15, 1, 'Try', 'New scope'))"
   ]
  },
  {
   "cell_type": "code",
   "execution_count": 20,
   "id": "1a69cad7",
   "metadata": {},
   "outputs": [
    {
     "name": "stdout",
     "output_type": "stream",
     "text": [
      "3\n",
      "5\n"
     ]
    }
   ],
   "source": [
    "x = 3\n",
    "\n",
    "print(x)\n",
    "\n",
    "x = 5\n",
    "print(x)"
   ]
  },
  {
   "cell_type": "code",
   "execution_count": 21,
   "id": "ad87ea03",
   "metadata": {},
   "outputs": [
    {
     "name": "stdout",
     "output_type": "stream",
     "text": [
      "Inside function x = 2\n",
      "Outside function x = 5\n"
     ]
    }
   ],
   "source": [
    "x = 5\n",
    "\n",
    "def function():\n",
    "    x = 2\n",
    "    print(f'Inside function x = {x}')\n",
    "    \n",
    "function()\n",
    "print(f'Outside function x = {x}')"
   ]
  },
  {
   "cell_type": "code",
   "execution_count": 22,
   "id": "3a107def",
   "metadata": {},
   "outputs": [
    {
     "name": "stdout",
     "output_type": "stream",
     "text": [
      "Result is 10\n"
     ]
    }
   ],
   "source": [
    "x = 2\n",
    "\n",
    "def outer_func():\n",
    "    y = 3\n",
    "    def inner_func():\n",
    "        j = 5\n",
    "        return x + y + j\n",
    "    \n",
    "    return inner_func()\n",
    "\n",
    "result = outer_func()\n",
    "print(f'Result is {result}')"
   ]
  },
  {
   "cell_type": "code",
   "execution_count": 31,
   "id": "7d1bd70b",
   "metadata": {},
   "outputs": [
    {
     "name": "stdout",
     "output_type": "stream",
     "text": [
      "20\n",
      "None\n"
     ]
    }
   ],
   "source": [
    "total_ = 5\n",
    "\n",
    "def total(total_ ): \n",
    "    total_ += 10\n",
    "    print(total_)\n",
    "    \n",
    "print(total(10))"
   ]
  },
  {
   "cell_type": "markdown",
   "id": "7cfbaa1c",
   "metadata": {},
   "source": [
    "### LEGB rule\n",
    "\n",
    "**Local (L)**: The local, or current, scope. This could be the body of a function or the top-level scope of a script. It always represents the scope that the Python interpreter is currently working in.\n",
    "\n",
    "**Enclosing (E)**: The enclosing scope. This is the scope one level up from the local scope. If the local scope is an inner function, the enclos- ing scope is the scope of the outer function. If the scope is a top-level function, the enclosing scope is the same as the global scope.\n",
    "\n",
    "**Global (G)**: The global scope, which is the top-most scope in the script. This contains all of the names defined in the script that are not contained in a function body.\n",
    "\n",
    "**Built-in (B)**: The built-in scope contains all of the names, such as keywords, that are built-in to Python. Functions such as round() and abs() are in the built-in scope. Anything that you can use without first defining yourself is contained in the built-in scope."
   ]
  },
  {
   "attachments": {},
   "cell_type": "markdown",
   "id": "5df0a624",
   "metadata": {},
   "source": [
    "![](https://miro.medium.com/max/959/1*_h8IujiEfhwWBK2ddyrT4g.png)"
   ]
  },
  {
   "cell_type": "code",
   "execution_count": 26,
   "id": "b522b806",
   "metadata": {},
   "outputs": [
    {
     "name": "stdout",
     "output_type": "stream",
     "text": [
      "x local\n",
      "**************************************************\n",
      "outer\n",
      "**************************************************\n",
      "Global x global\n",
      "**************************************************\n",
      "Built in value from lib: 3.141592653589793\n"
     ]
    }
   ],
   "source": [
    "x = 'x global'\n",
    "# Example 1: Local\n",
    "def example_with_local():\n",
    "    x = \"x local\"\n",
    "    print(x)\n",
    "\n",
    "example_with_local() # выведет \"local\"\n",
    "\n",
    "print('*' * 50)\n",
    "# Example 2: inner funcrion\n",
    "def outer():\n",
    "    x = \"outer\"\n",
    "    def inner():\n",
    "        print(x)\n",
    "    inner()\n",
    "\n",
    "outer() # display \"Enclosed\"\n",
    "\n",
    "print('*' * 50)\n",
    "# Example 3: Global\n",
    "x = \"global\"\n",
    "\n",
    "def example():\n",
    "    print(f'Global x {x}')\n",
    "\n",
    "example() # display \"global\"\n",
    "\n",
    "print('*' * 50)\n",
    "# Example 4: Built-In\n",
    "import math\n",
    "\n",
    "def example():\n",
    "    print(f'Built in value from lib: {math.pi}')\n",
    "\n",
    "example() # display 3.141592653589793"
   ]
  },
  {
   "cell_type": "markdown",
   "id": "077c5a1b",
   "metadata": {},
   "source": [
    "## Practice block 1:\n",
    "\n",
    "1. Create an outer function that will accept two parameters, a and b\n",
    "2. Create an inner function inside an outer function that will calculate the addition of a and b\n",
    "3. At last, an outer function will add 5 into addition and return it"
   ]
  },
  {
   "cell_type": "code",
   "execution_count": null,
   "id": "7ec62ca6",
   "metadata": {},
   "outputs": [],
   "source": [
    "total = 0\n",
    "def add_to_total(n): # Що поверне код?\n",
    "    total = total + n\n",
    "print(add_to_total(5))"
   ]
  },
  {
   "cell_type": "code",
   "execution_count": null,
   "id": "86cf79cd",
   "metadata": {},
   "outputs": [],
   "source": [
    "total = 0\n",
    "def add_to_total(n):\n",
    "    total1 = total + n\n",
    "\n",
    "add_to_total(5)\n",
    "print(total)"
   ]
  },
  {
   "cell_type": "code",
   "execution_count": null,
   "id": "759447ae",
   "metadata": {},
   "outputs": [],
   "source": [
    "total = 0\n",
    "def add_to_total(n):\n",
    "    global total # Ключове слово для глобальний, bad style \n",
    "    total = total + n\n",
    "\n",
    "add_to_total(5)\n",
    "add_to_total(5)\n",
    "print(total)"
   ]
  },
  {
   "cell_type": "code",
   "execution_count": null,
   "id": "3adf4611",
   "metadata": {},
   "outputs": [],
   "source": [
    "total = 0\n",
    "def add_to_total(base_value: int, n: int) -> int:\n",
    "    return base_value + n # Best style\n",
    "\n",
    "total = add_to_total(total, 5)\n",
    "print(total)"
   ]
  },
  {
   "cell_type": "markdown",
   "id": "92e584b7",
   "metadata": {},
   "source": [
    "### Task 1\n",
    "A perfect number is a number in which the sum of its divisors (excluding itself) are equal to itself.\n",
    "\n",
    "Write a function that can verify if the given integer n is a perfect number, and return True if it is, or return False if not.\n",
    "\n",
    "Examples\n",
    "\n",
    "n = 28 has the following divisors: 1, 2, 4, 7, 14, 28\n",
    "\n",
    "1 + 2 + 4 + 7 + 14 = 28 therefore 28 is a perfect number, so you should return True\n",
    "\n",
    "Another example:\n",
    "\n",
    "n = 25 has the following divisors: 1, 5, 25\n",
    "\n",
    "1 + 5 = 6 therefore 25 is not a perfect number, so you should return False\n"
   ]
  },
  {
   "cell_type": "code",
   "execution_count": null,
   "id": "84d55060",
   "metadata": {},
   "outputs": [],
   "source": [
    "# Step 1: %, ==, +, bool\n",
    "# Step 2: while/for, range \n",
    "# Step 3: def, return"
   ]
  },
  {
   "cell_type": "code",
   "execution_count": 172,
   "id": "8f641b5f",
   "metadata": {},
   "outputs": [],
   "source": [
    "def perfect(x_is_perf):\n",
    "    summ = 0\n",
    "    for i in range(1, x_is_perf - 1):\n",
    "        if x_is_perf % i == 0:\n",
    "            summ += i\n",
    "    return summ == x_is_perf\n",
    "    "
   ]
  },
  {
   "cell_type": "code",
   "execution_count": 192,
   "id": "53158f31",
   "metadata": {},
   "outputs": [],
   "source": [
    "# Example of solve\n",
    "def perfect(number_user: int) -> bool:\n",
    "    return sum(i for i in range(1, number_user // 2 + 1) if number_user % i == 0) == number_user if isinstance(number_user, int)  else 'Wrong data type'"
   ]
  },
  {
   "cell_type": "code",
   "execution_count": 193,
   "id": "84807def",
   "metadata": {},
   "outputs": [],
   "source": [
    "assert perfect(25) == False\n",
    "assert perfect(28) == True\n",
    "assert perfect(17) == False\n",
    "# assert perfect(0) == False\n",
    "# assert perfect(-1) == False\n",
    "# assert perfect('q') == False"
   ]
  },
  {
   "cell_type": "code",
   "execution_count": null,
   "id": "6c9c6942",
   "metadata": {},
   "outputs": [],
   "source": [
    "counter = 1\n",
    "n = 28\n",
    "s = 0\n",
    "while counter != n - 1:\n",
    "    if n % counter == 0:\n",
    "        print(counter)\n",
    "        s += counter\n",
    "    counter += 1\n",
    "print(n == s)"
   ]
  },
  {
   "cell_type": "markdown",
   "id": "25070bdd",
   "metadata": {},
   "source": [
    "## Practice block 2\n",
    "\n",
    "\n",
    "1. Write a program that asks user to enter an integer and convert it to int. If the user enters something that is not an integer, program should catch an error and ask the user to enter an integer again. if user inputs an integer, program should print this number and quit w/o any error.\n",
    "2. Write a program that asks the user to input a string and an integer n. Then display the character at index n in the string. You should handle an error properly and display proper error message."
   ]
  },
  {
   "cell_type": "code",
   "execution_count": null,
   "id": "09678063",
   "metadata": {},
   "outputs": [],
   "source": [
    "### Try/Except block \n",
    "# Інструмент для except, запуск альтернативного коду якщо була помилка"
   ]
  },
  {
   "cell_type": "code",
   "execution_count": 76,
   "id": "0311f706",
   "metadata": {},
   "outputs": [
    {
     "ename": "ValueError",
     "evalue": "invalid literal for int() with base 10: 'q'",
     "output_type": "error",
     "traceback": [
      "\u001b[0;31m---------------------------------------------------------------------------\u001b[0m",
      "\u001b[0;31mValueError\u001b[0m                                Traceback (most recent call last)",
      "Cell \u001b[0;32mIn[76], line 1\u001b[0m\n\u001b[0;32m----> 1\u001b[0m \u001b[39mint\u001b[39;49m(\u001b[39m'\u001b[39;49m\u001b[39mq\u001b[39;49m\u001b[39m'\u001b[39;49m)\n",
      "\u001b[0;31mValueError\u001b[0m: invalid literal for int() with base 10: 'q'"
     ]
    }
   ],
   "source": [
    "int('q')"
   ]
  },
  {
   "cell_type": "code",
   "execution_count": 77,
   "id": "bfa34329",
   "metadata": {},
   "outputs": [
    {
     "ename": "ValueError",
     "evalue": "invalid literal for int() with base 10: '--3.14'",
     "output_type": "error",
     "traceback": [
      "\u001b[0;31m---------------------------------------------------------------------------\u001b[0m",
      "\u001b[0;31mValueError\u001b[0m                                Traceback (most recent call last)",
      "Cell \u001b[0;32mIn[77], line 1\u001b[0m\n\u001b[0;32m----> 1\u001b[0m \u001b[39mint\u001b[39;49m(\u001b[39m'\u001b[39;49m\u001b[39m--3.14\u001b[39;49m\u001b[39m'\u001b[39;49m)\n",
      "\u001b[0;31mValueError\u001b[0m: invalid literal for int() with base 10: '--3.14'"
     ]
    }
   ],
   "source": [
    "int('--3.14')"
   ]
  },
  {
   "cell_type": "code",
   "execution_count": 78,
   "id": "107ffe5a",
   "metadata": {},
   "outputs": [
    {
     "data": {
      "text/plain": [
       "4"
      ]
     },
     "execution_count": 78,
     "metadata": {},
     "output_type": "execute_result"
    }
   ],
   "source": [
    "int(--4.15)"
   ]
  },
  {
   "cell_type": "code",
   "execution_count": 79,
   "id": "d2af9647",
   "metadata": {},
   "outputs": [
    {
     "ename": "ValueError",
     "evalue": "could not convert string to float: 'a'",
     "output_type": "error",
     "traceback": [
      "\u001b[0;31m---------------------------------------------------------------------------\u001b[0m",
      "\u001b[0;31mValueError\u001b[0m                                Traceback (most recent call last)",
      "Cell \u001b[0;32mIn[79], line 1\u001b[0m\n\u001b[0;32m----> 1\u001b[0m \u001b[39mfloat\u001b[39;49m(\u001b[39m'\u001b[39;49m\u001b[39ma\u001b[39;49m\u001b[39m'\u001b[39;49m)\n",
      "\u001b[0;31mValueError\u001b[0m: could not convert string to float: 'a'"
     ]
    }
   ],
   "source": [
    "float('a')"
   ]
  },
  {
   "cell_type": "code",
   "execution_count": 80,
   "id": "b72081b6",
   "metadata": {},
   "outputs": [
    {
     "ename": "ZeroDivisionError",
     "evalue": "division by zero",
     "output_type": "error",
     "traceback": [
      "\u001b[0;31m---------------------------------------------------------------------------\u001b[0m",
      "\u001b[0;31mZeroDivisionError\u001b[0m                         Traceback (most recent call last)",
      "Cell \u001b[0;32mIn[80], line 1\u001b[0m\n\u001b[0;32m----> 1\u001b[0m \u001b[39m1\u001b[39;49m \u001b[39m/\u001b[39;49m \u001b[39m0\u001b[39;49m\n",
      "\u001b[0;31mZeroDivisionError\u001b[0m: division by zero"
     ]
    }
   ],
   "source": [
    "1 / 0"
   ]
  },
  {
   "cell_type": "code",
   "execution_count": null,
   "id": "28000cd6",
   "metadata": {},
   "outputs": [],
   "source": [
    "number = int(input(\"Enter an integer: \"))"
   ]
  },
  {
   "cell_type": "code",
   "execution_count": 81,
   "id": "6ef8ca53",
   "metadata": {},
   "outputs": [
    {
     "name": "stdout",
     "output_type": "stream",
     "text": [
      "That was not an integer\n",
      "10\n"
     ]
    }
   ],
   "source": [
    "try: # Спробуй запустити код, конструкція статична\n",
    "    number = int(input(\"Enter an integer: \"))\n",
    "except ValueError: # except, блок в який будуть падати помилку, у випадку їх виникнення буде альтернативне розгалуження \n",
    "    print(\"That was not an integer\")\n",
    "    number = 10 \n",
    "except ZeroDivisionError:\n",
    "    print('Div by zero')\n",
    "\n",
    "print(number)"
   ]
  },
  {
   "cell_type": "code",
   "execution_count": null,
   "id": "df9ea3ba",
   "metadata": {},
   "outputs": [],
   "source": [
    "1 / 0"
   ]
  },
  {
   "cell_type": "code",
   "execution_count": 83,
   "id": "b2f27174",
   "metadata": {},
   "outputs": [
    {
     "name": "stdout",
     "output_type": "stream",
     "text": [
      "Founded an error: division by zero\n"
     ]
    }
   ],
   "source": [
    "\n",
    "def divide(num1, num2):\n",
    "    try:\n",
    "        print(num1 / num2)\n",
    "    except ( ZeroDivisionError) as e:\n",
    "        print('Founded an error:', e)\n",
    "    except:\n",
    "        print('No found error')\n",
    "\n",
    "divide(1, 0)"
   ]
  },
  {
   "cell_type": "code",
   "execution_count": 85,
   "id": "f796ac42",
   "metadata": {},
   "outputs": [
    {
     "name": "stdout",
     "output_type": "stream",
     "text": [
      "Your input: 10\n",
      "Finally\n"
     ]
    }
   ],
   "source": [
    "# Catch all exceptions\n",
    "try:\n",
    "    number = int(input(\"Enter an integer: \"))\n",
    "except ValueError as e:\n",
    "    number = 10\n",
    "    print(f'Your input: {number}')\n",
    "except (TypeError, ZeroDivisionError) as e:\n",
    "    print(\"Something bad happened!\", e)\n",
    "except Exception : \n",
    "    print('except Exception', Exception)\n",
    "    \n",
    "print('Finally')"
   ]
  },
  {
   "cell_type": "code",
   "execution_count": 86,
   "id": "a4abb889",
   "metadata": {},
   "outputs": [],
   "source": [
    "x = -3"
   ]
  },
  {
   "cell_type": "code",
   "execution_count": null,
   "id": "73216ac9",
   "metadata": {},
   "outputs": [],
   "source": [
    "# Raise - можливість явно викликати помилку, може бути корисний для тестування або зупинення виконання програми "
   ]
  },
  {
   "cell_type": "code",
   "execution_count": 87,
   "id": "53b602f8",
   "metadata": {},
   "outputs": [
    {
     "ename": "ValueError",
     "evalue": "Sorry, no numbers below zero",
     "output_type": "error",
     "traceback": [
      "\u001b[0;31m---------------------------------------------------------------------------\u001b[0m",
      "\u001b[0;31mValueError\u001b[0m                                Traceback (most recent call last)",
      "Cell \u001b[0;32mIn[87], line 4\u001b[0m\n\u001b[1;32m      1\u001b[0m \u001b[39m# raise the exception manually\u001b[39;00m\n\u001b[1;32m      2\u001b[0m \u001b[39m# x = -10\u001b[39;00m\n\u001b[1;32m      3\u001b[0m \u001b[39mif\u001b[39;00m x \u001b[39m<\u001b[39m \u001b[39m0\u001b[39m:\n\u001b[0;32m----> 4\u001b[0m     \u001b[39mraise\u001b[39;00m \u001b[39mValueError\u001b[39;00m(\u001b[39m\"\u001b[39m\u001b[39mSorry, no numbers below zero\u001b[39m\u001b[39m\"\u001b[39m)\n",
      "\u001b[0;31mValueError\u001b[0m: Sorry, no numbers below zero"
     ]
    }
   ],
   "source": [
    "# raise the exception manually\n",
    "# x = -10\n",
    "if x < 0:\n",
    "    raise ValueError(\"Sorry, no numbers below zero\")\n",
    "    "
   ]
  },
  {
   "cell_type": "code",
   "execution_count": null,
   "id": "0ca47eec",
   "metadata": {},
   "outputs": [],
   "source": [
    "#### Module random"
   ]
  },
  {
   "cell_type": "code",
   "execution_count": 129,
   "id": "bf27f7a0",
   "metadata": {},
   "outputs": [],
   "source": [
    "import random as rd # дозволяє працювати з псевдорандом"
   ]
  },
  {
   "cell_type": "code",
   "execution_count": 131,
   "id": "f22a6757",
   "metadata": {},
   "outputs": [
    {
     "data": {
      "text/plain": [
       "7"
      ]
     },
     "execution_count": 131,
     "metadata": {},
     "output_type": "execute_result"
    }
   ],
   "source": [
    "rd.randint(4, 10) # Дозволяє повертати в діапозоні числа,  start: end, [  ]"
   ]
  },
  {
   "cell_type": "markdown",
   "id": "cf458e23",
   "metadata": {},
   "source": [
    "## Practice block 3:\n",
    "\n",
    "1. Write a function that simulate a dice roll and returns the result from 1 to 6.\n",
    "3. Simulate an election for two candidates. Program should take amount of regions and rating for 1st candidate in each region (in percentage). Program should run election in every region. In every region, program should ask 10 000 voters. Candidate count as a winner if he gains more than 50% of all votes. Program should print the result of t2. Write a function that simulate 10_000 rolls and returns the number of times that the dice roll for each value\n",
    "he election for each region and the winner\n",
    "\n",
    "    Example:\n",
    "\n",
    "    Enter number of regions: 2 \n",
    "\n",
    "    Enter rating for 1st candidate in each region: 34, 56\n",
    "\n",
    "    Region 1: 3456 votes for 1st candidate, 6544 votes for 2nd candidate\n",
    "\n",
    "    Region 2: 5623 votes for 1st candidate, 4356 votes for 2nd candidate\n",
    "\n",
    "    Result: 2nd candidate won with 10900 votes and 54.5% of all votes\n"
   ]
  },
  {
   "cell_type": "code",
   "execution_count": null,
   "id": "d758fa09",
   "metadata": {},
   "outputs": [],
   "source": [
    "### Tuple"
   ]
  },
  {
   "cell_type": "code",
   "execution_count": 36,
   "id": "eb1500aa",
   "metadata": {},
   "outputs": [
    {
     "data": {
      "text/plain": [
       "tuple"
      ]
     },
     "execution_count": 36,
     "metadata": {},
     "output_type": "execute_result"
    }
   ],
   "source": [
    "tuple_example = ((1, 2, 3, (6,7)), 4, 5)\n",
    "type(tuple_example)"
   ]
  },
  {
   "cell_type": "code",
   "execution_count": 39,
   "id": "6d9c3db6",
   "metadata": {},
   "outputs": [
    {
     "name": "stdout",
     "output_type": "stream",
     "text": [
      "6\n"
     ]
    }
   ],
   "source": [
    "print(tuple_example[0][-1][0], tuple_example)"
   ]
  },
  {
   "cell_type": "code",
   "execution_count": 40,
   "id": "c9648894",
   "metadata": {},
   "outputs": [
    {
     "data": {
      "text/plain": [
       "(1, '2', True, [1, 2, 3])"
      ]
     },
     "execution_count": 40,
     "metadata": {},
     "output_type": "execute_result"
    }
   ],
   "source": [
    "tuple_second = (1, '2', True, [1,2,3])\n",
    "tuple_second"
   ]
  },
  {
   "cell_type": "code",
   "execution_count": 41,
   "id": "42711120",
   "metadata": {},
   "outputs": [
    {
     "data": {
      "text/plain": [
       "()"
      ]
     },
     "execution_count": 41,
     "metadata": {},
     "output_type": "execute_result"
    }
   ],
   "source": [
    "empty_tuple = ()\n",
    "empty_tuple"
   ]
  },
  {
   "cell_type": "code",
   "execution_count": 42,
   "id": "3acfb24f",
   "metadata": {},
   "outputs": [
    {
     "data": {
      "text/plain": [
       "int"
      ]
     },
     "execution_count": 42,
     "metadata": {},
     "output_type": "execute_result"
    }
   ],
   "source": [
    "t = (1) # Що поверне?\n",
    "type(t)"
   ]
  },
  {
   "cell_type": "code",
   "execution_count": 43,
   "id": "60cf5528",
   "metadata": {},
   "outputs": [
    {
     "data": {
      "text/plain": [
       "tuple"
      ]
     },
     "execution_count": 43,
     "metadata": {},
     "output_type": "execute_result"
    }
   ],
   "source": [
    "t = (1,)\n",
    "type(t)"
   ]
  },
  {
   "cell_type": "code",
   "execution_count": 45,
   "id": "969e0197",
   "metadata": {},
   "outputs": [
    {
     "data": {
      "text/plain": [
       "tuple"
      ]
     },
     "execution_count": 45,
     "metadata": {},
     "output_type": "execute_result"
    }
   ],
   "source": [
    "t = 1,2, 3\n",
    "type(t)"
   ]
  },
  {
   "cell_type": "code",
   "execution_count": 46,
   "id": "d172f624",
   "metadata": {},
   "outputs": [
    {
     "data": {
      "text/plain": [
       "((1, 2), 2, (3, 4))"
      ]
     },
     "execution_count": 46,
     "metadata": {},
     "output_type": "execute_result"
    }
   ],
   "source": [
    "t2 = (1, 2), 2, (3, 4)\n",
    "t2"
   ]
  },
  {
   "cell_type": "code",
   "execution_count": 47,
   "id": "4d8b3800",
   "metadata": {},
   "outputs": [
    {
     "data": {
      "text/plain": [
       "tuple"
      ]
     },
     "execution_count": 47,
     "metadata": {},
     "output_type": "execute_result"
    }
   ],
   "source": [
    "t = ()\n",
    "type(t)"
   ]
  },
  {
   "cell_type": "code",
   "execution_count": 66,
   "id": "cd36d35a",
   "metadata": {},
   "outputs": [
    {
     "name": "stdout",
     "output_type": "stream",
     "text": [
      "() <class 'tuple'>\n"
     ]
    }
   ],
   "source": [
    "_tuple = tuple()\n",
    "print(_tuple, type(_tuple))"
   ]
  },
  {
   "cell_type": "code",
   "execution_count": 49,
   "id": "2f8c44b5",
   "metadata": {},
   "outputs": [
    {
     "data": {
      "text/plain": [
       "3"
      ]
     },
     "execution_count": 49,
     "metadata": {},
     "output_type": "execute_result"
    }
   ],
   "source": [
    "len(tuple_example)"
   ]
  },
  {
   "cell_type": "code",
   "execution_count": 53,
   "id": "e25d4782",
   "metadata": {},
   "outputs": [
    {
     "name": "stdout",
     "output_type": "stream",
     "text": [
      "((1, 2, 3, (6, 7)), 4, 5)\n",
      "6\n"
     ]
    }
   ],
   "source": [
    "print(tuple_example)\n",
    "print(tuple_example[0][-1][0])"
   ]
  },
  {
   "cell_type": "code",
   "execution_count": 51,
   "id": "8dfb835a",
   "metadata": {},
   "outputs": [
    {
     "name": "stdout",
     "output_type": "stream",
     "text": [
      "(4, 5)\n"
     ]
    }
   ],
   "source": [
    "print(tuple_example[1:3])"
   ]
  },
  {
   "cell_type": "code",
   "execution_count": 52,
   "id": "94d7bbb5",
   "metadata": {},
   "outputs": [
    {
     "data": {
      "text/plain": [
       "((1, 2, 3, (6, 7)), 4, 5)"
      ]
     },
     "execution_count": 52,
     "metadata": {},
     "output_type": "execute_result"
    }
   ],
   "source": [
    "tuple_example"
   ]
  },
  {
   "cell_type": "code",
   "execution_count": 54,
   "id": "87d4c58d",
   "metadata": {},
   "outputs": [
    {
     "ename": "TypeError",
     "evalue": "'tuple' object does not support item assignment",
     "output_type": "error",
     "traceback": [
      "\u001b[0;31m---------------------------------------------------------------------------\u001b[0m",
      "\u001b[0;31mTypeError\u001b[0m                                 Traceback (most recent call last)",
      "Cell \u001b[0;32mIn[54], line 1\u001b[0m\n\u001b[0;32m----> 1\u001b[0m tuple_example[\u001b[39m2\u001b[39;49m] \u001b[39m=\u001b[39m \u001b[39m10\u001b[39m\n",
      "\u001b[0;31mTypeError\u001b[0m: 'tuple' object does not support item assignment"
     ]
    }
   ],
   "source": [
    "tuple_example[2] = 10"
   ]
  },
  {
   "cell_type": "code",
   "execution_count": null,
   "id": "241ec46c",
   "metadata": {},
   "outputs": [],
   "source": [
    "tuple2 = (1,2,3,4,5)"
   ]
  },
  {
   "cell_type": "code",
   "execution_count": null,
   "id": "0967696f",
   "metadata": {},
   "outputs": [],
   "source": [
    "tutple_1 =  ('september', 'october', 'november')\n",
    "\n",
    "#long_month = (1, 3, 5, 7, 8)\n",
    "#if month in long_month:\n",
    "#    pass\n",
    "    # do something"
   ]
  },
  {
   "cell_type": "code",
   "execution_count": 61,
   "id": "f26c8bf8",
   "metadata": {},
   "outputs": [
    {
     "name": "stdout",
     "output_type": "stream",
     "text": [
      "((1, 2, 3, (6, 7)), 4, 5)\n",
      "Element  with index 0 is (1, 2, 3, (6, 7))\n",
      "Element  with index 1 is 4\n",
      "Element  with index 2 is 5\n"
     ]
    }
   ],
   "source": [
    "print(tuple_example)\n",
    "for i in range(0, len(tuple_example)):\n",
    "    print(f'Element  with index {i} is {tuple_example[i]}')"
   ]
  },
  {
   "cell_type": "code",
   "execution_count": null,
   "id": "2e14e5d3",
   "metadata": {},
   "outputs": [],
   "source": []
  },
  {
   "cell_type": "markdown",
   "id": "4cb59998",
   "metadata": {},
   "source": [
    "## Practice block 4\n",
    "\n",
    "1. Create a tuple with your first name, last name, and age.\n",
    "2. Print your last name using indexing.\n",
    "3. Create three variables in one line that extracted from tuple that you created in step 1.\n",
    "4. Print your name letter by letter from this tuple\n",
    "5. Create a new tuple that contains all info from the first tuple but remove first letter from all strings\n",
    "6. Create a tuple with two values. First one is (1, 2), second one is (3, 4).\n",
    "7. Create a program that calculates the sum of all values in the tuple and print it to the console."
   ]
  }
 ],
 "metadata": {
  "kernelspec": {
   "display_name": "Python 3.11.1 64-bit",
   "language": "python",
   "name": "python3"
  },
  "language_info": {
   "codemirror_mode": {
    "name": "ipython",
    "version": 3
   },
   "file_extension": ".py",
   "mimetype": "text/x-python",
   "name": "python",
   "nbconvert_exporter": "python",
   "pygments_lexer": "ipython3",
   "version": "3.11.1"
  },
  "vscode": {
   "interpreter": {
    "hash": "de47f5c92c0ee6f12a59a5613ac5feff6aab19ddff207ba0b3964cced08c4ccc"
   }
  }
 },
 "nbformat": 4,
 "nbformat_minor": 5
}
