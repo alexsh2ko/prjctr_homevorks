{
 "cells": [
  {
   "attachments": {},
   "cell_type": "markdown",
   "id": "2e91cced",
   "metadata": {},
   "source": [
    "### Lesson 15-16. Date: 01.04. OOP - Inheritance and more\n",
    "> Topic:\n",
    "> 1. Child/Parent class\n",
    "> 2. Object class\n",
    "> 3. Inheritance and Composition\n",
    "\n",
    "> Materials:\n",
    "> 1. [Class](https://realpython.com/python3-object-oriented-programming/)\n",
    "> 2. [Inheritance and Composition](https://realpython.com/inheritance-composition-python/)\n",
    "> 3. [SOLID](https://www.google.com/search?client=safari&rls=en&q=solid&ie=UTF-8&oe=UTF-8)\n",
    "> 4. [Liskov](https://reflectoring.io/lsp-explained/)"
   ]
  },
  {
   "cell_type": "markdown",
   "id": "c751fbc6",
   "metadata": {},
   "source": [
    "## Inherit from another class\n",
    "\n",
    "### What is inheritance\n",
    "\n",
    "1. Child class\n",
    "2. Parent class\n",
    "3. Object class\n",
    "\n",
    "## \n",
    "\n",
    "1. Override\n",
    "2. Inherit"
   ]
  },
  {
   "cell_type": "code",
   "execution_count": null,
   "id": "a138b16a",
   "metadata": {},
   "outputs": [],
   "source": [
    "# Add code fo complete code\n",
    "# Create class wit attr class MIN_SALARY \n",
    "___ Employee:\n",
    "    '''\n",
    "    Class represent Employee\n",
    "    \n",
    "    Attribute:\n",
    "    - name (str): name employees\n",
    "    - salary (int): salary represent\n",
    "    - MIN_SALARY (int): minimum salary for employee (class atr)\n",
    "    '''\n",
    "    ___ = 20000 # Best practise, class attr write in uppercase\n",
    "    \n",
    "    # create constructor \n",
    "    def ___ (___, name, salary = MIN_SALARY):\n",
    "        ___.name = name\n",
    "        ___.salary = salary if salary > MIN_SALARY else MIN_SALARY\n",
    "    \n",
    "    # add function that print info about Employee\n",
    "    def display(___):\n",
    "        print(f'Name of Employee: {name}\\nSalary is {salary}\\nMin salary in company {MIN_SALARY}')\n"
   ]
  },
  {
   "cell_type": "code",
   "execution_count": 25,
   "id": "475a29f0",
   "metadata": {},
   "outputs": [],
   "source": [
    "# Add code fo complete code\n",
    "# Create class wit attr class MIN_SALARY \n",
    "class Employee:\n",
    "    '''\n",
    "    Class represent Employee\n",
    "    \n",
    "    Attribute:\n",
    "    - name (str): name employees\n",
    "    - salary (int): salary represent\n",
    "    - MIN_SALARY (int): minimum salary for employee (class atr)\n",
    "    '''\n",
    "    MIN_SALARY = 20000 # Best practise, class attr write in uppercase\n",
    "    \n",
    "    # create constructor \n",
    "    def __init__(self, name, salary = MIN_SALARY):\n",
    "        self.name = name\n",
    "        self.salary = salary if salary > Employee.MIN_SALARY else Employee.MIN_SALARY\n",
    "    \n",
    "    \n",
    "    # add function that print info about Employee\n",
    "    def display(self):\n",
    "        print(f'Name of Employee: {self.name}\\nSalary is {self.salary}\\nMin salary in company {self.MIN_SALARY}')\n"
   ]
  },
  {
   "cell_type": "code",
   "execution_count": 35,
   "id": "2ee00b24",
   "metadata": {},
   "outputs": [
    {
     "name": "stdout",
     "output_type": "stream",
     "text": [
      "\n",
      "    Class represent Employee\n",
      "    \n",
      "    Attribute:\n",
      "    - name (str): name employees\n",
      "    - salary (int): salary represent\n",
      "    - MIN_SALARY (int): minimum salary for employee (class atr)\n",
      "    \n",
      "Name of Employee: User1\n",
      "Salary is 15000\n",
      "Min salary in company 15000\n",
      "None\n",
      "&&&&&&&&&&&&&&&&&&&&&&&&&&&&&&&&&&&&&&&&&&&&&&&&&&\n",
      "Name of Employee: User2\n",
      "Salary is 25000\n",
      "Min salary in company 15000\n",
      "Name of Employee: User3\n",
      "Salary is 30000\n",
      "Min salary in company 15000\n",
      "None\n",
      "None\n",
      "15000\n",
      "Name of Employee: User1\n",
      "Salary is 15000\n",
      "Min salary in company 15000\n",
      "Name of Employee: User2\n",
      "Salary is 25000\n",
      "Min salary in company 15000\n",
      "Name of Employee: User3\n",
      "Salary is 30000\n",
      "Min salary in company 15000\n",
      "None None None\n"
     ]
    }
   ],
   "source": [
    "# create obj Employee \n",
    "\n",
    "user_1 = Employee('User1', 15000)\n",
    "\n",
    "# print doc-string for class\n",
    "print(Employee.__doc__)\n",
    "\n",
    "# print display info for user_1\n",
    "print(user_1.display())\n",
    "\n",
    "# create some_attr for user_1 \n",
    "user_1.some_attr = 10\n",
    "\n",
    "# create obj user_2, user_3 \n",
    "user_2 = Employee('User2', 25000)\n",
    "user_3 = Employee('User3', 30000)\n",
    "\n",
    "print('&' * 50)\n",
    "# print user_2, user_3 \n",
    "print(user_2.display(), user_3.display(), sep = '\\n')\n",
    "\n",
    "# change for class MIN salary and print it\n",
    "Employee.MIN_SALARY = 15000\n",
    "\n",
    "print(Employee.MIN_SALARY)\n",
    "\n",
    "# print user_1, user_2, user_3 by using display\n",
    "print(user_1.display(), user_2.display(), user_3.display())"
   ]
  },
  {
   "attachments": {},
   "cell_type": "markdown",
   "id": "e623a6c5",
   "metadata": {},
   "source": [
    "#### OOP \n",
    "**Object** = state + behavior\n",
    "\n",
    "**Class** - bluprint for object\n",
    "\n",
    "Main definition:\n",
    "> **Attribute**  - state or sets of value \\\n",
    "> **Method** - function class , to explain behavior\n",
    "\n",
    "Simple class:\n",
    "\n",
    "class : key-word to create a class \n",
    "name_of_class : name of class, write in capit\n",
    "\n",
    "class <name>:\n",
    "    # block class\n",
    "    ATTR = 30 # Some class atrr, for all object\n",
    "\n",
    "    # Methods - have self param\n",
    "    def <name>(self, arg1, arg2, .. etc):\n",
    "        # block of code\n",
    "\n",
    "<name_of_var> = class_name(param1, param2) # create object"
   ]
  },
  {
   "attachments": {},
   "cell_type": "markdown",
   "id": "1b821268",
   "metadata": {},
   "source": [
    "Use OOP for:\n",
    "> 1. **Code Reuse**\n",
    "> 2. **Create Custom** type of data\n",
    "> 3. **DRY** - Don't Repeat Yourself\n",
    "\n",
    "**Constructor**: \n",
    "> __init__(self) - for create object with parameter \\\n",
    "> @classmethod - alternative conctructor\n"
   ]
  },
  {
   "cell_type": "code",
   "execution_count": 36,
   "id": "c0012810",
   "metadata": {},
   "outputs": [],
   "source": [
    "class Country(object):\n",
    "    pass\n",
    "\n",
    "# the same as\n",
    "\n",
    "class Country:\n",
    "    pass "
   ]
  },
  {
   "cell_type": "code",
   "execution_count": 37,
   "id": "20576183",
   "metadata": {},
   "outputs": [
    {
     "data": {
      "text/plain": [
       "True"
      ]
     },
     "execution_count": 37,
     "metadata": {},
     "output_type": "execute_result"
    }
   ],
   "source": [
    "isinstance(object, object)"
   ]
  },
  {
   "cell_type": "code",
   "execution_count": 38,
   "id": "1a901c7b",
   "metadata": {},
   "outputs": [
    {
     "name": "stdout",
     "output_type": "stream",
     "text": [
      "True\n"
     ]
    }
   ],
   "source": [
    "c = Country()\n",
    "\n",
    "print(isinstance(c, object))"
   ]
  },
  {
   "cell_type": "code",
   "execution_count": 39,
   "id": "4d6bca8e",
   "metadata": {},
   "outputs": [
    {
     "name": "stdout",
     "output_type": "stream",
     "text": [
      "True\n"
     ]
    }
   ],
   "source": [
    "print(isinstance(None, object))"
   ]
  },
  {
   "cell_type": "markdown",
   "id": "37c031ca",
   "metadata": {},
   "source": [
    "#### Parent vs Child class"
   ]
  },
  {
   "attachments": {},
   "cell_type": "markdown",
   "id": "4303151d",
   "metadata": {},
   "source": [
    "**Inheritance**: New_Class = Old_class + extra function(Polimor)\n",
    "\n",
    "**Declare**:  \n",
    "   > class \\<child>(\\<parent1>, \\<parent2>, etc): \\\n",
    "   >>     block of code \n",
    "\n",
    "> **\"is - a\"** relationships\n",
    "        "
   ]
  },
  {
   "cell_type": "code",
   "execution_count": 67,
   "id": "ca8224fb",
   "metadata": {},
   "outputs": [],
   "source": [
    "class Country(object):\n",
    "    system = 'Common system' \n",
    "    \n",
    "    def __init__(self, name, population):\n",
    "        self.name = name\n",
    "        self.population = population\n",
    "\n",
    "    # magic method\n",
    "    def __str__(self):\n",
    "        return f'Country: {self.name} with population {self.population}'\n",
    "\n",
    "    def make_declaration(self, speech):\n",
    "        return f'{self.name} declare: {speech}'"
   ]
  },
  {
   "cell_type": "code",
   "execution_count": 41,
   "id": "8f755e40",
   "metadata": {},
   "outputs": [],
   "source": [
    "class Republic(Country):\n",
    "    pass"
   ]
  },
  {
   "cell_type": "code",
   "execution_count": 42,
   "id": "69b08994",
   "metadata": {},
   "outputs": [],
   "source": [
    "congo = Republic('Congo', 5_000_000)"
   ]
  },
  {
   "cell_type": "code",
   "execution_count": 43,
   "id": "2491f5fb",
   "metadata": {},
   "outputs": [
    {
     "data": {
      "text/plain": [
       "5000000"
      ]
     },
     "execution_count": 43,
     "metadata": {},
     "output_type": "execute_result"
    }
   ],
   "source": [
    "congo.population"
   ]
  },
  {
   "cell_type": "code",
   "execution_count": 44,
   "id": "f7399d77",
   "metadata": {},
   "outputs": [
    {
     "data": {
      "text/plain": [
       "'Congo'"
      ]
     },
     "execution_count": 44,
     "metadata": {},
     "output_type": "execute_result"
    }
   ],
   "source": [
    "congo.name"
   ]
  },
  {
   "cell_type": "code",
   "execution_count": 45,
   "id": "270ba164",
   "metadata": {},
   "outputs": [
    {
     "data": {
      "text/plain": [
       "'Common system'"
      ]
     },
     "execution_count": 45,
     "metadata": {},
     "output_type": "execute_result"
    }
   ],
   "source": [
    "congo.system"
   ]
  },
  {
   "cell_type": "code",
   "execution_count": 46,
   "id": "1f35df86",
   "metadata": {},
   "outputs": [
    {
     "name": "stdout",
     "output_type": "stream",
     "text": [
      "Country: Congo with population 5000000\n"
     ]
    }
   ],
   "source": [
    "print(congo)"
   ]
  },
  {
   "cell_type": "code",
   "execution_count": 47,
   "id": "68958e6b",
   "metadata": {},
   "outputs": [],
   "source": [
    "class Republic(Country):\n",
    "    system = 'Republic system' # Змінили атрибут классу\n",
    "    test_new_attr = 'New value'\n",
    "\n",
    "class Federation(Country):\n",
    "    system = 'Federation system' "
   ]
  },
  {
   "cell_type": "code",
   "execution_count": 48,
   "id": "e5ec79ec",
   "metadata": {},
   "outputs": [],
   "source": [
    "germany = Federation('Germany', 80_000_000)\n",
    "korea = Republic('Korea', 50_000_000)"
   ]
  },
  {
   "cell_type": "code",
   "execution_count": 49,
   "id": "68e22976",
   "metadata": {},
   "outputs": [
    {
     "name": "stdout",
     "output_type": "stream",
     "text": [
      "Germany:  Federation system Name: Germany\n",
      "Korea:  Republic system Name: Korea\n"
     ]
    }
   ],
   "source": [
    "print('Germany: ', germany.system, 'Name:', germany.name)\n",
    "print('Korea: ', korea.system, 'Name:', korea.name)"
   ]
  },
  {
   "cell_type": "code",
   "execution_count": null,
   "id": "677153d8",
   "metadata": {},
   "outputs": [],
   "source": [
    "korea"
   ]
  },
  {
   "cell_type": "code",
   "execution_count": 50,
   "id": "0512af55",
   "metadata": {},
   "outputs": [
    {
     "name": "stdout",
     "output_type": "stream",
     "text": [
      "New value\n"
     ]
    }
   ],
   "source": [
    "print(korea.test_new_attr)"
   ]
  },
  {
   "cell_type": "code",
   "execution_count": 51,
   "id": "6cdfd5d8",
   "metadata": {},
   "outputs": [
    {
     "name": "stdout",
     "output_type": "stream",
     "text": [
      "['__class__', '__delattr__', '__dict__', '__dir__', '__doc__', '__eq__', '__format__', '__ge__', '__getattribute__', '__getstate__', '__gt__', '__hash__', '__init__', '__init_subclass__', '__le__', '__lt__', '__module__', '__ne__', '__new__', '__reduce__', '__reduce_ex__', '__repr__', '__setattr__', '__sizeof__', '__str__', '__subclasshook__', '__weakref__', 'make_declaration', 'name', 'population', 'system', 'test_new_attr']\n"
     ]
    }
   ],
   "source": [
    "print(dir(korea))"
   ]
  },
  {
   "cell_type": "code",
   "execution_count": null,
   "id": "b3c0133b",
   "metadata": {},
   "outputs": [],
   "source": [
    "print(type(germany))"
   ]
  },
  {
   "cell_type": "code",
   "execution_count": 55,
   "id": "87561a2d",
   "metadata": {},
   "outputs": [
    {
     "name": "stdout",
     "output_type": "stream",
     "text": [
      "True\n",
      "False\n",
      "True\n",
      "True\n"
     ]
    }
   ],
   "source": [
    "# Питання, що поверне?\n",
    "print(isinstance(germany, Federation))\n",
    "print(isinstance(germany, Republic))\n",
    "print(isinstance(germany, Country))\n",
    "print(isinstance(germany, object))"
   ]
  },
  {
   "cell_type": "markdown",
   "id": "bc6f7617",
   "metadata": {},
   "source": [
    "### Extending functionality of a parent class"
   ]
  },
  {
   "cell_type": "code",
   "execution_count": 70,
   "id": "ac05881e",
   "metadata": {},
   "outputs": [],
   "source": [
    "class Empire(Country):\n",
    "    system = 'Empire system'\n",
    "    \n",
    "    def __init__(self, name, population, lifetime):\n",
    "        super().__init__(name, population)\n",
    "        self.lifetime = lifetime\n",
    "    \n",
    "    def fail(self):\n",
    "        declaration = super().make_declaration('We fail!')\n",
    "        print(declaration)\n",
    "        print('The end')\n",
    "        print('¯7_(ツ)_/¯')"
   ]
  },
  {
   "cell_type": "code",
   "execution_count": 68,
   "id": "8b448328",
   "metadata": {},
   "outputs": [
    {
     "name": "stdout",
     "output_type": "stream",
     "text": [
      "Some empire declare: We fail!\n",
      "The end\n",
      "¯7_(ツ)_/¯\n"
     ]
    }
   ],
   "source": [
    "some_empire = Empire('Some empire', 300_000_00, 30)\n",
    "some_empire.fail()"
   ]
  },
  {
   "cell_type": "markdown",
   "id": "eafbc6cc",
   "metadata": {},
   "source": [
    "## Multiple inheritance"
   ]
  },
  {
   "cell_type": "code",
   "execution_count": 71,
   "id": "4ea96246",
   "metadata": {},
   "outputs": [],
   "source": [
    "class A():\n",
    "    pass\n",
    "\n",
    "class B():\n",
    "    pass\n",
    "\n",
    "class C(A, B):\n",
    "    pass"
   ]
  },
  {
   "cell_type": "code",
   "execution_count": null,
   "id": "0fe92b11",
   "metadata": {},
   "outputs": [],
   "source": []
  },
  {
   "cell_type": "code",
   "execution_count": 72,
   "id": "fba4a1cf",
   "metadata": {},
   "outputs": [],
   "source": [
    "class A:\n",
    "    pass\n",
    "\n",
    "class B(A):\n",
    "    pass\n",
    "\n",
    "class C(B):\n",
    "    pass"
   ]
  },
  {
   "cell_type": "code",
   "execution_count": null,
   "id": "be53188f",
   "metadata": {},
   "outputs": [],
   "source": []
  },
  {
   "cell_type": "code",
   "execution_count": 78,
   "id": "213e0d73",
   "metadata": {},
   "outputs": [],
   "source": [
    "class A:\n",
    "    pass\n",
    "\n",
    "class B(A):\n",
    "    pass\n",
    "\n",
    "class C(A):\n",
    "    pass\n",
    "\n",
    "class D(B, C):\n",
    "    pass\n",
    "\n",
    "\n",
    "#mro = [D, B, C, A]\n"
   ]
  },
  {
   "attachments": {},
   "cell_type": "markdown",
   "id": "c3112bbb",
   "metadata": {},
   "source": [
    "#### MRO - method resolution order(C3 Linearization)"
   ]
  },
  {
   "cell_type": "code",
   "execution_count": 80,
   "id": "f882e7bc",
   "metadata": {},
   "outputs": [
    {
     "name": "stdout",
     "output_type": "stream",
     "text": [
      "Help on class D in module __main__:\n",
      "\n",
      "class D(B, C)\n",
      " |  Method resolution order:\n",
      " |      D\n",
      " |      B\n",
      " |      C\n",
      " |      A\n",
      " |      builtins.object\n",
      " |  \n",
      " |  Data descriptors inherited from A:\n",
      " |  \n",
      " |  __dict__\n",
      " |      dictionary for instance variables (if defined)\n",
      " |  \n",
      " |  __weakref__\n",
      " |      list of weak references to the object (if defined)\n",
      "\n"
     ]
    }
   ],
   "source": [
    "help(D)"
   ]
  },
  {
   "cell_type": "code",
   "execution_count": 79,
   "id": "65ae1359",
   "metadata": {},
   "outputs": [
    {
     "data": {
      "text/plain": [
       "[__main__.D, __main__.B, __main__.C, __main__.A, object]"
      ]
     },
     "execution_count": 79,
     "metadata": {},
     "output_type": "execute_result"
    }
   ],
   "source": [
    "D.mro() # display mro for class"
   ]
  },
  {
   "cell_type": "markdown",
   "id": "2e84effc",
   "metadata": {},
   "source": [
    "#### Composition"
   ]
  },
  {
   "cell_type": "code",
   "execution_count": 81,
   "id": "95d2dc6f",
   "metadata": {},
   "outputs": [],
   "source": [
    "class Statement:\n",
    "    pass\n",
    "\n",
    "class Law(Statement):\n",
    "    pass\n",
    "\n",
    "class Union:\n",
    "    def __init__(self, creation_date: int, countries: list[Country], law: Law):\n",
    "        self.countries  = countries\n",
    "        self.law = law\n",
    "        self.creation_date = creation_date\n",
    "    \n"
   ]
  },
  {
   "cell_type": "code",
   "execution_count": null,
   "id": "4ca0daf9",
   "metadata": {},
   "outputs": [],
   "source": []
  },
  {
   "cell_type": "code",
   "execution_count": 82,
   "id": "4c600542",
   "metadata": {},
   "outputs": [],
   "source": [
    "class Wheel:\n",
    "    pass\n",
    "\n",
    "class Vehicle:\n",
    "    pass\n",
    "\n",
    "class Ship(Vehicle):\n",
    "    pass\n",
    "\n",
    "class Bus(Vehicle):\n",
    "    def __init__(self, wheels: list[Wheel]):\n",
    "        self.wheels = wheels\n"
   ]
  },
  {
   "cell_type": "code",
   "execution_count": 84,
   "id": "73c3180b",
   "metadata": {},
   "outputs": [
    {
     "name": "stdout",
     "output_type": "stream",
     "text": [
      "Member number: 1 country.name: Germany\n",
      "Member number: 2 country.name: Spain\n",
      "Created an union on 1956\n"
     ]
    }
   ],
   "source": [
    "spain = Country('Spain', 44_000_000)\n",
    "eu_law = Law()\n",
    "european_union = Union(1956, [germany, spain], eu_law)\n",
    "european_union2 = Union(1956, [germany, spain], eu_law)\n",
    "\n",
    "for i, country in enumerate(european_union.countries):\n",
    "    print(f'Member number: {i+1} country.name: {country.name}')\n",
    "    \n",
    "print(f'Created an union on {european_union.creation_date}')\n"
   ]
  },
  {
   "cell_type": "code",
   "execution_count": null,
   "id": "e4a07a80",
   "metadata": {},
   "outputs": [],
   "source": []
  },
  {
   "cell_type": "code",
   "execution_count": 85,
   "id": "68618323",
   "metadata": {},
   "outputs": [],
   "source": [
    "## Rectangle vs Square ?\n",
    "\n",
    "class Rectangle:\n",
    "    def __init__(self, length, height):\n",
    "        self._length = length\n",
    "        self._height = height\n",
    "\n",
    "    @property\n",
    "    def area(self):\n",
    "        return self._length * self._height"
   ]
  },
  {
   "cell_type": "code",
   "execution_count": 86,
   "id": "d720f53c",
   "metadata": {},
   "outputs": [],
   "source": [
    "class Square(Rectangle):\n",
    "    def __init__(self, side_size):\n",
    "        super().__init__(side_size, side_size)"
   ]
  },
  {
   "cell_type": "code",
   "execution_count": 87,
   "id": "1a13a15a",
   "metadata": {},
   "outputs": [],
   "source": [
    "s = Square(3)"
   ]
  },
  {
   "cell_type": "code",
   "execution_count": 88,
   "id": "62022258",
   "metadata": {},
   "outputs": [
    {
     "name": "stdout",
     "output_type": "stream",
     "text": [
      "9\n"
     ]
    }
   ],
   "source": [
    "print(s.area)"
   ]
  },
  {
   "cell_type": "code",
   "execution_count": 91,
   "id": "2135f93e",
   "metadata": {},
   "outputs": [],
   "source": [
    "rectangle = Rectangle(2, 4)"
   ]
  },
  {
   "cell_type": "code",
   "execution_count": 93,
   "id": "6ed16c7a",
   "metadata": {},
   "outputs": [],
   "source": [
    "assert rectangle.area == 8"
   ]
  },
  {
   "cell_type": "code",
   "execution_count": 95,
   "id": "c5942f95",
   "metadata": {},
   "outputs": [],
   "source": [
    "square = Square(2)\n",
    "assert square.area == 4"
   ]
  },
  {
   "cell_type": "code",
   "execution_count": null,
   "id": "7e637a56",
   "metadata": {},
   "outputs": [],
   "source": []
  },
  {
   "cell_type": "code",
   "execution_count": 96,
   "id": "f78c9df7",
   "metadata": {},
   "outputs": [],
   "source": [
    "class Rectangle:\n",
    "    def __init__(self, length, height):\n",
    "        self._length = length\n",
    "        self._height = height\n",
    "\n",
    "    @property\n",
    "    def area(self):\n",
    "        return self._length * self._height\n",
    "    \n",
    "    # Додаємо resize \n",
    "    def resize(self, new_length, new_height):\n",
    "        self._length = new_length\n",
    "        self._height = new_height\n",
    "        \n",
    "\n",
    "class Square(Rectangle):\n",
    "    def __init__(self, side_size):\n",
    "        super().__init__(side_size, side_size)"
   ]
  },
  {
   "cell_type": "code",
   "execution_count": 97,
   "id": "19de64c7",
   "metadata": {},
   "outputs": [
    {
     "name": "stdout",
     "output_type": "stream",
     "text": [
      "True\n"
     ]
    }
   ],
   "source": [
    "rectangle = Rectangle(2, 4)\n",
    "\n",
    "rectangle.resize(3, 5)\n",
    "print(rectangle.area == 15)"
   ]
  },
  {
   "cell_type": "code",
   "execution_count": 98,
   "id": "e4c8c9ba",
   "metadata": {},
   "outputs": [
    {
     "name": "stdout",
     "output_type": "stream",
     "text": [
      "Square area: 15\n"
     ]
    }
   ],
   "source": [
    "square = Square(2) # Проблема\n",
    "square.resize(3, 5)\n",
    "print(f'Square area: {square.area}')"
   ]
  },
  {
   "cell_type": "code",
   "execution_count": 105,
   "id": "300d8958",
   "metadata": {},
   "outputs": [],
   "source": [
    "# Змінити \n",
    "class Square:\n",
    "    def __init__(self, length):\n",
    "        self._length = length\n",
    "\n",
    "    @property\n",
    "    def area(self):\n",
    "        return self._length * self._length\n",
    "    \n",
    "        \n",
    "class Rectangle(Square):\n",
    "    def __init__(self, length, weight):\n",
    "        super().__init__(length)\n",
    "        self.weight = weight\n",
    "        \n",
    "    @property \n",
    "    def area(self):\n",
    "        return self.length * self.weight\n",
    "        "
   ]
  },
  {
   "cell_type": "code",
   "execution_count": 106,
   "id": "4d0789e2",
   "metadata": {},
   "outputs": [
    {
     "name": "stdout",
     "output_type": "stream",
     "text": [
      "4\n"
     ]
    }
   ],
   "source": [
    "square = Square(2)\n",
    "print(square.area)\n",
    "res = Rectangle(3, 5)\n",
    "#print(res.area)"
   ]
  },
  {
   "cell_type": "markdown",
   "id": "f3ce15fc",
   "metadata": {},
   "source": [
    "1. Liskov principle is a principle that states that if S is a subtype of T, then objects of type T can be replaced with objects of type S without altering the correctness of the program. \n",
    "\n",
    "After that, we should evaluate the following principles:\n",
    "\n",
    "**Evaluate B is an A:** Think about this relationship and justify it. Does it make sense?\n",
    "\n",
    "**Evaluate A is a B:** Reverse the relationship and justify it. Does it also make sense?\n",
    "\n",
    "If you can justify both relationships, then you should never inherit those classes from one another.\n"
   ]
  },
  {
   "cell_type": "code",
   "execution_count": null,
   "id": "ae7ae54a",
   "metadata": {},
   "outputs": [],
   "source": [
    "class Mark:\n",
    "    pass\n",
    "\n",
    "class Student:\n",
    "    def __init__(self, marks: list[Mark]) -> None:\n",
    "        self.marks = marks"
   ]
  },
  {
   "cell_type": "code",
   "execution_count": null,
   "id": "5f3d1505",
   "metadata": {},
   "outputs": [],
   "source": [
    "\n"
   ]
  },
  {
   "cell_type": "markdown",
   "id": "519a48e1",
   "metadata": {},
   "source": [
    "## Practice\n",
    "\n",
    "1. Write a Python class named Circle constructed by a radius and two methods which will compute the area and the perimeter of a circle.\n",
    "2. Write a Python program to crate two empty classes, Student and Marks. Now create some instances and check whether they are instances of the said classes or not. Also, check whether the said classes are subclasses of the built-in object class or not.\n",
    "3. A Bank\n",
    "    1. Using the Account class as a base class, write two derived classes called SavingsAccount and CurrentAccount. A SavingsAccount object, in addition to the attributes of an Account object, should have an interest attribute and a method which adds interest to the account. A CurrentAccount object, in addition to the attributes of an Account object, should have an overdraft limit attribute.\n",
    "\n",
    "    2. Now create a Bank class, an object of which contains an array of Account objects. Accounts in the array could be instances of the Account class, the SavingsAccount class, or the CurrentAccount class. Create some test accounts (some of each type).\n",
    "\n",
    "    3. Write an update method in the Bank class. It iterates through each account, updating it in the following ways: Savings accounts get interest added (via the method you already wrote); CurrentAccounts get a letter sent if they are in overdraft. (use print to 'send' the letter).\n",
    "\n",
    "    4. The Bank class requires methods for opening and closing accounts, and for paying a dividend into each account."
   ]
  },
  {
   "cell_type": "code",
   "execution_count": null,
   "id": "7a9df4f7",
   "metadata": {},
   "outputs": [],
   "source": [
    "class Account:\n",
    "    def __init__(self, balance, account_number):\n",
    "        self._balance = balance\n",
    "        self._account_number = account_number\n",
    "    \n",
    "    @classmethod\n",
    "    def create_account(cls, account_number):\n",
    "        return cls(0.0, account_number)\n",
    "    \n",
    "    def deposit(self, amount):\n",
    "        if amount > 0:\n",
    "            self._balance += amount\n",
    "        else:\n",
    "            raise ValueError('Amount must be positive')\n",
    "\n",
    "    def withdraw(self, amount):\n",
    "        if amount > 0:\n",
    "            self._balance -= amount\n",
    "        else:\n",
    "            raise ValueError('Amount must be positive')\n",
    "\n",
    "    def get_balance(self):\n",
    "        return self._balance\n",
    "    \n",
    "    def get_account_number(self):\n",
    "        return self._account_number\n",
    "    \n",
    "    def __str__(self):\n",
    "        return f'Account number: {self._account_number}, balance: {self._balance}'\n"
   ]
  },
  {
   "cell_type": "code",
   "execution_count": null,
   "id": "4a7cca6e",
   "metadata": {},
   "outputs": [],
   "source": []
  }
 ],
 "metadata": {
  "kernelspec": {
   "display_name": "Python 3 (ipykernel)",
   "language": "python",
   "name": "python3"
  },
  "language_info": {
   "codemirror_mode": {
    "name": "ipython",
    "version": 3
   },
   "file_extension": ".py",
   "mimetype": "text/x-python",
   "name": "python",
   "nbconvert_exporter": "python",
   "pygments_lexer": "ipython3",
   "version": "3.11.0"
  }
 },
 "nbformat": 4,
 "nbformat_minor": 5
}
