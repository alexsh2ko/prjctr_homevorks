{
 "cells": [
  {
   "attachments": {},
   "cell_type": "markdown",
   "id": "f7596294",
   "metadata": {},
   "source": [
    "### Lesson 2 - 07.02\n",
    "Орієнтовно часу на вебінар: 2-2.30 години \n",
    "\t\n",
    "> Materials: \n",
    ">    1. [Syntax](https://www.w3schools.com/python/python_syntax.asp) - from syntax to lists        \n",
    ">    2. [Basic tips](https://realpython.com/python-beginner-tips/)\n",
    ">    3. [Information about all](https://pynative.com/get-started-with-python/) - from start to control flow\n",
    ">    4. [Info about print](https://www.w3schools.com/python/ref_func_print.asp)\n",
    ">    5. [Data Types](https://webportal.com.ua/data-type-python/)\n",
    "\n",
    "> Topics:\n",
    "\t\t> 1. Commands\n",
    "\t\t> 2. Errors\n",
    "\t\t> 3. Variables\n",
    "\t\t> 4. Types  \n",
    "\t\t> 5. Input\n",
    "\t\t> 6. Numbers\n",
    "\t\t> 7. Operation\n"
   ]
  },
  {
   "cell_type": "code",
   "execution_count": 9,
   "id": "901a14a0",
   "metadata": {},
   "outputs": [
    {
     "name": "stdout",
     "output_type": "stream",
     "text": [
      "Hello World!\n"
     ]
    }
   ],
   "source": [
    "print('Hello World!') # Функція виводу в консоль текстової інформації"
   ]
  },
  {
   "cell_type": "code",
   "execution_count": 11,
   "id": "aac0789b",
   "metadata": {},
   "outputs": [
    {
     "name": "stdout",
     "output_type": "stream",
     "text": [
      "Some text*try seperator*буде зірочка;"
     ]
    }
   ],
   "source": [
    "print('Some text' ,'try seperator','буде зірочка' ,\n",
    "      sep = '*', # Вказуємо роздільник між текстом\n",
    "      end = ';' # Вказуємо кінцевий символ\n",
    "     )  # \\n - перехід на наступну строку"
   ]
  },
  {
   "cell_type": "code",
   "execution_count": 6,
   "id": "90688d1c",
   "metadata": {},
   "outputs": [
    {
     "data": {
      "text/plain": [
       "9"
      ]
     },
     "execution_count": 6,
     "metadata": {},
     "output_type": "execute_result"
    }
   ],
   "source": [
    "## Interactive vs script window\n",
    "3 + 6"
   ]
  },
  {
   "cell_type": "markdown",
   "id": "58957c35",
   "metadata": {},
   "source": [
    "Execution steps in interactive window:\n",
    "1. Read command from prompt\n",
    "2. Evaluate entered code\n",
    "3. Output result\n",
    "4. Display next prompt line\n",
    "\n",
    "**REPL**: Read, Evaluate, Print, Loop"
   ]
  },
  {
   "cell_type": "markdown",
   "id": "020cf527",
   "metadata": {},
   "source": [
    "### Type of Errors\n",
    "1. **Syntax** - have more type of errors inside\n",
    "2. **Logic** - when you code work, but with wrong result"
   ]
  },
  {
   "cell_type": "code",
   "execution_count": 12,
   "id": "3f0c09f6",
   "metadata": {},
   "outputs": [
    {
     "name": "stdout",
     "output_type": "stream",
     "text": [
      "Try print\n"
     ]
    }
   ],
   "source": [
    "print(\"Try print\")"
   ]
  },
  {
   "cell_type": "code",
   "execution_count": 13,
   "id": "afbfefaa",
   "metadata": {},
   "outputs": [
    {
     "ename": "NameError",
     "evalue": "name 'prit' is not defined",
     "output_type": "error",
     "traceback": [
      "\u001b[0;31m---------------------------------------------------------------------------\u001b[0m",
      "\u001b[0;31mNameError\u001b[0m                                 Traceback (most recent call last)",
      "Cell \u001b[0;32mIn[13], line 2\u001b[0m\n\u001b[1;32m      1\u001b[0m \u001b[39m# SyntaxError\u001b[39;00m\n\u001b[0;32m----> 2\u001b[0m prit(\u001b[39m\"\u001b[39m\u001b[39mTry Error\u001b[39m\u001b[39m\"\u001b[39m)\n",
      "\u001b[0;31mNameError\u001b[0m: name 'prit' is not defined"
     ]
    }
   ],
   "source": [
    "# SyntaxError\n",
    "prit(\"Try Error\")"
   ]
  },
  {
   "cell_type": "code",
   "execution_count": 14,
   "id": "f980d852",
   "metadata": {},
   "outputs": [
    {
     "ename": "SyntaxError",
     "evalue": "invalid syntax (1198463100.py, line 2)",
     "output_type": "error",
     "traceback": [
      "\u001b[0;36m  Cell \u001b[0;32mIn[14], line 2\u001b[0;36m\u001b[0m\n\u001b[0;31m    a c = 6\u001b[0m\n\u001b[0m      ^\u001b[0m\n\u001b[0;31mSyntaxError\u001b[0m\u001b[0;31m:\u001b[0m invalid syntax\n"
     ]
    }
   ],
   "source": [
    "#  SyntaxError more example\n",
    "a c = 6"
   ]
  },
  {
   "cell_type": "code",
   "execution_count": null,
   "id": "61ef65b1",
   "metadata": {},
   "outputs": [],
   "source": [
    "# Logic errors"
   ]
  },
  {
   "cell_type": "code",
   "execution_count": 16,
   "id": "a019ad16",
   "metadata": {},
   "outputs": [
    {
     "name": "stdout",
     "output_type": "stream",
     "text": [
      "Age of user:  150000\n"
     ]
    }
   ],
   "source": [
    "age = 18\n",
    "salary = 150000\n",
    "print('Age of user: ', salary)"
   ]
  },
  {
   "cell_type": "markdown",
   "id": "4f3b3e47",
   "metadata": {},
   "source": [
    "#### Характеристика зміною:\n",
    "    1. Область допустимих значень\n",
    "    2. Діапазон допустимих операцій\n",
    "    3. Кількість пам'яті яку займає "
   ]
  },
  {
   "cell_type": "code",
   "execution_count": 21,
   "id": "485e03c1",
   "metadata": {},
   "outputs": [
    {
     "name": "stdout",
     "output_type": "stream",
     "text": [
      "1 2 3\n"
     ]
    }
   ],
   "source": [
    "a = 5 # Assignment operator(Оператор присвоєння)\n",
    "x, y, z = 1, 2, 3\n",
    "some_text = 'string'\n",
    "print(x, y, z)"
   ]
  },
  {
   "cell_type": "code",
   "execution_count": 22,
   "id": "df964290",
   "metadata": {},
   "outputs": [
    {
     "name": "stdout",
     "output_type": "stream",
     "text": [
      "300 4521566448\n"
     ]
    }
   ],
   "source": [
    "n = 300\n",
    "print(n, id(n)) # id - номер комірки "
   ]
  },
  {
   "cell_type": "markdown",
   "id": "dfc8ab6f",
   "metadata": {},
   "source": [
    "![image1](https://files.realpython.com/media/t.2d7bcb9afaaf.png)"
   ]
  },
  {
   "cell_type": "code",
   "execution_count": 23,
   "id": "1e3b5cf0",
   "metadata": {},
   "outputs": [
    {
     "name": "stdout",
     "output_type": "stream",
     "text": [
      "300 4521566448\n"
     ]
    }
   ],
   "source": [
    "m = n\n",
    "print(m, id(m))"
   ]
  },
  {
   "cell_type": "markdown",
   "id": "44150103",
   "metadata": {},
   "source": [
    "![image](https://files.realpython.com/media/t.d368386b8423.png)"
   ]
  },
  {
   "cell_type": "code",
   "execution_count": 24,
   "id": "ade791da",
   "metadata": {},
   "outputs": [
    {
     "name": "stdout",
     "output_type": "stream",
     "text": [
      "400 4521566512 300 4521566448\n"
     ]
    }
   ],
   "source": [
    "n = 400 \n",
    "print(n, id(n), m , id(m))"
   ]
  },
  {
   "cell_type": "code",
   "execution_count": 25,
   "id": "151c860d",
   "metadata": {},
   "outputs": [
    {
     "data": {
      "text/plain": [
       "int"
      ]
     },
     "execution_count": 25,
     "metadata": {},
     "output_type": "execute_result"
    }
   ],
   "source": [
    "type(a) # Повертає тип даних\n",
    "# int - числовий тип даних( без остачі)\n",
    "# допустимі операції - всі базові арифметичні(окрім винятків)\n",
    "# діапозон допустимих значен: inf"
   ]
  },
  {
   "cell_type": "code",
   "execution_count": 32,
   "id": "36b39ce3",
   "metadata": {},
   "outputs": [
    {
     "name": "stdout",
     "output_type": "stream",
     "text": [
      "Hello World! 😃 4517548592 <class 'int'>\n"
     ]
    }
   ],
   "source": [
    "greeting = 'Hello World! 😃'\n",
    "print(greeting, id(greeting),type(id(greeting)))"
   ]
  },
  {
   "cell_type": "code",
   "execution_count": 35,
   "id": "1d80e149",
   "metadata": {},
   "outputs": [
    {
     "name": "stdout",
     "output_type": "stream",
     "text": [
      "hello\n"
     ]
    }
   ],
   "source": [
    "greeting:int  = 'hello'\n",
    "print(greeting)"
   ]
  },
  {
   "cell_type": "code",
   "execution_count": 33,
   "id": "09a66717",
   "metadata": {},
   "outputs": [
    {
     "name": "stdout",
     "output_type": "stream",
     "text": [
      "change string 4685443248\n"
     ]
    }
   ],
   "source": [
    "greeting = 'change string'\n",
    "print(greeting, id(greeting))"
   ]
  },
  {
   "cell_type": "code",
   "execution_count": 37,
   "id": "43f03416",
   "metadata": {},
   "outputs": [],
   "source": [
    "# Create var\n",
    "a = 3\n",
    "b = 5\n",
    "# or \n",
    "a, b = 3, 5"
   ]
  },
  {
   "cell_type": "code",
   "execution_count": 38,
   "id": "393a240e",
   "metadata": {},
   "outputs": [
    {
     "name": "stdout",
     "output_type": "stream",
     "text": [
      "A: 3 B: 5\n",
      "A: 5 B: 3\n"
     ]
    }
   ],
   "source": [
    "# Change value \n",
    "print('A:', a, 'B:', b)\n",
    "c = b \n",
    "b = a\n",
    "a = c\n",
    "print('A:', a, 'B:', b )\n"
   ]
  },
  {
   "cell_type": "code",
   "execution_count": 39,
   "id": "fe829667",
   "metadata": {},
   "outputs": [],
   "source": [
    "# Task 1. Write a program that get two int variables and swap their values. Do it in 3 different ways.\n",
    "\n",
    "# you solution a, b = b, a"
   ]
  },
  {
   "cell_type": "code",
   "execution_count": 39,
   "id": "1564b9b8",
   "metadata": {},
   "outputs": [],
   "source": [
    "import sys # Імпорт бібліотеки для роботи зі системними значеннями"
   ]
  },
  {
   "cell_type": "code",
   "execution_count": 40,
   "id": "11c10d9c",
   "metadata": {},
   "outputs": [
    {
     "name": "stdout",
     "output_type": "stream",
     "text": [
      "sys.int_info(bits_per_digit=30, sizeof_digit=4, default_max_str_digits=4300, str_digits_check_threshold=640)\n"
     ]
    }
   ],
   "source": [
    "\n",
    "print(sys.int_info, # Отримати інформацію для тип даних \n",
    "     sep = '\\n\\n')"
   ]
  },
  {
   "cell_type": "code",
   "execution_count": 41,
   "id": "1a52a4db",
   "metadata": {},
   "outputs": [
    {
     "data": {
      "text/plain": [
       "(2, 2)"
      ]
     },
     "execution_count": 41,
     "metadata": {},
     "output_type": "execute_result"
    }
   ],
   "source": [
    "1 - (- 1), 1 - - 1"
   ]
  },
  {
   "cell_type": "code",
   "execution_count": 44,
   "id": "1bef5526",
   "metadata": {},
   "outputs": [
    {
     "name": "stdout",
     "output_type": "stream",
     "text": [
      "20.11\n"
     ]
    }
   ],
   "source": [
    "a = 18.11\n",
    "print(a + 2)"
   ]
  },
  {
   "cell_type": "code",
   "execution_count": 47,
   "id": "3cf86d33",
   "metadata": {
    "scrolled": false
   },
   "outputs": [
    {
     "name": "stdout",
     "output_type": "stream",
     "text": [
      "16\n"
     ]
    }
   ],
   "source": [
    "try_error = 10 + int('6') # unsupported operand \n",
    "print(try_error)"
   ]
  },
  {
   "cell_type": "code",
   "execution_count": 48,
   "id": "33ca58d3",
   "metadata": {},
   "outputs": [
    {
     "name": "stdout",
     "output_type": "stream",
     "text": [
      "5.140000000000001\n"
     ]
    }
   ],
   "source": [
    "try_float_var = 3.14\n",
    "a = 10\n",
    "print(try_float_var + 2)"
   ]
  },
  {
   "cell_type": "code",
   "execution_count": null,
   "id": "bf5b3ff9",
   "metadata": {},
   "outputs": [
    {
     "name": "stdout",
     "output_type": "stream",
     "text": [
      "<class 'float'> <class 'int'>\n"
     ]
    }
   ],
   "source": [
    "print(type(try_float_var), type(1))"
   ]
  },
  {
   "cell_type": "code",
   "execution_count": null,
   "id": "2dfecf4c",
   "metadata": {},
   "outputs": [
    {
     "name": "stdout",
     "output_type": "stream",
     "text": [
      "13.14\n"
     ]
    }
   ],
   "source": [
    "print(try_float_var + a) # Float - має більшу пріоритетність, тому замінуює результат на float"
   ]
  },
  {
   "cell_type": "code",
   "execution_count": 49,
   "id": "58a48b79",
   "metadata": {},
   "outputs": [
    {
     "name": "stdout",
     "output_type": "stream",
     "text": [
      "5 16 6.0 6\n"
     ]
    }
   ],
   "source": [
    "a, b, c = 16, 5, 6 # Створюємо три змінних\n",
    "c = float(c)\n",
    "print(b, a, c, 5 + 1)"
   ]
  },
  {
   "cell_type": "code",
   "execution_count": 50,
   "id": "0425b11e",
   "metadata": {
    "scrolled": true
   },
   "outputs": [
    {
     "name": "stdout",
     "output_type": "stream",
     "text": [
      "Plus  a + b =  21\n",
      "Minus a - b =  11\n",
      "Multi a * b =  80\n",
      "Power a ^ 2 =  256\n",
      "3.2 3 4.0\n"
     ]
    }
   ],
   "source": [
    "plus = a + b  # Plus value\n",
    "diff = a - b # Minus value\n",
    "mult = a * b # Multi value\n",
    "power_value = a ** 2 # Power з  право наліво читається \n",
    "\n",
    "print('Plus  a + b = ', plus)\n",
    "print('Minus a - b = ', diff)\n",
    "print('Multi a * b = ', mult)\n",
    "print('Power a ^ 2 = ', power_value )\n",
    "print(a / b , a // b, a ** 0.5)"
   ]
  },
  {
   "cell_type": "code",
   "execution_count": 51,
   "id": "bdb6aa02",
   "metadata": {},
   "outputs": [
    {
     "name": "stdout",
     "output_type": "stream",
     "text": [
      "Div part: a / b =  3.2\n",
      "Div part: a / b =  3\n"
     ]
    }
   ],
   "source": [
    "div_part = a / b\n",
    "div = a // b\n",
    "print('Div part: a / b = ', div_part) \n",
    "print('Div part: a / b = ', div) "
   ]
  },
  {
   "cell_type": "code",
   "execution_count": 61,
   "id": "5b2ac561",
   "metadata": {},
   "outputs": [
    {
     "name": "stdout",
     "output_type": "stream",
     "text": [
      "16\n"
     ]
    }
   ],
   "source": [
    "b = 16\n",
    "print(b)"
   ]
  },
  {
   "cell_type": "markdown",
   "id": "8d628052",
   "metadata": {},
   "source": [
    "### Module, input, practise task, prioriti of operation"
   ]
  },
  {
   "cell_type": "code",
   "execution_count": 59,
   "id": "4aa05671",
   "metadata": {},
   "outputs": [
    {
     "name": "stdout",
     "output_type": "stream",
     "text": [
      "12.0\n"
     ]
    }
   ],
   "source": [
    "b = b - 2\n",
    "print(b)"
   ]
  },
  {
   "cell_type": "markdown",
   "id": "2cebd345",
   "metadata": {},
   "source": [
    "#### Скорочений запис"
   ]
  },
  {
   "cell_type": "code",
   "execution_count": 62,
   "id": "78624fa8",
   "metadata": {},
   "outputs": [
    {
     "name": "stdout",
     "output_type": "stream",
     "text": [
      "16 <class 'int'>\n",
      "B + 2:  18\n",
      "B - 2:  16\n",
      "B * 2:  32\n",
      "B / 2:  16.0\n"
     ]
    }
   ],
   "source": [
    "print(b, type(b))\n",
    "b += 2 # b = b + 2 \n",
    "print('B + 2: ', b)\n",
    "b -= 2 # b = b - 2\n",
    "print('B - 2: ', b)\n",
    "b *= 2 # b = b * 2\n",
    "print('B * 2: ', b)\n",
    "b /= 2 # b = b / 2\n",
    "print('B / 2: ', b)"
   ]
  },
  {
   "cell_type": "code",
   "execution_count": 63,
   "id": "698d577b",
   "metadata": {},
   "outputs": [
    {
     "name": "stdout",
     "output_type": "stream",
     "text": [
      "256.0\n"
     ]
    }
   ],
   "source": [
    "b **= 2\n",
    "print(b)"
   ]
  },
  {
   "cell_type": "code",
   "execution_count": 65,
   "id": "90b97375",
   "metadata": {},
   "outputs": [
    {
     "name": "stdout",
     "output_type": "stream",
     "text": [
      "123450445\n",
      "123450445\n"
     ]
    }
   ],
   "source": [
    "print(123450445)\n",
    "print(123_4_50_445) # Можливість зручно записувати великі цифри"
   ]
  },
  {
   "cell_type": "code",
   "execution_count": 66,
   "id": "6bad993f",
   "metadata": {},
   "outputs": [
    {
     "name": "stdout",
     "output_type": "stream",
     "text": [
      "1234504450543\n"
     ]
    }
   ],
   "source": [
    "big_int = 123_450_445_0543\n",
    "print(big_int)"
   ]
  },
  {
   "cell_type": "code",
   "execution_count": null,
   "id": "0db84fbe",
   "metadata": {},
   "outputs": [],
   "source": [
    "# Convert type - name_of_type(value_to_convert)"
   ]
  },
  {
   "cell_type": "code",
   "execution_count": 67,
   "id": "e4d3b90e",
   "metadata": {},
   "outputs": [
    {
     "name": "stdout",
     "output_type": "stream",
     "text": [
      "1.0 3\n"
     ]
    }
   ],
   "source": [
    "print(float(1), \n",
    "      int(3.14), \n",
    "     )"
   ]
  },
  {
   "cell_type": "code",
   "execution_count": 68,
   "id": "fe0b8ba0",
   "metadata": {},
   "outputs": [
    {
     "name": "stdout",
     "output_type": "stream",
     "text": [
      "3.14 <class 'float'> \n",
      " 4 <class 'int'>\n"
     ]
    }
   ],
   "source": [
    "print(\n",
    "    float('3.14'), type(float('3.14')), '\\n',\n",
    "    int('4'), type(int('4'))\n",
    ")"
   ]
  },
  {
   "cell_type": "markdown",
   "id": "b98c1da8",
   "metadata": {},
   "source": [
    "### Variable name \n",
    "1. [Main rules](https://www.w3schools.com/python/gloss_python_variable_names.asp) - Use python_style\n",
    "\n",
    "> **Python_style** - when we create a var with \"_\"  \n",
    "\n",
    "> **CamelStyle** - when we create a var with other name and start new word in UpperCase"
   ]
  },
  {
   "cell_type": "code",
   "execution_count": 69,
   "id": "7c76e93d",
   "metadata": {},
   "outputs": [],
   "source": [
    "name_of_user = 'Oleksandr'"
   ]
  },
  {
   "cell_type": "code",
   "execution_count": 71,
   "id": "ce9bb9a7",
   "metadata": {},
   "outputs": [
    {
     "name": "stdout",
     "output_type": "stream",
     "text": [
      "a\n"
     ]
    }
   ],
   "source": [
    "назва = 'a'\n",
    "print(назва)"
   ]
  },
  {
   "cell_type": "code",
   "execution_count": 73,
   "id": "1c19360c",
   "metadata": {},
   "outputs": [],
   "source": [
    "# Legal variable names:\n",
    "myvar = \"John\"\n",
    "my_var = \"John\"\n",
    "_my_var = \"John\"\n",
    "myVar = \"John\"\n",
    "MYVAR = \"John\"\n",
    "myv2ar2 = \"John\"\n"
   ]
  },
  {
   "cell_type": "code",
   "execution_count": 75,
   "id": "ebb8fe60",
   "metadata": {},
   "outputs": [
    {
     "ename": "SyntaxError",
     "evalue": "invalid decimal literal (1664146821.py, line 2)",
     "output_type": "error",
     "traceback": [
      "\u001b[0;36m  Cell \u001b[0;32mIn[75], line 2\u001b[0;36m\u001b[0m\n\u001b[0;31m    2a = \"John\"\u001b[0m\n\u001b[0m    ^\u001b[0m\n\u001b[0;31mSyntaxError\u001b[0m\u001b[0;31m:\u001b[0m invalid decimal literal\n"
     ]
    }
   ],
   "source": [
    "# Illegal variable names:\n",
    "2a = \"John\"\n",
    "1_my-var = \"John\"\n",
    "my var = \"John\""
   ]
  },
  {
   "cell_type": "code",
   "execution_count": 44,
   "id": "b0eea389",
   "metadata": {},
   "outputs": [],
   "source": [
    "s = 3600\n",
    "seconds = 3600\n",
    "seconds_in_hour = 3600"
   ]
  },
  {
   "cell_type": "code",
   "execution_count": 79,
   "id": "1b2da795",
   "metadata": {},
   "outputs": [
    {
     "name": "stdout",
     "output_type": "stream",
     "text": [
      "3\n"
     ]
    }
   ],
   "source": [
    "SOME_CONSTANT_NAME = 3\n",
    "some_variable_name = 6 \n",
    "print(SOME_CONSTANT_NAME)"
   ]
  },
  {
   "cell_type": "code",
   "execution_count": 80,
   "id": "cc3518a1",
   "metadata": {},
   "outputs": [
    {
     "name": "stdout",
     "output_type": "stream",
     "text": [
      "2\n"
     ]
    }
   ],
   "source": [
    "SOME_CONSTANT_NAME -= 1\n",
    "print(SOME_CONSTANT_NAME)\n",
    "# Upper - UPPER, Lower - lower"
   ]
  },
  {
   "cell_type": "code",
   "execution_count": 84,
   "id": "c930d1ee",
   "metadata": {},
   "outputs": [
    {
     "name": "stdout",
     "output_type": "stream",
     "text": [
      "Hello\n"
     ]
    }
   ],
   "source": [
    "greeting = 'Hello'\n",
    "print(greeting)"
   ]
  },
  {
   "cell_type": "code",
   "execution_count": 82,
   "id": "632c70fb",
   "metadata": {},
   "outputs": [],
   "source": [
    "del greeting"
   ]
  },
  {
   "cell_type": "code",
   "execution_count": 85,
   "id": "60408795",
   "metadata": {},
   "outputs": [
    {
     "name": "stdout",
     "output_type": "stream",
     "text": [
      "Hello\n"
     ]
    }
   ],
   "source": [
    "print(greeting)"
   ]
  },
  {
   "cell_type": "markdown",
   "id": "1fae9769",
   "metadata": {},
   "source": [
    "### Comments \n",
    "1. One line start with # \n",
    "2. More than one line start with ''' and end with '''"
   ]
  },
  {
   "cell_type": "code",
   "execution_count": 88,
   "id": "df05e288",
   "metadata": {},
   "outputs": [
    {
     "name": "stdout",
     "output_type": "stream",
     "text": [
      "Some text\n"
     ]
    }
   ],
   "source": [
    "# One line comment, ignore by ide\n",
    "print('Some text')"
   ]
  },
  {
   "cell_type": "code",
   "execution_count": 90,
   "id": "2a9107e3",
   "metadata": {},
   "outputs": [
    {
     "name": "stdout",
     "output_type": "stream",
     "text": [
      "Some text\n"
     ]
    }
   ],
   "source": [
    "'''\n",
    "For big text, or try to explain\n",
    "For big text, or try to explain\n",
    "For big text, or try to explainFor big text, or try to explain\n",
    "For big text, or try to explain\n",
    "For big text, or try to explain\n",
    "''' \n",
    "print('Some text')"
   ]
  },
  {
   "cell_type": "code",
   "execution_count": 92,
   "id": "2bc75c35",
   "metadata": {},
   "outputs": [
    {
     "name": "stdout",
     "output_type": "stream",
     "text": [
      "10\n"
     ]
    }
   ],
   "source": [
    "help_value = 10\n",
    "print(help_value)"
   ]
  },
  {
   "cell_type": "code",
   "execution_count": 93,
   "id": "9f15db2b",
   "metadata": {},
   "outputs": [
    {
     "name": "stdout",
     "output_type": "stream",
     "text": [
      "-6\n"
     ]
    }
   ],
   "source": [
    "res = help_value - a # Use comments to save info about code\n",
    "print(res)"
   ]
  },
  {
   "cell_type": "markdown",
   "id": "7f60725c",
   "metadata": {},
   "source": [
    "### Input - function for save infromation from user \n",
    "input(text optional)\n"
   ]
  },
  {
   "cell_type": "code",
   "execution_count": 94,
   "id": "f30a3c25",
   "metadata": {},
   "outputs": [
    {
     "data": {
      "text/plain": [
       "'1223'"
      ]
     },
     "execution_count": 94,
     "metadata": {},
     "output_type": "execute_result"
    }
   ],
   "source": [
    "input()"
   ]
  },
  {
   "cell_type": "code",
   "execution_count": 96,
   "id": "a365c1d1",
   "metadata": {},
   "outputs": [
    {
     "name": "stdout",
     "output_type": "stream",
     "text": [
      "Sasha\n"
     ]
    }
   ],
   "source": [
    "name = input('Enter you name: ')\n",
    "print(name)"
   ]
  },
  {
   "cell_type": "code",
   "execution_count": 97,
   "id": "a415020b",
   "metadata": {},
   "outputs": [
    {
     "name": "stdout",
     "output_type": "stream",
     "text": [
      "Hello:  Sasha\n"
     ]
    }
   ],
   "source": [
    "print('Hello: ', name)"
   ]
  },
  {
   "cell_type": "code",
   "execution_count": null,
   "id": "4884eed7",
   "metadata": {},
   "outputs": [
    {
     "name": "stdout",
     "output_type": "stream",
     "text": [
      "18 18\n"
     ]
    }
   ],
   "source": [
    "print(int(18.1), int(float('18.1')))"
   ]
  },
  {
   "cell_type": "code",
   "execution_count": 101,
   "id": "55db1792",
   "metadata": {
    "scrolled": true
   },
   "outputs": [],
   "source": [
    "age = int(input('Enter you age: '))"
   ]
  },
  {
   "cell_type": "code",
   "execution_count": 99,
   "id": "54fee5e4",
   "metadata": {},
   "outputs": [
    {
     "name": "stdout",
     "output_type": "stream",
     "text": [
      "44\n"
     ]
    }
   ],
   "source": [
    "print(age + 10)"
   ]
  },
  {
   "cell_type": "code",
   "execution_count": 104,
   "id": "fb582095",
   "metadata": {},
   "outputs": [
    {
     "name": "stdout",
     "output_type": "stream",
     "text": [
      "SashaSashaSasha Sasha SashaSashaSashaSashaSasha\n"
     ]
    }
   ],
   "source": [
    "print(name + name + name + ' ' + name, name * 5)"
   ]
  },
  {
   "cell_type": "code",
   "execution_count": 105,
   "id": "9a69de70",
   "metadata": {},
   "outputs": [],
   "source": [
    "age_of_user = int(input('Enter you age: '))"
   ]
  },
  {
   "cell_type": "code",
   "execution_count": 106,
   "id": "6e157ed4",
   "metadata": {},
   "outputs": [
    {
     "name": "stdout",
     "output_type": "stream",
     "text": [
      "45 <class 'int'>\n"
     ]
    }
   ],
   "source": [
    "print(age_of_user, type(age_of_user))"
   ]
  },
  {
   "cell_type": "code",
   "execution_count": 107,
   "id": "d258a0df",
   "metadata": {},
   "outputs": [
    {
     "ename": "ValueError",
     "evalue": "invalid literal for int() with base 10: 'a'",
     "output_type": "error",
     "traceback": [
      "\u001b[0;31m---------------------------------------------------------------------------\u001b[0m",
      "\u001b[0;31mValueError\u001b[0m                                Traceback (most recent call last)",
      "Cell \u001b[0;32mIn[107], line 1\u001b[0m\n\u001b[0;32m----> 1\u001b[0m a \u001b[39m=\u001b[39m \u001b[39mint\u001b[39;49m(\u001b[39m'\u001b[39;49m\u001b[39ma\u001b[39;49m\u001b[39m'\u001b[39;49m)\n",
      "\u001b[0;31mValueError\u001b[0m: invalid literal for int() with base 10: 'a'"
     ]
    }
   ],
   "source": [
    "a = int('a')"
   ]
  },
  {
   "cell_type": "code",
   "execution_count": 108,
   "id": "db120edf",
   "metadata": {},
   "outputs": [
    {
     "ename": "ValueError",
     "evalue": "invalid literal for int() with base 10: '😂'",
     "output_type": "error",
     "traceback": [
      "\u001b[0;31m---------------------------------------------------------------------------\u001b[0m",
      "\u001b[0;31mValueError\u001b[0m                                Traceback (most recent call last)",
      "Cell \u001b[0;32mIn[108], line 1\u001b[0m\n\u001b[0;32m----> 1\u001b[0m a \u001b[39m=\u001b[39m \u001b[39mint\u001b[39;49m(\u001b[39m'\u001b[39;49m\u001b[39m😂\u001b[39;49m\u001b[39m'\u001b[39;49m)\n\u001b[1;32m      2\u001b[0m \u001b[39mprint\u001b[39m(a)\n",
      "\u001b[0;31mValueError\u001b[0m: invalid literal for int() with base 10: '😂'"
     ]
    }
   ],
   "source": [
    "a = int('😂')\n",
    "print(a)"
   ]
  },
  {
   "cell_type": "code",
   "execution_count": 112,
   "id": "4196dedc",
   "metadata": {},
   "outputs": [
    {
     "name": "stdout",
     "output_type": "stream",
     "text": [
      "🐅 + '2\n"
     ]
    }
   ],
   "source": [
    "smile = \"🐅 + '2\"\n",
    "print(smile)"
   ]
  },
  {
   "attachments": {},
   "cell_type": "markdown",
   "id": "05b10904",
   "metadata": {},
   "source": [
    "### Homework Part 1:\n",
    "    Теоретична  - де потрібно в многострочному коментарі дати розширену відповідь. Практичну - розв'язувати задачі\n",
    "**Теоретична частина**:\n",
    "1. Наведіть програмний приклад логічної та синтаксичної помилки.\n",
    "2. Який буде результат при 1 / 0, 0 / 1 - зафіксувати його та пояснити.\n",
    "3. Навіщо потрібні коментарі ?\n",
    "4. Що таке змінна ?\n",
    "\n",
    "**Практична частина**\n",
    "\n",
    "1. Написати програму яка отримує від користувача два числа. Вивести ці два числа в консоль\n",
    "\n",
    "2. Провести та вивезти над ними всі базові арифметичні операції в print\n",
    "3. Додати функціонал по знаходженню степені числа. Перше число є базою, друге - ступенем. Вивести результат в консоль у форматі \"а в b степені це c»\n",
    "4. Додати можливість працювати зі float\n",
    "5. Прийняти від користувача ім'я, призвіще, вік, вивезти одним print:\n",
    "Name Surname\n",
    "You are, вік , years old"
   ]
  },
  {
   "attachments": {},
   "cell_type": "markdown",
   "id": "29fabd2b",
   "metadata": {},
   "source": [
    "### Practice\n",
    "\n",
    "\n",
    "1. Write a program that get two int variables and swap their values. Do it in 3 different ways.\n",
    "\n",
    "2. Write a program that get 2 numbers from the user. Print to the console maximum of this two variable.\n",
    "\n",
    "    Enter first number: 75\n",
    "\n",
    "    Enter second number: 34\n",
    "\n",
    "    Maximum is: 75\n",
    "\n",
    "3. Optional: Write a program that get 3 digit number from the user and reverse it.\n",
    "\n",
    "    Enter a number: 123\n",
    "\n",
    "    Reversed number is 321\n",
    "\n",
    "You can use only numbers and their operators. Don`t use string here!\n"
   ]
  }
 ],
 "metadata": {
  "kernelspec": {
   "display_name": "Python 3",
   "language": "python",
   "name": "python3"
  },
  "language_info": {
   "codemirror_mode": {
    "name": "ipython",
    "version": 3
   },
   "file_extension": ".py",
   "mimetype": "text/x-python",
   "name": "python",
   "nbconvert_exporter": "python",
   "pygments_lexer": "ipython3",
   "version": "3.11.0"
  },
  "vscode": {
   "interpreter": {
    "hash": "949777d72b0d2535278d3dc13498b2535136f6dfe0678499012e853ee9abcab1"
   }
  }
 },
 "nbformat": 4,
 "nbformat_minor": 5
}
