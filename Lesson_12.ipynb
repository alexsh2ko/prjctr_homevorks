{
 "cells": [
  {
   "cell_type": "markdown",
   "metadata": {},
   "source": [
    "# File\n",
    "\n",
    "## What is a file?\n",
    "\n",
    "1. Header\n",
    "2. Data\n",
    "3. EOF\n",
    "\n"
   ]
  },
  {
   "attachments": {},
   "cell_type": "markdown",
   "metadata": {},
   "source": [
    "## File Paths\n",
    "\n",
    "1. Nested Folders\n",
    "2. File name\n",
    "3. Extension\n",
    "\n",
    "**module/filename.txt**\n",
    "\n",
    "**/home/user/module/filename.txt**\n",
    "\n",
    "**C:\\Users\\user\\module\\filename.txt**"
   ]
  },
  {
   "cell_type": "markdown",
   "metadata": {},
   "source": [
    "## Character Encoding\n",
    "\n",
    "1. ASCII\n",
    "2. UTF-8\n",
    "3. UTF-16\n",
    "4. UTF-32\n",
    "5. Unicode"
   ]
  },
  {
   "cell_type": "code",
   "execution_count": null,
   "metadata": {},
   "outputs": [],
   "source": [
    "# Encode to UTF-8\n",
    "\n",
    "'Hello World'.encode()"
   ]
  },
  {
   "cell_type": "code",
   "execution_count": null,
   "metadata": {},
   "outputs": [],
   "source": [
    "'Hello World'.encode('ascii')"
   ]
  },
  {
   "cell_type": "code",
   "execution_count": null,
   "metadata": {},
   "outputs": [],
   "source": [
    "# Encode to UTF-8\n",
    "\n",
    "'Привіт, світ!'.encode()"
   ]
  },
  {
   "cell_type": "code",
   "execution_count": null,
   "metadata": {},
   "outputs": [],
   "source": [
    "'Привіт, світ!'.encode('ascii')"
   ]
  },
  {
   "cell_type": "code",
   "execution_count": null,
   "metadata": {},
   "outputs": [],
   "source": [
    "\"😀\".encode('utf-8')"
   ]
  },
  {
   "cell_type": "code",
   "execution_count": null,
   "metadata": {},
   "outputs": [],
   "source": [
    "\"El Niño\".encode(\"utf-8\")"
   ]
  },
  {
   "cell_type": "markdown",
   "metadata": {},
   "source": [
    "### Why is it important to use one encoding? "
   ]
  },
  {
   "cell_type": "code",
   "execution_count": null,
   "metadata": {},
   "outputs": [],
   "source": [
    "letters = \"αβγδ\"\n",
    "rawdata = letters.encode(\"utf-8\")\n"
   ]
  },
  {
   "cell_type": "code",
   "execution_count": null,
   "metadata": {},
   "outputs": [],
   "source": [
    "rawdata"
   ]
  },
  {
   "cell_type": "code",
   "execution_count": null,
   "metadata": {},
   "outputs": [],
   "source": [
    "rawdata.decode(\"utf-8\")"
   ]
  },
  {
   "cell_type": "code",
   "execution_count": null,
   "metadata": {},
   "outputs": [],
   "source": [
    "rawdata.decode(\"utf-16\")"
   ]
  },
  {
   "cell_type": "markdown",
   "metadata": {},
   "source": [
    "## Line ending\n",
    "\n",
    "1. LF (Line Feed) (\\n)\n",
    "2. CR (Carriage Return) (\\r)\n",
    "3. EOL (EOL) (\\r\\n)"
   ]
  },
  {
   "cell_type": "markdown",
   "metadata": {},
   "source": [
    "## Open and Close files\n",
    "\n"
   ]
  },
  {
   "cell_type": "code",
   "execution_count": null,
   "metadata": {},
   "outputs": [],
   "source": [
    "# open(file_path, mode)\n",
    "\n",
    "file = open('hello.txt')"
   ]
  },
  {
   "cell_type": "code",
   "execution_count": null,
   "metadata": {},
   "outputs": [],
   "source": [
    "file"
   ]
  },
  {
   "cell_type": "markdown",
   "metadata": {},
   "source": [
    "## Open modes\n",
    "\n",
    "1. r - read\n",
    "2. w - write\n",
    "3. a - append\n",
    "4. rb - read binary\n",
    "5. wb - write binary\n",
    "6. ab - append binary\n",
    "7. r+ - read and write\n",
    "8. w+ - write and read\n",
    "9. a+ - append and read\n"
   ]
  },
  {
   "cell_type": "code",
   "execution_count": null,
   "metadata": {},
   "outputs": [],
   "source": [
    "file = open(\"hello.txt\", mode=\"w\")"
   ]
  },
  {
   "cell_type": "code",
   "execution_count": null,
   "metadata": {},
   "outputs": [],
   "source": [
    "file"
   ]
  },
  {
   "cell_type": "code",
   "execution_count": null,
   "metadata": {},
   "outputs": [],
   "source": [
    "file.write(\"Hello, World!\")"
   ]
  },
  {
   "cell_type": "code",
   "execution_count": null,
   "metadata": {},
   "outputs": [],
   "source": [
    "file.close()"
   ]
  },
  {
   "cell_type": "code",
   "execution_count": null,
   "metadata": {},
   "outputs": [],
   "source": [
    "file"
   ]
  },
  {
   "cell_type": "code",
   "execution_count": null,
   "metadata": {},
   "outputs": [],
   "source": [
    "file.write(\"\\nHello, World!\")"
   ]
  },
  {
   "cell_type": "markdown",
   "metadata": {},
   "source": [
    "## Context manager"
   ]
  },
  {
   "cell_type": "code",
   "execution_count": null,
   "metadata": {},
   "outputs": [],
   "source": [
    "file = open(\"file.txt\", \"w\")\n",
    "\n",
    "try:\n",
    "    file.write(\"Hello, World!\")\n",
    "except Exception as e:\n",
    "    print(f\"Error: {e}\")\n",
    "finally:\n",
    "    file.close()\n"
   ]
  },
  {
   "cell_type": "code",
   "execution_count": null,
   "metadata": {},
   "outputs": [],
   "source": [
    "# > enter a context .__enter__()\n",
    "with open('file.txt', 'w') as file:\n",
    "    file.write('OLA')\n",
    "\n",
    "file.write('OLA2')\n",
    "# leave the context .__exit__()"
   ]
  },
  {
   "cell_type": "code",
   "execution_count": null,
   "metadata": {},
   "outputs": [],
   "source": [
    "from decimal import Decimal, localcontext\n",
    "\n",
    "print(Decimal('1.00') / Decimal('3.00'))\n",
    "\n",
    "with localcontext() as ctx:\n",
    "    ctx.prec = 4\n",
    "    print(Decimal('1.00') / Decimal('3.00'))\n",
    "\n",
    "print(Decimal('1.00') / Decimal('3.00'))"
   ]
  },
  {
   "cell_type": "code",
   "execution_count": null,
   "metadata": {},
   "outputs": [],
   "source": [
    "from datetime import datetime\n",
    "\n",
    "datetime.now() # -> 08/10/22 12.19\n",
    "\n",
    "with freeze_time('08/10/21 12.19') as freeze:\n",
    "    datetime.now() # -> 08/10/21 12.19\n",
    "\n",
    "datetime.now() # -> 08/10/22 12.19"
   ]
  },
  {
   "cell_type": "code",
   "execution_count": null,
   "metadata": {},
   "outputs": [],
   "source": [
    "with open('input.txt', 'r') as input_file, open('output.txt', 'w') as output_file:\n",
    "    data = input_file.read()\n",
    "    print('|', data, '|', sep='')\n",
    "    output_file.write(data)"
   ]
  },
  {
   "cell_type": "markdown",
   "metadata": {},
   "source": [
    "## Reading from the file"
   ]
  },
  {
   "cell_type": "code",
   "execution_count": null,
   "metadata": {},
   "outputs": [],
   "source": [
    "with open('new_file.txt', 'r') as file:\n",
    "    text = file.read()"
   ]
  },
  {
   "cell_type": "code",
   "execution_count": null,
   "metadata": {},
   "outputs": [],
   "source": [
    "text"
   ]
  },
  {
   "cell_type": "code",
   "execution_count": null,
   "metadata": {},
   "outputs": [],
   "source": [
    "print(text)"
   ]
  },
  {
   "cell_type": "code",
   "execution_count": null,
   "metadata": {},
   "outputs": [],
   "source": [
    "with open('new_file.txt', 'r') as file:\n",
    "    for line in file:\n",
    "        print(line)"
   ]
  },
  {
   "cell_type": "code",
   "execution_count": null,
   "metadata": {},
   "outputs": [],
   "source": [
    "with open('new_file.txt', 'r') as file:\n",
    "    print(file.readlines())"
   ]
  },
  {
   "cell_type": "code",
   "execution_count": null,
   "metadata": {},
   "outputs": [],
   "source": [
    "with open('new_file.txt', 'r') as file:\n",
    "    print(file.readline())\n",
    "    print(file.readline())"
   ]
  },
  {
   "cell_type": "code",
   "execution_count": null,
   "metadata": {},
   "outputs": [],
   "source": [
    "file.readline()"
   ]
  },
  {
   "cell_type": "markdown",
   "metadata": {},
   "source": [
    "## Writing to files "
   ]
  },
  {
   "cell_type": "code",
   "execution_count": null,
   "metadata": {},
   "outputs": [],
   "source": [
    "with open('file.txt', 'w') as file:\n",
    "    file.write('”I have great faith in fools — self-confidence my friends call it.”\\n')"
   ]
  },
  {
   "cell_type": "code",
   "execution_count": null,
   "metadata": {},
   "outputs": [],
   "source": [
    "with open('file.txt', 'w') as file:\n",
    "    file.write('End of the file')"
   ]
  },
  {
   "cell_type": "code",
   "execution_count": null,
   "metadata": {},
   "outputs": [],
   "source": [
    "with open('file.txt', 'a') as file:\n",
    "    file.write('\\n“Either define the moment or the moment will define you.”')"
   ]
  },
  {
   "cell_type": "code",
   "execution_count": null,
   "metadata": {},
   "outputs": [],
   "source": [
    "second_coming = [\n",
    "    'Turning and turning in the widening gyre\\n',\n",
    "    'The falcon cannot hear the falconer;\\n',\n",
    "    'Things fall apart; the centre cannot hold;\\n',\n",
    "    'Mere anarchy is loosed upon the world,\\n',\n",
    "    'The blood-dimmed tide is loosed, and everywhere\\n',  \n",
    "    'The ceremony of innocence is drowned;\\n',\n",
    "    'The best lack all conviction, while the worst\\n',\n",
    "    'Are full of passionate intensity.\\n',\n",
    "]\n",
    "\n",
    "with open('new_file.txt', mode=\"w\", encoding=\"utf-8\") as file:\n",
    "    file.writelines(second_coming)"
   ]
  },
  {
   "cell_type": "code",
   "execution_count": null,
   "metadata": {},
   "outputs": [],
   "source": [
    "with open('folder/file.pdf', mode='w') as file:\n",
    "    file.write('Hello')"
   ]
  },
  {
   "cell_type": "markdown",
   "metadata": {},
   "source": [
    "## Working with CSV"
   ]
  },
  {
   "cell_type": "code",
   "execution_count": null,
   "metadata": {},
   "outputs": [],
   "source": [
    "import csv"
   ]
  },
  {
   "cell_type": "code",
   "execution_count": null,
   "metadata": {},
   "outputs": [],
   "source": [
    "countries = [\n",
    "    ['Kyiv', 42_000_000, 603_000, 'Ukraine'],\n",
    "    ['Warsaw', 38_000_000, 312_000, 'Poland'],\n",
    "    [520_000_000,'Washington', 5_500_000, 'USA'],\n",
    "    ['Paris', 67_000_000, 592_000, 'France'],\n",
    "]"
   ]
  },
  {
   "cell_type": "code",
   "execution_count": null,
   "metadata": {},
   "outputs": [],
   "source": [
    "with open('countries.csv', 'w') as file:\n",
    "    writer = csv.writer(file)\n",
    "    writer.writerow(['Capital', 'Population', 'Area', 'Country'])\n",
    "    for country in countries:\n",
    "        writer.writerow(country)"
   ]
  },
  {
   "cell_type": "markdown",
   "metadata": {},
   "source": [
    "### Reading"
   ]
  },
  {
   "cell_type": "code",
   "execution_count": null,
   "metadata": {},
   "outputs": [],
   "source": [
    "### How add column names?\n",
    "\n",
    "with open('countries.csv', mode='r') as file:\n",
    "    reader = csv.reader(file)\n",
    "    for row in reader:\n",
    "        print(row)"
   ]
  },
  {
   "cell_type": "markdown",
   "metadata": {},
   "source": [
    "### What about column names?"
   ]
  },
  {
   "cell_type": "code",
   "execution_count": null,
   "metadata": {},
   "outputs": [],
   "source": [
    "with open('countries.csv', mode='w') as file:\n",
    "    writer = csv.writer(file)\n",
    "    writer.writerow(['Capital', 'Population', 'Area', 'Name'])\n",
    "    writer.writerows(countries)"
   ]
  },
  {
   "cell_type": "code",
   "execution_count": null,
   "metadata": {},
   "outputs": [],
   "source": [
    "with open('countries_2.csv', mode='w') as file:\n",
    "    fieldnames = ['Capital', 'Population', 'Area', 'Name']\n",
    "    writer = csv.DictWriter(file, fieldnames=fieldnames)\n",
    "\n",
    "    writer.writeheader()\n",
    "    writer.writerow({'Capital': 'Kyiv', 'Population': 42_000_000, 'Area': 603_000, 'Name': 'Ukraine'})\n",
    "    writer.writerow({'Capital': 'Warsaw', 'Population': 38_000_000, 'Area': 312_000, 'Name': 'Poland'})\n",
    "    writer.writerow({'Capital': 'Washington', 'Population': 520_000_000, 'Area': 5_500_000, 'Name': 'USA'})\n",
    "    writer.writerow({'Capital': 'Paris', 'Population': 67_000_000, 'Area': 592_000, 'Name': 'France'})\n"
   ]
  },
  {
   "cell_type": "code",
   "execution_count": null,
   "metadata": {},
   "outputs": [],
   "source": [
    "countries = [\n",
    "    {'Capital': 'Kyiv', 'Population': 42_000_000, 'Area': 603_000, 'Name': 'Ukraine'},\n",
    "    {'Capital': 'Warsaw', 'Population': 38_000_000, 'Area': 312_000, 'Name': 'Poland'},\n",
    "    {'Capital': 'Washington', 'Population': 520_000_000, 'Area': 5_500_000, 'Name': 'USA'},\n",
    "    {'Capital': 'Paris', 'Population': 67_000_000, 'Name': 'France', },\n",
    "]\n",
    "header = ['Capital', 'Population', 'Area', 'Name' ]\n",
    "with open('countries.csv', mode='w') as file:\n",
    "    writer = csv.DictWriter(file, fieldnames=header)\n",
    "\n",
    "    writer.writeheader()\n",
    "    writer.writerows(countries)\n",
    "    "
   ]
  },
  {
   "cell_type": "code",
   "execution_count": null,
   "metadata": {},
   "outputs": [],
   "source": [
    "with open('countries.csv', mode='r') as file:\n",
    "    reader = csv.DictReader(file)\n",
    "    print(reader.fieldnames)\n",
    "    for row in reader:\n",
    "        print(row)"
   ]
  },
  {
   "attachments": {},
   "cell_type": "markdown",
   "metadata": {},
   "source": [
    "## Practice\n",
    "\n",
    "1. \n",
    "    1. Write a program that generate 26 text files named A.txt, B.txt, and so on up to Z.txt.\n",
    "    2. To each file append a random number between 1 and 100.\n",
    "    3. Create a summary file (summary.txt) that contains name of the file and number in that file:\n",
    "\n",
    "        A.txt: 67\n",
    "\n",
    "        B.txt: 12\n",
    "\n",
    "        ...\n",
    "        \n",
    "        Z.txt: 98\n",
    "\n",
    "2. \n",
    "    1. Create file with some content. As example you can take this one\n",
    "    ```\n",
    "        Lorem ipsum dolor sit amet, consectetur adipiscing elit, sed do eiusmod tempor incididunt ut labore et dolore magna aliqua. Ut enim ad minim veniam, quis nostrud exercitation ullamco laboris nisi ut aliquip ex ea commodo consequat. Duis aute irure dolor in reprehenderit in voluptate velit esse cillum dolore eu fugiat nulla pariatur. Excepteur sint occaecat cupidatat non proident, sunt in culpa qui officia deserunt mollit anim id est laborum.\n",
    "    ```\n",
    "    2. Create second file and copy content of the first file to the second file in upper case.\n",
    "\n",
    "3. Write a program that will simulate user score in a game. Create a list with 5 player's names. After that simulate 100 games for each player. As a result of the game create a list with player's name and his score (0-1000 range). And save it to a CSV file. File should looks like this:\n",
    "    ```\n",
    "    Player name, Score\n",
    "    Josh, 56\n",
    "    Luke, 784\n",
    "    Kate, 90\n",
    "    Mark, 125\n",
    "    Mary, 877\n",
    "    Josh, 345\n",
    "    ...\n",
    "    ```\n",
    "\n",
    "4. Write a script that reads the data from previous CSV file and creates a new file called high_scores.csv where each row contains the player name and their highest score. Final score should sorted by descending of highest score\n",
    "\n",
    "The output CSV file should look like this:\n",
    "\n",
    "    \n",
    "    Player name, Highest score\n",
    "    Kate, 907\n",
    "    Mary, 897\n",
    "    Luke, 784\n",
    "    Mark, 725\n",
    "    Josh, 345\n",
    "    "
   ]
  },
  {
   "attachments": {},
   "cell_type": "markdown",
   "metadata": {},
   "source": [
    "## Materials\n",
    "\n",
    "1. [Encodings](https://realpython.com/python-encodings-guide/)\n",
    "2. [Reading](https://realpython.com/read-write-files-python/)"
   ]
  }
 ],
 "metadata": {
  "kernelspec": {
   "display_name": "Python 3.9.13 64-bit",
   "language": "python",
   "name": "python3"
  },
  "language_info": {
   "codemirror_mode": {
    "name": "ipython",
    "version": 3
   },
   "file_extension": ".py",
   "mimetype": "text/x-python",
   "name": "python",
   "nbconvert_exporter": "python",
   "pygments_lexer": "ipython3",
   "version": "3.9.16"
  },
  "orig_nbformat": 4,
  "vscode": {
   "interpreter": {
    "hash": "397704579725e15f5c7cb49fe5f0341eb7531c82d19f2c29d197e8b64ab5776b"
   }
  }
 },
 "nbformat": 4,
 "nbformat_minor": 2
}
