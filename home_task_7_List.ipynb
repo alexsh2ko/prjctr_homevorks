{
 "cells": [
  {
   "cell_type": "markdown",
   "metadata": {},
   "source": [
    "1. Write a Python program to compute the difference between two lists.\n",
    "\n",
    "    Sample data: ['a', 'b', 'c', 'd'], ['c', 'd', 'e']\n",
    "\n",
    "    Expected Output:\n",
    "\n",
    "    first-second: ['a', 'b']\n",
    "\n",
    "    second-first: ['e']"
   ]
  },
  {
   "cell_type": "code",
   "execution_count": 13,
   "metadata": {},
   "outputs": [],
   "source": [
    "def compute_difference(first: list, second: list) -> tuple:\n",
    "    first_second = []\n",
    "    second_first = []\n",
    "    for val in first:\n",
    "        if (val in first) == (val in second):\n",
    "            first, second.remove(val)\n",
    "        elif val not in second:\n",
    "            first_second.append(val)\n",
    "    for val in second:    \n",
    "        if val not in first:\n",
    "            second_first.append(val)\n",
    "    print(f'first-second: {first_second}')\n",
    "    print(f'second_first: {second_first}')\n",
    "    return first_second, second_first\n"
   ]
  },
  {
   "cell_type": "markdown",
   "metadata": {},
   "source": [
    "ASSERT"
   ]
  },
  {
   "cell_type": "code",
   "execution_count": null,
   "metadata": {},
   "outputs": [],
   "source": [
    "def test_compute_difference():\n",
    "    result1 = compute_difference(['a', 'b', 'c', 'c', 'd'], ['c', 'd', 'e'])\n",
    "    assert result1 == (['a', 'b', 'c'], ['e'])\n",
    "\n",
    "    result2 = compute_difference([], ['c', 'd', 'e'])\n",
    "    assert result2 == ([], ['c', 'd', 'e'])\n",
    "\n",
    "    result3 = compute_difference([1, 2, 3], [4, 5, 6])\n",
    "    assert result3 == ([1, 2, 3], [4, 5, 6])\n",
    "\n",
    "    result3 = compute_difference([1, 2, 3], [2, 3, 4])\n",
    "    assert result3 == ([1], [4])\n",
    "test_compute_difference()"
   ]
  },
  {
   "cell_type": "markdown",
   "metadata": {},
   "source": [
    "2. Given an array of integers nums and an integer target, return indices of the two numbers such that they add up to target.\n",
    "\n",
    "    You may assume that each input would have exactly one solution, and you may not use the same element twice.\n",
    "\n",
    "    You can return the answer in any order.\n",
    "\n",
    "    **Example 1:**\n",
    "\n",
    "    Input: nums = [2,7,11,15], target = 9\n",
    "\n",
    "    Output: [0,1]\n",
    "\n",
    "    Explanation: Because nums[0] + nums[1] == 9, we return [0, 1].\n",
    "\n",
    "    **Example 2:**\n",
    "\n",
    "    Input: nums = [3,2,4], target = 6\n",
    "\n",
    "    Output: [1,2]\n",
    "\n",
    "    **Example 3:**\n",
    "\n",
    "    Input: nums = [3,3], target = 6\n",
    "\n",
    "    Output: [0,1]"
   ]
  },
  {
   "cell_type": "code",
   "execution_count": 11,
   "metadata": {},
   "outputs": [],
   "source": [
    "def sum_of_two(nums: list, target: int) -> list:\n",
    "    for x in range(len(nums)):\n",
    "        for y in range(x + 1, len(nums)):\n",
    "            if nums[x] + nums[y] == target and x != y:\n",
    "                return [x, y]"
   ]
  },
  {
   "cell_type": "markdown",
   "metadata": {},
   "source": [
    "ASSERT"
   ]
  },
  {
   "cell_type": "code",
   "execution_count": 12,
   "metadata": {},
   "outputs": [],
   "source": [
    "def test_sum_of_two():\n",
    "        result1 = sum_of_two([2,7,11,15], 9)\n",
    "        assert result1 == [0, 1]\n",
    "\n",
    "        result2 = sum_of_two([3,2,4], 6)\n",
    "        assert result2 == [1, 2]\n",
    "\n",
    "        result3 = sum_of_two([3,3], 6)\n",
    "        assert result3 == [0, 1]\n",
    "test_sum_of_two()"
   ]
  },
  {
   "cell_type": "markdown",
   "metadata": {},
   "source": [
    "3. Write a program that takes a list of integers as input and returns a new list that contains only the elements that are unique (i.e., that appear only once in the list). For example, if the input list is [1, 2, 3, 2, 4, 5, 5], the output list should be [1, 3, 4]. You can not use set data structure. It`s also forbidden to use the count method."
   ]
  },
  {
   "cell_type": "code",
   "execution_count": 9,
   "metadata": {},
   "outputs": [],
   "source": [
    "def unique_elements(arr: list) -> list:\n",
    "    uniqe_arr = []\n",
    "    uniqe_arr = [x for x in arr if arr.count(x) == 1]\n",
    "    print(sorted(uniqe_arr))\n",
    "    return uniqe_arr"
   ]
  },
  {
   "cell_type": "markdown",
   "metadata": {},
   "source": [
    "Assert"
   ]
  },
  {
   "cell_type": "code",
   "execution_count": null,
   "metadata": {},
   "outputs": [],
   "source": [
    "def test_unique_elements():\n",
    "        result1 = unique_elements([1, 2, 3, 2, 4, 5, 5])\n",
    "        assert result1 == [1, 3, 4]\n",
    "\n",
    "        result2 = unique_elements([1, 2, 3, 4, 5])\n",
    "        assert result2 == [1, 2, 3, 4, 5]\n",
    "\n",
    "        result3 = unique_elements([1, 1, 1, 1, 1])\n",
    "        assert result3 == []\n",
    "test_unique_elements()"
   ]
  },
  {
   "cell_type": "markdown",
   "metadata": {},
   "source": [
    "4. Write a program that takes a list of integers as input and returns a new list that contains only the elements that appear an odd number of times in the list. For example, if the input list is [1, 2, 3, 2, 4, 5, 5], the output list should be [1, 3, 4]."
   ]
  },
  {
   "cell_type": "code",
   "execution_count": 7,
   "metadata": {},
   "outputs": [],
   "source": [
    "def odd_elements(arr: list) -> list:\n",
    "   odd_list = [r for r in set(arr) if arr.count(r) % 2 != 0]\n",
    "   print(odd_list)\n",
    "   return odd_list"
   ]
  },
  {
   "cell_type": "markdown",
   "metadata": {},
   "source": [
    "Assert"
   ]
  },
  {
   "cell_type": "code",
   "execution_count": null,
   "metadata": {},
   "outputs": [],
   "source": [
    "def test_odd_elements():\n",
    "            result1 = odd_elements([1, 2, 3, 2, 4, 5, 5])\n",
    "            assert result1 == [1, 3, 4]\n",
    "\n",
    "            result1 = odd_elements([1, 2, 3, 2, 4, 5, 5, 6, 6, 6])\n",
    "            assert result1 == [1, 3, 4, 6]\n",
    "test_odd_elements()"
   ]
  },
  {
   "cell_type": "markdown",
   "metadata": {},
   "source": [
    "5. Write a program that takes a list of integers as input and returns the second-largest element in the list. If the list has fewer than two elements, the program should return None. For example, if the input list is [1, 2, 3, 2, 4, 5, 5], the program should return 5."
   ]
  },
  {
   "cell_type": "code",
   "execution_count": 4,
   "metadata": {},
   "outputs": [],
   "source": [
    "def second_largest_element(arr: list) -> int:\n",
    "    secondLargest = 0 \n",
    "    if len(arr) < 1 or len(arr) == arr.count(arr[0]):\n",
    "        secondLargest = None\n",
    "        print(secondLargest)\n",
    "        return secondLargest\n",
    "    else: \n",
    "        new_list = arr\n",
    "        new_list.remove(max(new_list))\n",
    "        secondLargest = max(new_list)\n",
    "        print(secondLargest)\n",
    "        return secondLargest"
   ]
  },
  {
   "cell_type": "markdown",
   "metadata": {},
   "source": [
    "Assert"
   ]
  },
  {
   "cell_type": "code",
   "execution_count": null,
   "metadata": {},
   "outputs": [],
   "source": [
    "def test_second_largest_element():\n",
    "        result1 = second_largest_element([1, 2, 3, 2, 4, 5, 5])\n",
    "        assert result1 == 5\n",
    "\n",
    "        result2 = second_largest_element([1, 2, 3, 4, 5])\n",
    "        assert result2 == 4\n",
    "\n",
    "        result3 = second_largest_element([1, 1, 1, 1, 1])\n",
    "        assert result3 == None\n",
    "test_second_largest_element()"
   ]
  },
  {
   "cell_type": "markdown",
   "metadata": {},
   "source": [
    "7. Sort the following list by population. Calculate average and total population for cities from this list:\n",
    "```\n",
    "[\n",
    "    ('New York City', 8550405),\n",
    "    ('Los Angeles', 3792621),\n",
    "    ('Chicago', 2695598),\n",
    "    ('Houston', 2100263),\n",
    "    ('Philadelphia', 1526006),\n",
    "    ('Phoenix', 1445632),\n",
    "    ('San Antonio', 1327407),\n",
    "    ('San Diego', 1307402),\n",
    "    ('Dallas', 1197816),\n",
    "    ('San Jose', 945942),\n",
    "]\n",
    "```\n"
   ]
  },
  {
   "cell_type": "code",
   "execution_count": null,
   "metadata": {},
   "outputs": [],
   "source": [
    "pop_of_city = [\n",
    "    ('New York City', 8550405),\n",
    "    ('Los Angeles', 3792621),\n",
    "    ('Chicago', 2695598),\n",
    "    ('Houston', 2100263),\n",
    "    ('Philadelphia', 1526006),\n",
    "    ('Phoenix', 1445632),\n",
    "    ('San Antonio', 1327407),\n",
    "    ('San Diego', 1307402),\n",
    "    ('Dallas', 1197816),\n",
    "    ('San Jose', 945942),\n",
    "]\n",
    "pop_of_city.sort(key=lambda x: x[1])\n",
    "for c in range(len(pop_of_city)):\n",
    "    print(pop_of_city[c])\n",
    "sum_pop = 0\n",
    "average_pop = 0\n",
    "dig_pop = []\n",
    "dig_pop = [i[1] for i in pop_of_city]\n",
    "print(dig_pop)\n",
    "sum_pop = sum(dig_pop[:])\n",
    "average_pop = sum_pop / len(dig_pop)\n",
    "print(f\"\\nTotal sum population: {sum_pop}\")\n",
    "print(f\"Average population: {average_pop}\")"
   ]
  }
 ],
 "metadata": {
  "kernelspec": {
   "display_name": "Python 3.11.1 64-bit",
   "language": "python",
   "name": "python3"
  },
  "language_info": {
   "codemirror_mode": {
    "name": "ipython",
    "version": 3
   },
   "file_extension": ".py",
   "mimetype": "text/x-python",
   "name": "python",
   "nbconvert_exporter": "python",
   "pygments_lexer": "ipython3",
   "version": "3.11.1"
  },
  "orig_nbformat": 4,
  "vscode": {
   "interpreter": {
    "hash": "de47f5c92c0ee6f12a59a5613ac5feff6aab19ddff207ba0b3964cced08c4ccc"
   }
  }
 },
 "nbformat": 4,
 "nbformat_minor": 2
}
