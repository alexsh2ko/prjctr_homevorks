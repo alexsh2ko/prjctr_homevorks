{
 "cells": [
  {
   "cell_type": "markdown",
   "metadata": {
    "pycharm": {
     "name": "#%% md\n"
    }
   },
   "source": [
    "1. Modify the Country class to include a third instance attribute called capital as a string. Store your new class in a script and test it out by adding the following code at the bottom of the script:\n",
    "```\n",
    "japan = Country('Japan', 140_000_000, 'Tokyo')\n",
    "print(f\"{japan.name} population is {japan.population} and capital is {japan.capital}.\") \n",
    "```\n",
    "\n",
    "    The output of your script should be:\n",
    "    \n",
    "```\n",
    "    Japan population is 140000000 and capital is Tokyo.\n",
    "```\n",
    "\n",
    "2. Add increase_population method to country class. This method should take an argument and increase population of the country on this number.\n",
    "\n",
    "3. Create add method to add two countries together. This method should create another country object with the name of the two countries combined and population of the two countries added together.\n",
    "```\n",
    "bosnia = Country('Bosnia', 10_000_000)\n",
    "herzegovina = Country('Herzegovina', 5_000_000)\n",
    "\n",
    "bosnia_herzegovina = bosnia.add(herzegovina)\n",
    "bosnia_herzegovina.population -> 15_000_000\n",
    "bosnia_herzegovina.name -> 'Bosnia Herzegovina'\n",
    "```"
   ]
  },
  {
   "cell_type": "code",
   "execution_count": 23,
   "metadata": {
    "pycharm": {
     "name": "#%%\n"
    }
   },
   "outputs": [
    {
     "name": "stdout",
     "output_type": "stream",
     "text": [
      "Japan population is 140000000 and capital is Tokyo.\n",
      "Now population of Japan is 145550000\n",
      "In Bosnia_Herzegovina live 15000000\n"
     ]
    }
   ],
   "source": [
    "class Country:\n",
    "    \"\"\"\n",
    "    У класі Country метод __init__ отримує три аргументи: name, \n",
    "    population та capital, яка за замовчуванням має значення None,\n",
    "    тому що надалі нові об'єкти bosnia та herzegovina не\n",
    "    мають аргументу capital. \n",
    "    \"\"\"\n",
    "    def __init__(self, name, population, capital=None):\n",
    "        self.name = name\n",
    "        self.population = population\n",
    "        self.capital = capital\n",
    "\n",
    "    def increase_population(self, growing_number):\n",
    "        self.population += growing_number\n",
    "        return self.population\n",
    "\n",
    "    def __add__(self, some_country):\n",
    "        \"\"\"Метод __add__ викликається, коли два об'єкти Country додаються разом\n",
    "        за допомогою оператора '+'. Він створює об'єкт Country з об'єднаною\n",
    "        назвою та населенням двох країн.\n",
    "        \"\"\"\n",
    "        name_of_both = f\"{self.name}_{some_country.name}\"\n",
    "        pop_of_both = self.population + some_country.population\n",
    "        return Country(name_of_both, pop_of_both)\n",
    "\n",
    "japan = Country('Japan', 140_000_000, 'Tokyo')\n",
    "print(f\"{japan.name} population is {japan.population} and capital is {japan.capital}.\")    \n",
    "\n",
    "japan.increase_population(5550000)\n",
    "print(f\"Now population of {japan.name} is {japan.population}\")\n",
    "\n",
    "bosnia = Country('Bosnia', 10_000_000)\n",
    "herzegovina = Country('Herzegovina', 5_000_000)\n",
    "\n",
    "bosnia_herzegovina = bosnia + herzegovina\n",
    "print(f\"In {bosnia_herzegovina.name} live {bosnia_herzegovina.population}\")\n"
   ]
  }
 ],
 "metadata": {
  "kernelspec": {
   "display_name": "Python 3.11.1 64-bit",
   "language": "python",
   "name": "python3"
  },
  "language_info": {
   "codemirror_mode": {
    "name": "ipython",
    "version": 3
   },
   "file_extension": ".py",
   "mimetype": "text/x-python",
   "name": "python",
   "nbconvert_exporter": "python",
   "pygments_lexer": "ipython3",
   "version": "3.11.1"
  },
  "orig_nbformat": 4,
  "vscode": {
   "interpreter": {
    "hash": "de47f5c92c0ee6f12a59a5613ac5feff6aab19ddff207ba0b3964cced08c4ccc"
   }
  }
 },
 "nbformat": 4,
 "nbformat_minor": 2
}
