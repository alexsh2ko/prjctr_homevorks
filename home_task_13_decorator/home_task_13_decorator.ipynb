{
 "cells": [
  {
   "cell_type": "markdown",
   "metadata": {},
   "source": [
    "1. Write a decorator that ensures a function is only called by users with a specific role. Each function should have an user_type with a string type in kwargs\n",
    "\n",
    "    Example\n",
    "\n",
    "    ```python\n",
    "    @is_admin\n",
    "    def show_customer_receipt(user_type: str):\n",
    "        # some very dangerous operation\n",
    "\n",
    "    show_customer_receipt(user_type='user')\n",
    "    > ValueError: Permission denied\n",
    "\n",
    "    show_customer_receipt(user_type='admin')\n",
    "    > function pass as it should be\n",
    "    ```"
   ]
  },
  {
   "cell_type": "code",
   "execution_count": 120,
   "metadata": {},
   "outputs": [],
   "source": [
    "def is_admin(func):\n",
    "    def wrap(*args, **kwargs):\n",
    "        user_type = kwargs.get('user_type')\n",
    "        if user_type != 'admin':\n",
    "            raise ValueError('Permission denied')\n",
    "        return func(*args, **kwargs)\n",
    "    return wrap\n",
    "\n",
    "\n",
    "@is_admin\n",
    "def show_customer_receipt(user_type: str):\n",
    "    pass\n",
    "\n",
    "#show_customer_receipt(user_type='user')\n",
    "# Raises ValueError: Permission denied\n",
    "\n",
    "show_customer_receipt(user_type='admin')\n",
    "# function pass as it should be"
   ]
  },
  {
   "cell_type": "markdown",
   "metadata": {},
   "source": [
    "2. Write a decorator that wraps a function in a try-except block and print an error if error has happened\n",
    "\n",
    "    Example\n",
    "    ```python\n",
    "    @catch_errors\n",
    "    def some_function_with_risky_operation(data):\n",
    "        print(data['key'])\n",
    "{list(args.keys())[0]}\n",
    "\n",
    "    some_function_with_risky_operation({'foo': 'bar'})\n",
    "    > Found 1 error during execution of your function: KeyError no such key as 'foo'\n",
    "\n",
    "    some_function_with_risky_operation({'key': 'bar'})\n",
    "    > bar\n",
    "    ```"
   ]
  },
  {
   "cell_type": "code",
   "execution_count": 2,
   "metadata": {},
   "outputs": [
    {
     "name": "stdout",
     "output_type": "stream",
     "text": [
      "Found 1 error during execution of your function: KeyError no such key as 'key'\n",
      "bar\n"
     ]
    }
   ],
   "source": [
    "def decorator_try_except(func):\n",
    "    def wrapper(*args,**kwargs):\n",
    "        try:\n",
    "            return func(*args, **kwargs)\n",
    "        except Exception as error:\n",
    "            print(f\"Found 1 error during execution of your function: {type(error).__name__} no such key as '{error.args[0]}'\")\n",
    "    return wrapper\n",
    "\n",
    "\n",
    "@decorator_try_except\n",
    "def some_function_with_risky_operation(data):\n",
    "    print(data['key'])\n",
    "\n",
    "\n",
    "some_function_with_risky_operation({'foo': 'bar'})\n",
    "some_function_with_risky_operation({'key': 'bar'})\n"
   ]
  },
  {
   "cell_type": "markdown",
   "metadata": {},
   "source": [
    "3. Optional: Create a decorator that will check types. It should take a function with arguments and validate inputs with annotations.\n",
    "\n",
    "    Example:\n",
    "\n",
    "    ```python\n",
    "    @check_types\n",
    "    def add(a: int, b: int) -> int:\n",
    "        return a + b\n",
    "\n",
    "    add(1, 2)\n",
    "    > 3\n",
    "\n",
    "    add(\"1\", \"2\")\n",
    "    > TypeError: Argument a must be int, not str\n",
    "    ```"
   ]
  },
  {
   "cell_type": "code",
   "execution_count": 141,
   "metadata": {},
   "outputs": [
    {
     "data": {
      "text/plain": [
       "3"
      ]
     },
     "execution_count": 141,
     "metadata": {},
     "output_type": "execute_result"
    }
   ],
   "source": [
    "import inspect\n",
    "from functools import wraps\n",
    "\n",
    "def check_types(func):\n",
    "    @wraps(func)\n",
    "    def wrapper(*args, **kwargs):\n",
    "        signature = inspect.signature(func)\n",
    "        bound_arguments = signature.bind(*args, **kwargs)\n",
    "        for name, value in bound_arguments.arguments.items():\n",
    "            parameter = signature.parameters[name]\n",
    "            annotation = parameter.annotation\n",
    "            if annotation != inspect.Parameter.empty and not isinstance(value, annotation):\n",
    "                raise TypeError(f\"Argument {name} must be {annotation.__name__}, not {type(value).__name__}\")\n",
    "        return func(*args, **kwargs)\n",
    "    return wrapper\n",
    "\n",
    "\n",
    "@check_types\n",
    "def add(a: int, b: int) -> int:\n",
    "    return a + b\n",
    "\n",
    "\n",
    "add(1, 2)\n",
    "#add(\"1\", \"2\")"
   ]
  },
  {
   "cell_type": "markdown",
   "metadata": {},
   "source": [
    "4. Optional: Create a function that caches the result of a function, so that if it is called with same same argument multiple times, it returns the cached result first instead of re-executing the function. It`s one of the real task on the project"
   ]
  },
  {
   "cell_type": "code",
   "execution_count": null,
   "metadata": {},
   "outputs": [],
   "source": [
    "def cache_result(func):\n",
    "    results = {}\n",
    "    def wrapper(*args, **kwargs):\n",
    "        cashe = str(args) + str(kwargs)\n",
    "        if cashe not in results:\n",
    "            results[cashe] = func(*args, **kwargs)\n",
    "        return results[cashe]\n",
    "    return wrapper\n",
    "\n",
    "@cache_result\n",
    "def plus_two(a):\n",
    "    return print(a + 2)\n",
    "\n",
    "\n",
    "plus_two(8)  # обчислює і повертає 10\n",
    "plus_two(8)  # повертає кешований результат з попереднього виклику\n"
   ]
  }
 ],
 "metadata": {
  "kernelspec": {
   "display_name": "Python 3.11.1 64-bit",
   "language": "python",
   "name": "python3"
  },
  "language_info": {
   "codemirror_mode": {
    "name": "ipython",
    "version": 3
   },
   "file_extension": ".py",
   "mimetype": "text/x-python",
   "name": "python",
   "nbconvert_exporter": "python",
   "pygments_lexer": "ipython3",
   "version": "3.11.1"
  },
  "orig_nbformat": 4,
  "vscode": {
   "interpreter": {
    "hash": "de47f5c92c0ee6f12a59a5613ac5feff6aab19ddff207ba0b3964cced08c4ccc"
   }
  }
 },
 "nbformat": 4,
 "nbformat_minor": 2
}
