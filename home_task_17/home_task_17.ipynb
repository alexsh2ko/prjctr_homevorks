{
 "cells": [
  {
   "cell_type": "markdown",
   "metadata": {},
   "source": [
    "1. Write SQL queries for table creation for data model that you crated for prev homework (AirBnb model)"
   ]
  },
  {
   "cell_type": "markdown",
   "metadata": {},
   "source": [
    "```\n",
    "CREATE TABLE Users (\n",
    "    user_id INTEGER PRIMARY KEY,\n",
    "    user_type VARCHAR(10),\n",
    "    username VARCHAR(50),\n",
    "    password VARCHAR(50),\n",
    "    email VARCHAR(100),\n",
    "    phone_number VARCHAR(20),\n",
    "    address VARCHAR(100),\n",
    "    payment_method VARCHAR(50)\n",
    ");\n",
    "CREATE TABLE Host (\n",
    "    room_id INTEGER PRIMARY KEY,\n",
    "    user_id INTEGER,\n",
    "    room_type VARCHAR(10),\n",
    "    max_guests INTEGER,\n",
    "    price DECIMAL,\n",
    "    is_ac_available BOOLEAN,\n",
    "    is_refrigerator_available BOOLEAN,\n",
    "    FOREIGN KEY (user_id) REFERENCES Users(user_id)\n",
    ");\n",
    "CREATE TABLE Guests (\n",
    "    reser_id INTEGER PRIMARY KEY,\n",
    "    user_id INTEGER,\n",
    "    room_id INTEGER,\n",
    "    checkin_date DATE,\n",
    "    checkout_date DATE,\n",
    "    total_price DECIMAL,\n",
    "    created_at DATETIME,\n",
    "    FOREIGN KEY (user_id) REFERENCES Users(user_id),\n",
    "    FOREIGN KEY (room_id) REFERENCES Host(room_id)\n",
    ");\n",
    "CREATE TABLE Reviews (\n",
    "    review_id INTEGER PRIMARY KEY,\n",
    "    user_id INTEGER,\n",
    "    room_id INTEGER,\n",
    "    review_text VARCHAR(500),\n",
    "    rating INTEGER,\n",
    "    created_at DATETIME,\n",
    "    FOREIGN KEY (user_id) REFERENCES Users(user_id),\n",
    "    FOREIGN KEY (room_id) REFERENCES Host(room_id)\n",
    ");\n",
    "\n",
    "```"
   ]
  },
  {
   "cell_type": "markdown",
   "metadata": {},
   "source": [
    "2. Write 3 rows (using INSERT queries) for each table in the data model"
   ]
  },
  {
   "cell_type": "markdown",
   "metadata": {},
   "source": [
    "```\n",
    "INSERT INTO Users (user_id, user_type, username, password, email, phone_number, address, payment_method) \n",
    "VALUES \n",
    "(1, 'Host', 'Petro Vich', 'password123', 'petro@gmail.com', '380775588707', '1 First st, Kiev, Ukraine', 'Credit Card'),\n",
    "(2, 'Guest', 'Den Dosh', 'guestpassword', 'dendosh@yahoo.com', '380999876543', '11/2 Second st, Kiev, Ukraine', 'PayPal'),\n",
    "(3, 'Guest', 'Michael Brown', 'mike123', 'michaelbrown@hotmail.com', '380666546677', '789 Third Ave, Dnipro, Ukraine', 'Credit Card');\n",
    "\n",
    "```"
   ]
  },
  {
   "cell_type": "markdown",
   "metadata": {},
   "source": [
    "```\n",
    "INSERT INTO Hosts (room_id, user_id, room_type, max_guests, price, is_ac_available, is_refrigerator_available) \n",
    "VALUES \n",
    "(1, 1, 'Private room', 2, 50.00, true, true),\n",
    "(2, 1, 'Entire apartment', 4, 120.00, true, true),\n",
    "(3, 2, 'Private room', 2, 60.00, true, false);\n",
    "```"
   ]
  },
  {
   "cell_type": "markdown",
   "metadata": {},
   "source": [
    "```\n",
    "INSERT INTO Reservations (reser_id, user_id, room_id, checkin_date, checkout_date, total_price, created_at) \n",
    "VALUES \n",
    "(1, 2, 1, '2023-05-01', '2023-05-05', 1200.00, '2023-04-13 10:00:00'),\n",
    "(2, 3, 2, '2023-06-15', '2023-06-20', 600.00, '2023-04-13 11:00:00'),\n",
    "(3, 2, 3, '2023-07-01', '2023-07-03', 1200.00, '2023-04-13 12:00:00');\n",
    "\n",
    "```"
   ]
  },
  {
   "cell_type": "markdown",
   "metadata": {},
   "source": [
    "```\n",
    "INSERT INTO Reviews (review_id, user_id, room_id, review_text, rating, created_at) \n",
    "VALUES \n",
    "(1, 2, 1, 'Great room and location!', 5, '2023-05-06 10:00:00'),\n",
    "(2, 3, 2, 'Clean and spacious apartment.', 4, '2023-06-21 10:00:00'),\n",
    "(3, 2, 3, 'Comfortable bed but no fridge as advertised.', 3, '2023-07-04 10:00:00');\n",
    "```"
   ]
  },
  {
   "cell_type": "markdown",
   "metadata": {},
   "source": [
    "2. Find a user who had biggest amount of reservation. Return user name and user_id"
   ]
  },
  {
   "cell_type": "markdown",
   "metadata": {},
   "source": [
    "```\n",
    "SELECT Users.username, Users.user_id\n",
    "FROM Users\n",
    "INNER JOIN Reservations\n",
    "ON Users.user_id = Reservations.guest_id\n",
    "GROUP BY Users.user_id\n",
    "ORDER BY COUNT(*) DESC\n",
    "LIMIT 1;\n",
    "```"
   ]
  }
 ],
 "metadata": {
  "kernelspec": {
   "display_name": "Python 3.11.1 64-bit",
   "language": "python",
   "name": "python3"
  },
  "language_info": {
   "codemirror_mode": {
    "name": "ipython",
    "version": 3
   },
   "file_extension": ".py",
   "mimetype": "text/x-python",
   "name": "python",
   "nbconvert_exporter": "python",
   "pygments_lexer": "ipython3",
   "version": "3.11.1"
  },
  "orig_nbformat": 4,
  "vscode": {
   "interpreter": {
    "hash": "de47f5c92c0ee6f12a59a5613ac5feff6aab19ddff207ba0b3964cced08c4ccc"
   }
  }
 },
 "nbformat": 4,
 "nbformat_minor": 2
}
