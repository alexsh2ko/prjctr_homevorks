{
 "cells": [
  {
   "attachments": {},
   "cell_type": "markdown",
   "id": "90d10e97",
   "metadata": {},
   "source": [
    "### Python lesson 5.  \n",
    "#### Create and work with **Function**. Date: 18.11\n",
    "> **Main topic**:\n",
    ">    1. Test\n",
    ">    2. **Function**\n",
    "    \n",
    "> **Materials**:\n",
    ">    1. [Function](https://python-course.eu/python-tutorial/functions.php)\n",
    ">    2. [Range function](https://realpython.com/python-range/)\n",
    ">    3. [Simple function](https://www.w3schools.com/python/python_functions.asp)\n",
    ">    4. [Lambda function](https://www.w3schools.com/python/python_lambda.asp)\n",
    "        "
   ]
  },
  {
   "cell_type": "code",
   "execution_count": 3,
   "id": "ec3a1991",
   "metadata": {},
   "outputs": [
    {
     "name": "stdout",
     "output_type": "stream",
     "text": [
      "Step 0 to 12\n",
      "Step 1 to 12\n",
      "Step 2 to 12\n",
      "Step 3 to 12\n",
      "Step 4 to 12\n",
      "Step 5 to 12\n",
      "Step 6 to 12\n",
      "Step 7 to 12\n",
      "Step 8 to 12\n",
      "Step 9 to 12\n",
      "Step 10 to 12\n",
      "Step 11 to 12\n",
      "Step 12 to 12\n"
     ]
    }
   ],
   "source": [
    "# While - loop\n",
    "# Task 1. Знайти помилку. Описати що робить код, бажано построчно \n",
    "pointer = 0\n",
    "counter = int(input('Enter number: '))\n",
    "while counter >= pointer: # Цикли, Логічна\n",
    "    # Тіло циклу\n",
    "    print(f'Step {pointer} to {counter}')\n",
    "    pointer +=1  # Синтаксична помилка"
   ]
  },
  {
   "cell_type": "code",
   "execution_count": null,
   "id": "8645ae0a",
   "metadata": {},
   "outputs": [],
   "source": [
    "# Task 2. Знайти суму чисел від 0 до 100\n",
    "# Створювати змінні, 0\n",
    "# оператори циклів\n",
    "# if - stat \n",
    "# print \n",
    "# range "
   ]
  },
  {
   "cell_type": "code",
   "execution_count": 17,
   "id": "add3b153",
   "metadata": {},
   "outputs": [
    {
     "name": "stdout",
     "output_type": "stream",
     "text": [
      "4950\n"
     ]
    }
   ],
   "source": [
    "sum_ = 0\n",
    "for i in range(0, 100):\n",
    "    sum_ += i\n",
    "print(sum_)"
   ]
  },
  {
   "cell_type": "code",
   "execution_count": 16,
   "id": "9697c0e2",
   "metadata": {},
   "outputs": [
    {
     "name": "stdout",
     "output_type": "stream",
     "text": [
      "5050\n"
     ]
    }
   ],
   "source": [
    "# Студент \n",
    "i = 100\n",
    "s = i * (i + 1) // 2\n",
    "print(s)"
   ]
  },
  {
   "cell_type": "code",
   "execution_count": null,
   "id": "fbf868c1",
   "metadata": {},
   "outputs": [],
   "source": [
    "string = 'string'\n",
    "print(string[0], string[0:2], string[0::2], string[-1])"
   ]
  },
  {
   "cell_type": "markdown",
   "id": "ee7cfa99",
   "metadata": {},
   "source": [
    "# Task 3. Розвернути строку \n",
    "1. за допомогою цикла \n",
    "2. Функцією або slice . Example: 123 -> 321 "
   ]
  },
  {
   "cell_type": "code",
   "execution_count": null,
   "id": "780587f0",
   "metadata": {},
   "outputs": [],
   "source": [
    "user_string = input('Enter you string: ')\n",
    "print(f'{user_string} reverse {user_string[::-1]} ')"
   ]
  },
  {
   "cell_type": "code",
   "execution_count": 31,
   "id": "bf632e41",
   "metadata": {},
   "outputs": [
    {
     "name": "stdout",
     "output_type": "stream",
     "text": [
      "321\n"
     ]
    }
   ],
   "source": [
    "# If time - contin\n",
    "number = '123'\n",
    "result = ''\n",
    "for i in range(len(number), 0, -1):\n",
    "    result = result + number[i-1]\n",
    "print(result)\n"
   ]
  },
  {
   "cell_type": "markdown",
   "id": "661ec092",
   "metadata": {},
   "source": [
    "# Test task \n",
    "Create the dictionary with numbers (counts) of vowels in the given string in one line. We consider a, e, i, o, u as vowels (not y).\n",
    "Example of input: 'Education'\n",
    "Example of output: count of  vowels: 5 * Потрібно порахувати vowels і вивезти їх кількість "
   ]
  },
  {
   "cell_type": "code",
   "execution_count": null,
   "id": "ec679b74",
   "metadata": {},
   "outputs": [],
   "source": [
    "# Крок 1. Create function \n",
    "def count_vowel(string: str, vowels: str) -> int:\n",
    "    pass\n",
    "\n",
    "# Крок 2. Get info from user \n",
    "string = input('Enter some string: ')\n",
    "\n",
    "def count_vowel(string: str, vowels: str = 'aeiou') -> int:\n",
    "    pass\n",
    "\n",
    "# Крок 3. Iterate string and create value(sum_, vowels)\n",
    "def count_vowel(string: str, vowels: str = 'aeiou') -> int:\n",
    "    sum_ = 0\n",
    "    for i in string:\n",
    "        print(i)\n",
    "        \n",
    "# Крок 4. Check vowels and count \n",
    "def count_vowel(string: str, vowels: str = 'aeiou') -> int:\n",
    "    sum_ = 0\n",
    "    for i in string:\n",
    "        if i in vowels:\n",
    "            sum_ += 1\n",
    "    print(sum_)\n",
    "    return f'Vowels in {string} is {sum_}'\n",
    "\n",
    "            "
   ]
  },
  {
   "cell_type": "code",
   "execution_count": 140,
   "id": "79cc081b",
   "metadata": {},
   "outputs": [],
   "source": [
    "string = input('Enter some string: ')"
   ]
  },
  {
   "cell_type": "code",
   "execution_count": 151,
   "id": "0e0428fc",
   "metadata": {},
   "outputs": [
    {
     "name": "stdout",
     "output_type": "stream",
     "text": [
      "Vowels in string, is 1\n"
     ]
    }
   ],
   "source": [
    "# string -> s, t, r, i,n ,g  i - s, i - t, i - r\n",
    "def count_vowel(string: str, vowels: str = 'aeiou') -> int:\n",
    "    sum_ = 0\n",
    "    for i in string:\n",
    "        if i in vowels:\n",
    "            sum_ += 1\n",
    "    return f'Vowels in {string} is {sum_}'\n",
    "\n",
    "\n",
    "print(count_vowel(string))\n"
   ]
  },
  {
   "cell_type": "code",
   "execution_count": 129,
   "id": "8d495211",
   "metadata": {},
   "outputs": [
    {
     "name": "stdout",
     "output_type": "stream",
     "text": [
      "Count of values: 1\n"
     ]
    }
   ],
   "source": [
    "def countvowel(string) ->int:\n",
    "    string = input('Enter your text: ')\n",
    "    sum_ = 0\n",
    "    for i in range(0, len(string)):\n",
    "        if string[i] in 'aeiou':\n",
    "            sum_+=1\n",
    "    return sum_\n",
    "print('Count of values:', countvowel(string))"
   ]
  },
  {
   "cell_type": "code",
   "execution_count": null,
   "id": "ff65ccad",
   "metadata": {},
   "outputs": [],
   "source": [
    "# Task 4. Порахувати сумму чисел, введену user. Example: 123 -> 6\n",
    "string_user = input('Enter number: ')\n",
    "summ_of_string = 0\n",
    "counter = 0\n",
    "for i in string_user:\n",
    "    print(f'Step {counter} Summ {summ_of_string}')\n",
    "    counter += 1\n",
    "    summ_of_string += int(i)\n",
    "print(summ_of_string)"
   ]
  },
  {
   "cell_type": "code",
   "execution_count": null,
   "id": "388b338d",
   "metadata": {},
   "outputs": [],
   "source": []
  },
  {
   "cell_type": "markdown",
   "id": "fdf6dc67",
   "metadata": {},
   "source": [
    "### Функція - іменована/анонімна область пам'яті. В середині якої зберігається код.\n",
    "(Тип даних функцій - функція, об'єкт в Python)\n",
    ">Основні задачі які вирішують функція:\n",
    "> 1. Повторне використання коду\n",
    "> 2. Розділення програми на логічні блоки\n",
    "\n",
    "Для створення функції з іменем використовуємо ключове слово **def** \n",
    "\n",
    "\n",
    "def імя_функції(параметри) -> повертаємий тип (очікуваний): \\\n",
    "    Тіло функції, в середині цього тіла створюється локальна область видимості"
   ]
  },
  {
   "cell_type": "markdown",
   "id": "8456565a",
   "metadata": {},
   "source": [
    "### Типи функцій:\n",
    "> 1. Функція без параметрів\n",
    "> 2. Функція з параметрами\n",
    "> 3. Функція з необ параметрами(*args, \\***kwargs). "
   ]
  },
  {
   "cell_type": "code",
   "execution_count": 32,
   "id": "9548e888",
   "metadata": {},
   "outputs": [],
   "source": [
    "pri = print"
   ]
  },
  {
   "cell_type": "code",
   "execution_count": 33,
   "id": "56692058",
   "metadata": {},
   "outputs": [
    {
     "name": "stdout",
     "output_type": "stream",
     "text": [
      "Hello World!\n"
     ]
    }
   ],
   "source": [
    "pri('Hello World!')"
   ]
  },
  {
   "cell_type": "code",
   "execution_count": 34,
   "id": "fa379a3a",
   "metadata": {},
   "outputs": [
    {
     "name": "stdout",
     "output_type": "stream",
     "text": [
      "Next stage\n"
     ]
    }
   ],
   "source": [
    "pri('Next stage')"
   ]
  },
  {
   "cell_type": "code",
   "execution_count": 42,
   "id": "b2589498",
   "metadata": {},
   "outputs": [],
   "source": [
    "def first_function(): # Створюємо функцію без параметрів, signature \n",
    "    # Тіло функції - body\n",
    "    print('Hello my first function') "
   ]
  },
  {
   "cell_type": "code",
   "execution_count": 43,
   "id": "92a2cd1a",
   "metadata": {},
   "outputs": [
    {
     "name": "stdout",
     "output_type": "stream",
     "text": [
      "Hello my first function\n",
      "Hello my first function\n",
      "Hello my first function\n",
      "Hello my first function\n",
      "None None None None\n"
     ]
    }
   ],
   "source": [
    "print(first_function(), first_function(), first_function(), first_function())"
   ]
  },
  {
   "cell_type": "code",
   "execution_count": 1,
   "id": "5c98b2cf",
   "metadata": {},
   "outputs": [
    {
     "ename": "NameError",
     "evalue": "name 'first_function' is not defined",
     "output_type": "error",
     "traceback": [
      "\u001b[1;31m---------------------------------------------------------------------------\u001b[0m",
      "\u001b[1;31mNameError\u001b[0m                                 Traceback (most recent call last)",
      "Cell \u001b[1;32mIn[1], line 2\u001b[0m\n\u001b[0;32m      1\u001b[0m \u001b[39mfor\u001b[39;00m i \u001b[39min\u001b[39;00m \u001b[39mrange\u001b[39m(\u001b[39m10\u001b[39m):\n\u001b[1;32m----> 2\u001b[0m     first_function()\n",
      "\u001b[1;31mNameError\u001b[0m: name 'first_function' is not defined"
     ]
    }
   ],
   "source": [
    "for i in range(10):\n",
    "    first_function()"
   ]
  },
  {
   "cell_type": "code",
   "execution_count": 44,
   "id": "a159d56d",
   "metadata": {},
   "outputs": [
    {
     "name": "stdout",
     "output_type": "stream",
     "text": [
      "Hello my first function\n",
      "None <class 'NoneType'>\n"
     ]
    }
   ],
   "source": [
    "a = first_function() # Для виклика функції звертаємось до іменні\n",
    "print(a, type(a)) # Функція завжди повертає результат, якщо функція явно нічого не повертає по замовчуванню буде None"
   ]
  },
  {
   "cell_type": "code",
   "execution_count": 45,
   "id": "269ba3f1",
   "metadata": {},
   "outputs": [
    {
     "name": "stdout",
     "output_type": "stream",
     "text": [
      "Hello my first function\n",
      "<class 'NoneType'> None None\n"
     ]
    }
   ],
   "source": [
    "print(type(a), a, first_function())"
   ]
  },
  {
   "cell_type": "code",
   "execution_count": 46,
   "id": "b2fce00c",
   "metadata": {},
   "outputs": [
    {
     "name": "stdout",
     "output_type": "stream",
     "text": [
      "Hello my first function\n"
     ]
    }
   ],
   "source": [
    "first_function()"
   ]
  },
  {
   "cell_type": "code",
   "execution_count": null,
   "id": "18baf22b",
   "metadata": {},
   "outputs": [],
   "source": []
  },
  {
   "cell_type": "code",
   "execution_count": 47,
   "id": "c985b8fe",
   "metadata": {},
   "outputs": [],
   "source": [
    "def add(a, b) -> int: # Створити функцію з двома параметрами, порядок передачі аргументів важливий!\n",
    "    print(f'A = {a} B = {b}')\n",
    "    return a + b"
   ]
  },
  {
   "cell_type": "code",
   "execution_count": 48,
   "id": "8329b352",
   "metadata": {},
   "outputs": [
    {
     "name": "stdout",
     "output_type": "stream",
     "text": [
      "A = 5 B = 7\n",
      "12 <class 'int'>\n"
     ]
    }
   ],
   "source": [
    "result = add(5, 7)\n",
    "print(result, type(result))"
   ]
  },
  {
   "cell_type": "code",
   "execution_count": 50,
   "id": "0758fb86",
   "metadata": {},
   "outputs": [
    {
     "name": "stdout",
     "output_type": "stream",
     "text": [
      "A = 8 B = 5\n",
      "13\n"
     ]
    }
   ],
   "source": [
    "print(add(8, 5))"
   ]
  },
  {
   "cell_type": "code",
   "execution_count": 51,
   "id": "3aff296b",
   "metadata": {
    "scrolled": true
   },
   "outputs": [
    {
     "name": "stdout",
     "output_type": "stream",
     "text": [
      "A = 5 B = 8\n",
      "13\n"
     ]
    }
   ],
   "source": [
    "print(add(b = 8, a = 5))"
   ]
  },
  {
   "cell_type": "code",
   "execution_count": 49,
   "id": "3488f52d",
   "metadata": {},
   "outputs": [
    {
     "name": "stdout",
     "output_type": "stream",
     "text": [
      "A = 5 B = 8\n",
      "58\n"
     ]
    }
   ],
   "source": [
    "print(add(b = '8', a = '5'))"
   ]
  },
  {
   "cell_type": "code",
   "execution_count": null,
   "id": "21e775ce",
   "metadata": {},
   "outputs": [],
   "source": [
    "a, b = 15, True"
   ]
  },
  {
   "cell_type": "code",
   "execution_count": 52,
   "id": "8c257da5",
   "metadata": {},
   "outputs": [],
   "source": [
    "def minus(a, b):\n",
    "    print(f'A = {a} B = {b}')\n",
    "    return a - b"
   ]
  },
  {
   "cell_type": "code",
   "execution_count": 53,
   "id": "81ae342d",
   "metadata": {},
   "outputs": [
    {
     "name": "stdout",
     "output_type": "stream",
     "text": [
      "A = 16.0 B = 18\n",
      "-2.0\n"
     ]
    }
   ],
   "source": [
    "print(minus(16.0, 18))"
   ]
  },
  {
   "cell_type": "code",
   "execution_count": 58,
   "id": "7095214f",
   "metadata": {},
   "outputs": [
    {
     "name": "stdout",
     "output_type": "stream",
     "text": [
      "A = 8 B = 5\n",
      "3\n",
      "A = 8 B = 5\n",
      "3\n"
     ]
    }
   ],
   "source": [
    "print(minus(a = 8,  b = 5))\n",
    "print(minus(b = 5,  a = 8))"
   ]
  },
  {
   "cell_type": "code",
   "execution_count": 59,
   "id": "7c6ab086",
   "metadata": {},
   "outputs": [
    {
     "name": "stdout",
     "output_type": "stream",
     "text": [
      "3\n",
      "80\n",
      "a= 1 b= 2 sum_of_two_numbers(1,2) 3\n"
     ]
    }
   ],
   "source": [
    "def sum_of_two_numbers(a, b):  # signature\n",
    "    # body\n",
    "    sum_result = a + b\n",
    "    return sum_result\n",
    "    # print(f'Result is {sum_result}')\n",
    "\n",
    "\n",
    "result = sum_of_two_numbers(1, 2)\n",
    "print(result)\n",
    "print(sum_of_two_numbers(30, 50))\n",
    "print('a=', 1, 'b=', 2, 'sum_of_two_numbers(1,2)', sum_of_two_numbers(1,2))"
   ]
  },
  {
   "cell_type": "code",
   "execution_count": 60,
   "id": "05a40fac",
   "metadata": {},
   "outputs": [
    {
     "name": "stdout",
     "output_type": "stream",
     "text": [
      "123 *\n"
     ]
    }
   ],
   "source": [
    "def get_int_from_input():  # signature\n",
    "    # body\n",
    "    input_value = input('input something')\n",
    "    return int(input_value)\n",
    "    print(f'Result is {sum_result}')\n",
    "\n",
    "\n",
    "result = get_int_from_input()\n",
    "print(result, '*')"
   ]
  },
  {
   "cell_type": "code",
   "execution_count": 68,
   "id": "220d3ee6",
   "metadata": {},
   "outputs": [],
   "source": [
    "def all_math(a, b, operation):\n",
    "    match operation:\n",
    "        case '+':\n",
    "            return a + b\n",
    "        case '-':\n",
    "            return a - b\n",
    "        case '*':\n",
    "            return a * b\n",
    "        case '/':\n",
    "            return a / b if b != 0 else 'B equal 0'\n",
    "        case _ :\n",
    "            return 'Invalid operation'"
   ]
  },
  {
   "cell_type": "code",
   "execution_count": 69,
   "id": "35b3733a",
   "metadata": {},
   "outputs": [
    {
     "name": "stdout",
     "output_type": "stream",
     "text": [
      "-5 15 Invalid operation\n"
     ]
    }
   ],
   "source": [
    "print(all_math(5, 10, '-'), all_math(5, 10, '+'), all_math(5, 0, '**'))"
   ]
  },
  {
   "cell_type": "code",
   "execution_count": null,
   "id": "637474f1",
   "metadata": {},
   "outputs": [],
   "source": [
    "# Task 5. Створити функцію, і вивезти сумму чисел від 0 до числа який введе користувач.\n",
    "\n",
    "\n",
    "# Крок 1 Create function\n",
    "def sum_user():\n",
    "    pass\n",
    "\n",
    "# Крок 2 Input value user\n",
    "value = input('Input value: ')\n",
    "def sum_user(value) -> int: \n",
    "    pass\n",
    "\n",
    "\n",
    "# Крок 3 Loop range(0, value)\n",
    "value = input('Input value: ')\n",
    "def sum_user(value) -> int: \n",
    "    value = int(value)\n",
    "    for i in range(0, value):\n",
    "        print(i)\n",
    "  \n",
    "        \n",
    " # Крок 4  Sum \n",
    "value = input('Input value: ')\n",
    "def sum_user(value) -> int: \n",
    "    value = int(value)\n",
    "    sum_ = 0\n",
    "    for i in range(0, value):\n",
    "        sum_ += i\n",
    "    return sum_\n",
    "               "
   ]
  },
  {
   "cell_type": "code",
   "execution_count": null,
   "id": "0a458db4",
   "metadata": {},
   "outputs": [],
   "source": [
    "# Функціонал: def, return, for/while, range, input, print\n",
    "# Крок 1 - створити функцію, 1 - змінну(signa) \n",
    "# Крок 2 - створити змінну для save result\n",
    "# Крок 3 - створити цикл буде проходити в range\n",
    "# Крок 4 - повернути результат "
   ]
  },
  {
   "cell_type": "code",
   "execution_count": 83,
   "id": "119bab12",
   "metadata": {},
   "outputs": [
    {
     "name": "stdout",
     "output_type": "stream",
     "text": [
      "2450\n"
     ]
    }
   ],
   "source": [
    "input_number = input('Enter you number: ')\n",
    "def sum_number(input_number):\n",
    "    sum_ = 0\n",
    "    input_number = int(input_number)\n",
    "    for number in range(0, input_number, 2):\n",
    "       # if number % 2 == 0:\n",
    "        sum_ += number # Логічна помилка\n",
    "    return sum_\n",
    "\n",
    "print(sum_number(input_number))\n",
    "    "
   ]
  },
  {
   "cell_type": "code",
   "execution_count": null,
   "id": "c2702a0c",
   "metadata": {},
   "outputs": [],
   "source": [
    "def sum_of_number(user_number):\n",
    "    sum_of_number = 0\n",
    "    for i in range(user_number):\n",
    "        sum_of_number += i\n",
    "    return (sum_of_number)\n",
    "\n",
    "user_number = int(input('Enter number: '))\n",
    "    \n",
    "print(sum_of_number(user_number))"
   ]
  },
  {
   "cell_type": "code",
   "execution_count": null,
   "id": "ca9307ab",
   "metadata": {},
   "outputs": [],
   "source": [
    "# Task 6. Створити функцію, яке повертає сумму чисел від 0 до числа який введе користувач, числа повинні бути even"
   ]
  },
  {
   "cell_type": "code",
   "execution_count": 72,
   "id": "f2bd5e63",
   "metadata": {},
   "outputs": [],
   "source": [
    "def sum_even_range(up_lim):\n",
    "    # (up_lim // 2) кількість парних чисел\n",
    "    # up_lim - up_lim % 2 останнє парне число\n",
    "    # 2 перше парне число, якщо не рахувати 0\n",
    "    return (up_lim // 2) * (2 + up_lim - up_lim % 2) // 2"
   ]
  },
  {
   "cell_type": "code",
   "execution_count": 74,
   "id": "833ecaf7",
   "metadata": {},
   "outputs": [
    {
     "data": {
      "text/plain": [
       "2550"
      ]
     },
     "execution_count": 74,
     "metadata": {},
     "output_type": "execute_result"
    }
   ],
   "source": [
    "sum_even_range(100)"
   ]
  },
  {
   "cell_type": "markdown",
   "id": "90ce271f",
   "metadata": {},
   "source": [
    "### Practice section 1:\n",
    "\n",
    "1. Write a program that caluculate Fibonacci series. The Fibonacci series is a series of numbers in which each number is the sum of the two preceding numbers. The first two numbers are 1 and 1. The third number is 1 + 1 = 2, the fourth number is 1 + 2 = 3, and so on. Number of iterations should be taken from user input.\n"
   ]
  },
  {
   "cell_type": "code",
   "execution_count": 84,
   "id": "4e59843a",
   "metadata": {},
   "outputs": [],
   "source": [
    "# Опціальні параметри \n",
    "def try_option(result = 'Hello'):\n",
    "    print(f'Result: {result}')"
   ]
  },
  {
   "cell_type": "code",
   "execution_count": 85,
   "id": "4aa19dc9",
   "metadata": {},
   "outputs": [
    {
     "name": "stdout",
     "output_type": "stream",
     "text": [
      "Result: Hello\n",
      "Result: My hello\n",
      "None None\n"
     ]
    }
   ],
   "source": [
    "print(try_option(), try_option('My hello'))"
   ]
  },
  {
   "cell_type": "code",
   "execution_count": 86,
   "id": "7629d92c",
   "metadata": {},
   "outputs": [],
   "source": [
    "def try_option_with_name(surname, name = 'User'):\n",
    "    print(f'Hello {name} {surname}')"
   ]
  },
  {
   "cell_type": "code",
   "execution_count": 87,
   "id": "e5b06c80",
   "metadata": {},
   "outputs": [
    {
     "ename": "TypeError",
     "evalue": "try_option_with_name() missing 1 required positional argument: 'surname'",
     "output_type": "error",
     "traceback": [
      "\u001b[0;31m---------------------------------------------------------------------------\u001b[0m",
      "\u001b[0;31mTypeError\u001b[0m                                 Traceback (most recent call last)",
      "Cell \u001b[0;32mIn[87], line 1\u001b[0m\n\u001b[0;32m----> 1\u001b[0m try_option_with_name()\n",
      "\u001b[0;31mTypeError\u001b[0m: try_option_with_name() missing 1 required positional argument: 'surname'"
     ]
    }
   ],
   "source": [
    "try_option_with_name()"
   ]
  },
  {
   "cell_type": "code",
   "execution_count": 89,
   "id": "2c895806",
   "metadata": {},
   "outputs": [
    {
     "name": "stdout",
     "output_type": "stream",
     "text": [
      "Hello User Ukr\n",
      "Hello New Name Ukr\n"
     ]
    },
    {
     "data": {
      "text/plain": [
       "(None, None)"
      ]
     },
     "execution_count": 89,
     "metadata": {},
     "output_type": "execute_result"
    }
   ],
   "source": [
    "try_option_with_name('Ukr'), try_option_with_name('Ukr', 'New Name') "
   ]
  },
  {
   "cell_type": "markdown",
   "id": "86f8a15e",
   "metadata": {},
   "source": [
    "#### Порядок аргументів строгий, спочатку йде обов'язкові аргументи, потім опціональні "
   ]
  },
  {
   "cell_type": "markdown",
   "id": "a8cc5373",
   "metadata": {},
   "source": [
    "### Practice section 2\n",
    "\n",
    "1. Write a program that iterated from 0 to 100 and prints out the number if it is divisible by 3.\n",
    "2. Get a number from user input and iterate from 0 to that number. \n",
    "    \n",
    "    1. Print 'foo' if the number is divisible by 3. \n",
    "    2. Print 'bar' if the number is divisible by 5. \n",
    "    3. Print 'foobar' if the number is divisible by both 3 and 5.\n"
   ]
  },
  {
   "cell_type": "code",
   "execution_count": 90,
   "id": "6139fa65",
   "metadata": {},
   "outputs": [],
   "source": [
    "def multiply_two_numbers(\n",
    "    zero_argument,\n",
    "    first_argument = '2',\n",
    "    second_argument = '3'\n",
    "):  # signature\n",
    "    # body\n",
    "    sum_result = zero_argument + first_argument +  second_argument\n",
    "        \n",
    "    return sum_result"
   ]
  },
  {
   "cell_type": "code",
   "execution_count": 91,
   "id": "6f5496f2",
   "metadata": {},
   "outputs": [
    {
     "name": "stdout",
     "output_type": "stream",
     "text": [
      "145\n"
     ]
    }
   ],
   "source": [
    "result = multiply_two_numbers('1', '4', '5')\n",
    "print(result)"
   ]
  },
  {
   "cell_type": "code",
   "execution_count": 92,
   "id": "d8667602",
   "metadata": {},
   "outputs": [
    {
     "name": "stdout",
     "output_type": "stream",
     "text": [
      "124\n"
     ]
    }
   ],
   "source": [
    "result = multiply_two_numbers('1', second_argument='4')\n",
    "print(result)"
   ]
  },
  {
   "cell_type": "code",
   "execution_count": 93,
   "id": "68014072",
   "metadata": {},
   "outputs": [],
   "source": [
    "# types\n",
    "# Для того щоб вказати тип через : вказуємо тип, для того щоб вказати очікуваний тип -> після цього вказуємо тип\n",
    "def sum_values(first_value: int, second_value: int) -> int:\n",
    "    return first_value + second_value"
   ]
  },
  {
   "cell_type": "code",
   "execution_count": 94,
   "id": "da30566c",
   "metadata": {},
   "outputs": [
    {
     "name": "stdout",
     "output_type": "stream",
     "text": [
      "45 15\n"
     ]
    }
   ],
   "source": [
    "print(sum_values('4', '5'), sum_values(5,10))"
   ]
  },
  {
   "cell_type": "code",
   "execution_count": 95,
   "id": "4fd87222",
   "metadata": {},
   "outputs": [],
   "source": [
    "def read(a: bool = 'Hello'):\n",
    "    print(a)"
   ]
  },
  {
   "cell_type": "code",
   "execution_count": 97,
   "id": "2c326044",
   "metadata": {},
   "outputs": [
    {
     "name": "stdout",
     "output_type": "stream",
     "text": [
      "Hello\n"
     ]
    }
   ],
   "source": [
    "read()"
   ]
  },
  {
   "cell_type": "markdown",
   "id": "2678be48",
   "metadata": {},
   "source": [
    "## Practice block 3: \n",
    "\n",
    "1. Write a function called square() with one argument of int type and returns the value of that number raised to the second power.\n",
    "2. Write a program called convert_cel_to_fahr() that takes a temperature in Celsius and returns the equivalent temperature in Fahrenheit. It should take a number as an argument from user input and return a number to the console. \n",
    "3. Write a function that implement case swapping. It should return the same result as swapcase() method. Your function should accept one str argument and convert all lower case values to upper case and vice versa. \n",
    "```python\n",
    "def swapcase(input_string: str) -> str:\n",
    "    # do something\n",
    "\n",
    "print(swapcase('HelLo')) \n",
    "\n",
    "> 'hELlO\n",
    "```"
   ]
  },
  {
   "cell_type": "markdown",
   "id": "a24a55ae",
   "metadata": {},
   "source": [
    "#### Args - створюємо нескінчену кількість значень, для використання використовуємо \\*"
   ]
  },
  {
   "cell_type": "code",
   "execution_count": 104,
   "id": "75585c57",
   "metadata": {},
   "outputs": [],
   "source": [
    "# *args\n",
    "def function_with_args(*args):\n",
    "    sum(args)\n",
    "    print(f'args: {sum(args)}')\n"
   ]
  },
  {
   "cell_type": "code",
   "execution_count": 105,
   "id": "32cf01c8",
   "metadata": {},
   "outputs": [
    {
     "name": "stdout",
     "output_type": "stream",
     "text": [
      "args: 36\n"
     ]
    }
   ],
   "source": [
    "function_with_args(1, 2, 3, 4, 5, 6, 7, 8)"
   ]
  },
  {
   "cell_type": "code",
   "execution_count": 112,
   "id": "8291e853",
   "metadata": {},
   "outputs": [
    {
     "name": "stdout",
     "output_type": "stream",
     "text": [
      "Param1 = 2, Args = (2, True, 'None', '5')\n",
      "5\n",
      "None\n"
     ]
    }
   ],
   "source": [
    "def ar(param1, *args):\n",
    "    param1 += 1\n",
    "    print(f'Param1 = {param1}, Args = {args}')\n",
    "    print(args[-1])\n",
    "    \n",
    "test_args = ar(1, 2,True,'None','5')\n",
    "print(test_args)"
   ]
  },
  {
   "cell_type": "code",
   "execution_count": null,
   "id": "767a3d8d",
   "metadata": {},
   "outputs": [],
   "source": [
    "# + , + \n",
    "print('1' + '2', 1 + 2)"
   ]
  },
  {
   "cell_type": "code",
   "execution_count": 124,
   "id": "d719d96d",
   "metadata": {},
   "outputs": [],
   "source": [
    "# *args\n",
    "def function_with_args1(param1, param2, param3 ,*args):\n",
    "    print(f'Param1 = {param1}')\n",
    "    print(f'Param2 = {param2}')\n",
    "    print(f'Param3 = {param3}')\n",
    "    print(f'Param args = {args}')\n",
    "    \n",
    "    sum(args)\n",
    "    print(f'args: {args}')\n",
    "\n"
   ]
  },
  {
   "cell_type": "code",
   "execution_count": 125,
   "id": "f172c757",
   "metadata": {},
   "outputs": [
    {
     "name": "stdout",
     "output_type": "stream",
     "text": [
      "Param1 = 1\n",
      "Param2 = 2\n",
      "Param3 = 3\n",
      "Param args = (4, 5, 6)\n",
      "args: (4, 5, 6)\n"
     ]
    }
   ],
   "source": [
    "function_with_args1(1, 2, 3, 4,5,6)"
   ]
  },
  {
   "cell_type": "code",
   "execution_count": null,
   "id": "0404f278",
   "metadata": {},
   "outputs": [],
   "source": [
    "# Hard mode"
   ]
  },
  {
   "attachments": {},
   "cell_type": "markdown",
   "id": "76e27988",
   "metadata": {},
   "source": [
    "**Task 1**.**Опціонально**. Дискримінант. Створіть функцію з іменем **discriminant**.\\\n",
    "Функція повинна приймати на вхід a, b, c, choose. Де a, b, c - це аргументи функції, choose - опціональний параметр, вибору способу рішення(дискримінант або Вієта, 1 - disc, 2 - Вієта) \\\n",
    "Функція повинна повертати в залежності від параметрів один/два кореня або їх відсутність. \n",
    "\n",
    "Example:\\\n",
    "    **Input**: a = 5, b = -8, c = 3 \\\n",
    "    **Output**: x = 1, x = 0.6 \n",
    "Результати округлювати до 2 знаку. Функція повинна перевіряти тип аргументів(int повинен бути). "
   ]
  },
  {
   "cell_type": "code",
   "execution_count": null,
   "id": "b24a2c18",
   "metadata": {},
   "outputs": [],
   "source": [
    "# Крок 1: допустимі типи, isinstance, type, [int, float, bool]\n",
    "# Крок 2: Ділення на 0, etc....\n",
    "# Крок 3: без бібліотек!!!!\n",
    "# Крок 4: Оптимальність \n",
    "# Крок 5: перевірка назв \n",
    "# Крок 6: побітові операції + винагорода \n",
    "# Крок 7: Обмеженна 3 ступені\n",
    "# Крок 8: тільки цикли, функції, строки-числа, built-in-function(sum, len) можна\n",
    "*На листочку"
   ]
  },
  {
   "cell_type": "code",
   "execution_count": null,
   "id": "b3c0bb44",
   "metadata": {},
   "outputs": [],
   "source": []
  },
  {
   "cell_type": "code",
   "execution_count": null,
   "id": "da4e424a",
   "metadata": {},
   "outputs": [],
   "source": []
  },
  {
   "cell_type": "code",
   "execution_count": null,
   "id": "bbbd12b1",
   "metadata": {},
   "outputs": [],
   "source": []
  },
  {
   "cell_type": "code",
   "execution_count": null,
   "id": "439f7efe",
   "metadata": {},
   "outputs": [],
   "source": []
  },
  {
   "cell_type": "code",
   "execution_count": null,
   "id": "3fc86f1d",
   "metadata": {},
   "outputs": [],
   "source": []
  },
  {
   "cell_type": "code",
   "execution_count": null,
   "id": "49f5a931",
   "metadata": {},
   "outputs": [],
   "source": []
  },
  {
   "cell_type": "code",
   "execution_count": null,
   "id": "90f8f573",
   "metadata": {},
   "outputs": [],
   "source": []
  }
 ],
 "metadata": {
  "kernelspec": {
   "display_name": "Python 3.11.1 64-bit",
   "language": "python",
   "name": "python3"
  },
  "language_info": {
   "codemirror_mode": {
    "name": "ipython",
    "version": 3
   },
   "file_extension": ".py",
   "mimetype": "text/x-python",
   "name": "python",
   "nbconvert_exporter": "python",
   "pygments_lexer": "ipython3",
   "version": "3.11.1"
  },
  "vscode": {
   "interpreter": {
    "hash": "de47f5c92c0ee6f12a59a5613ac5feff6aab19ddff207ba0b3964cced08c4ccc"
   }
  }
 },
 "nbformat": 4,
 "nbformat_minor": 5
}
