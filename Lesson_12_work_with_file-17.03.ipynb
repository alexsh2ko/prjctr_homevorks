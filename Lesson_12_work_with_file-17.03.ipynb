{
 "cells": [
  {
   "cell_type": "markdown",
   "id": "a2a0dfb3",
   "metadata": {},
   "source": [
    "### Lesson 12. Work with file. 13-12.22\n",
    "**Topics**:\n",
    ">1. Files/Files path\n",
    ">2. Character Encoding\n",
    ">3. Read file\n",
    ">4. Context manager\n",
    ">5. Read Csv \n",
    "\n",
    "**Materials**: \n",
    ">1. [Encode](https://www.programiz.com/python-programming/methods/string/encode)\n",
    ">2. [With statement](https://realpython.com/python-with-statement/)"
   ]
  },
  {
   "cell_type": "markdown",
   "id": "30c57c33",
   "metadata": {},
   "source": [
    "# File\n",
    "\n",
    "## What is a file?\n",
    "\n",
    "1. Header - загаловок, метадані файлу\n",
    "2. Data - набір байтів і біт\n",
    "3. EOF - end of file(символ по якому розуміют що це кінець файлу)"
   ]
  },
  {
   "cell_type": "markdown",
   "id": "18e2fd2c",
   "metadata": {},
   "source": [
    "## File Paths\n",
    "\n",
    "1. Nested Folders\n",
    "2. File name\n",
    "3. Extension\n",
    "\n",
    "**module/filename.txt**"
   ]
  },
  {
   "cell_type": "markdown",
   "id": "4b61926d",
   "metadata": {},
   "source": [
    "## Character Encoding\n",
    "Різні кодування мають різний діапозон допустимих значеннь\n",
    "1. ASCII\n",
    "2. UTF-8\n",
    "3. UTF-16\n",
    "4. UTF-32\n",
    "5. Unicode"
   ]
  },
  {
   "cell_type": "markdown",
   "id": "6ffd851a",
   "metadata": {},
   "source": [
    "![ASCII TABLE](\"https://www.google.com/url?sa=i&url=https%3A%2F%2Fru.wikipedia.org%2Fwiki%2FASCII&psig=AOvVaw2L_eSTqfHRxIIybUd7Rw7d&ust=1671032157381000&source=images&cd=vfe&ved=0CBAQjRxqFwoTCNiPs4X29vsCFQAAAAAdAAAAABAD\")"
   ]
  },
  {
   "attachments": {},
   "cell_type": "markdown",
   "id": "e6cb7359",
   "metadata": {},
   "source": [
    "### Encode - encoding version of text, кодована версія тексту \n",
    "Визиваеться за допомогою dot-нотацію\n",
    "Приймає два аргументи: \\\n",
    "    encoding - тип кодування \\\n",
    "    errors - помилки "
   ]
  },
  {
   "cell_type": "code",
   "execution_count": 79,
   "id": "06228d98",
   "metadata": {},
   "outputs": [
    {
     "data": {
      "text/plain": [
       "b'Hello World'"
      ]
     },
     "execution_count": 79,
     "metadata": {},
     "output_type": "execute_result"
    }
   ],
   "source": [
    "# Encode to UTF-8\n",
    "\n",
    "'Hello World'.encode()"
   ]
  },
  {
   "cell_type": "code",
   "execution_count": 80,
   "id": "57701290",
   "metadata": {},
   "outputs": [
    {
     "data": {
      "text/plain": [
       "b'\\xd0\\x9f\\xd1\\x80\\xd0\\xb8\\xd0\\xb2\\xd1\\x96\\xd1\\x82, \\xd1\\x81\\xd0\\xb2\\xd1\\x96\\xd1\\x82!'"
      ]
     },
     "execution_count": 80,
     "metadata": {},
     "output_type": "execute_result"
    }
   ],
   "source": [
    "# Encode to UTF-8\n",
    "\n",
    "'Привіт, світ!'.encode()"
   ]
  },
  {
   "cell_type": "code",
   "execution_count": 1,
   "id": "9d0a1d1b",
   "metadata": {},
   "outputs": [
    {
     "ename": "UnicodeEncodeError",
     "evalue": "'ascii' codec can't encode characters in position 0-5: ordinal not in range(128)",
     "output_type": "error",
     "traceback": [
      "\u001b[0;31m---------------------------------------------------------------------------\u001b[0m",
      "\u001b[0;31mUnicodeEncodeError\u001b[0m                        Traceback (most recent call last)",
      "Cell \u001b[0;32mIn[1], line 1\u001b[0m\n\u001b[0;32m----> 1\u001b[0m \u001b[39m'\u001b[39;49m\u001b[39mПривіт, світ!\u001b[39;49m\u001b[39m'\u001b[39;49m\u001b[39m.\u001b[39;49mencode(\u001b[39m'\u001b[39;49m\u001b[39mascii\u001b[39;49m\u001b[39m'\u001b[39;49m)\n",
      "\u001b[0;31mUnicodeEncodeError\u001b[0m: 'ascii' codec can't encode characters in position 0-5: ordinal not in range(128)"
     ]
    }
   ],
   "source": [
    "'Привіт, світ!'.encode('ascii')"
   ]
  },
  {
   "cell_type": "code",
   "execution_count": 82,
   "id": "898b00ae",
   "metadata": {},
   "outputs": [
    {
     "data": {
      "text/plain": [
       "b'\\xf0\\x9f\\x98\\x80'"
      ]
     },
     "execution_count": 82,
     "metadata": {},
     "output_type": "execute_result"
    }
   ],
   "source": [
    "\"😀\".encode('utf-8')"
   ]
  },
  {
   "cell_type": "markdown",
   "id": "243fbbd3",
   "metadata": {},
   "source": [
    "## Line ending\n",
    "\n",
    "1. LF (Line Feed) (\\n)\n",
    "2. CR (Carriage Return) (\\r)\n",
    "3. EOL (EOL) (\\r\\n)"
   ]
  },
  {
   "cell_type": "markdown",
   "id": "96490dcf",
   "metadata": {},
   "source": [
    "## Open and Close files"
   ]
  },
  {
   "cell_type": "code",
   "execution_count": 76,
   "id": "9b277a95",
   "metadata": {},
   "outputs": [],
   "source": [
    "# open(file_path, mode)\n",
    "\n",
    "file = open('hello.txt')"
   ]
  },
  {
   "cell_type": "markdown",
   "id": "662e4943",
   "metadata": {},
   "source": [
    "## Open modes\n",
    "\n",
    "1. r - read\n",
    "2. w - write\n",
    "3. a - append\n",
    "4. rb - read binary\n",
    "5. wb - write binary\n",
    "6. ab - append binary\n",
    "7. r+ - read and write\n",
    "8. w+ - write and read\n",
    "9. a+ - append and read\n"
   ]
  },
  {
   "cell_type": "code",
   "execution_count": 88,
   "id": "9c644912",
   "metadata": {},
   "outputs": [],
   "source": [
    "# open - дозволяє працювати з файлами, приймає два аргументи: назву/адрессу, mode - відповідна дія з текстом\n",
    "file = open(\"hello.txt\", mode=\"w\") # "
   ]
  },
  {
   "cell_type": "code",
   "execution_count": 89,
   "id": "e4ec70e6",
   "metadata": {},
   "outputs": [
    {
     "data": {
      "text/plain": [
       "<_io.TextIOWrapper name='hello.txt' mode='w' encoding='UTF-8'>"
      ]
     },
     "execution_count": 89,
     "metadata": {},
     "output_type": "execute_result"
    }
   ],
   "source": [
    "file"
   ]
  },
  {
   "cell_type": "code",
   "execution_count": 90,
   "id": "9228ea8d",
   "metadata": {},
   "outputs": [
    {
     "name": "stdout",
     "output_type": "stream",
     "text": [
      "Parameters of open file  \n",
      "File name: hello.txt\n",
      "File encoding: UTF-8\n",
      "File mode w\n"
     ]
    }
   ],
   "source": [
    "print(f'Parameters of open file  \\nFile name: {file.name}\\nFile encoding: {file.encoding}\\nFile mode {file.mode}')"
   ]
  },
  {
   "cell_type": "code",
   "execution_count": 92,
   "id": "91510613",
   "metadata": {},
   "outputs": [
    {
     "data": {
      "text/plain": [
       "12"
      ]
     },
     "execution_count": 92,
     "metadata": {},
     "output_type": "execute_result"
    }
   ],
   "source": [
    "file.write('Hello World!') # Повертає кількість добавлених символів"
   ]
  },
  {
   "cell_type": "code",
   "execution_count": 94,
   "id": "b76b686e",
   "metadata": {},
   "outputs": [],
   "source": [
    "file.close()"
   ]
  },
  {
   "cell_type": "code",
   "execution_count": 30,
   "id": "0ed5d767",
   "metadata": {},
   "outputs": [],
   "source": [
    "## Context manager - дозволяє оптимізувати запит "
   ]
  },
  {
   "cell_type": "code",
   "execution_count": 96,
   "id": "82bc16ad",
   "metadata": {},
   "outputs": [
    {
     "name": "stdout",
     "output_type": "stream",
     "text": [
      "w\n"
     ]
    }
   ],
   "source": [
    "file = open(\"file.txt\", \"w\")\n",
    "\n",
    "try:\n",
    "    file.write(\"Hello, World!\")\n",
    "except Exception as e:\n",
    "    print(f\"Error: {e}\")\n",
    "finally:\n",
    "    file.close()\n"
   ]
  },
  {
   "cell_type": "code",
   "execution_count": 98,
   "id": "c71e58b6",
   "metadata": {},
   "outputs": [],
   "source": [
    "# > enter a context .__enter__()\n",
    "\n",
    "with open('file.txt', 'w') as file:\n",
    "    file.write('OLA')\n",
    "\n",
    "# leave the context .__exit__()"
   ]
  },
  {
   "cell_type": "code",
   "execution_count": 99,
   "id": "306d6ea6",
   "metadata": {},
   "outputs": [
    {
     "name": "stdout",
     "output_type": "stream",
     "text": [
      "0.3333333333333333333333333333\n",
      "0.3333\n",
      "0.3333333333333333333333333333\n"
     ]
    }
   ],
   "source": [
    "from decimal import Decimal, localcontext\n",
    "\n",
    "print(Decimal('1.00') / Decimal('3.00'))\n",
    "\n",
    "with localcontext() as ctx:\n",
    "    ctx.prec = 4\n",
    "    print(Decimal('1.00') / Decimal('3.00'))\n",
    "\n",
    "print(Decimal('1.00') / Decimal('3.00'))"
   ]
  },
  {
   "cell_type": "code",
   "execution_count": 36,
   "id": "b86a1230",
   "metadata": {},
   "outputs": [],
   "source": [
    "# Псевдокод - можемо працювати в контексті \n",
    "from datetime import datetime\n",
    "\n",
    "datetime.now() # -> 13/12/2022 19:55:14.125\n",
    "\n",
    "with freeze_time('08/10/21 12.19') as freeze:\n",
    "    datetime.now() # -> 08/10/21 12.19\n",
    "\n",
    "datetime.now() # ->13/12/2022 19:55:14.125"
   ]
  },
  {
   "cell_type": "code",
   "execution_count": null,
   "id": "39801881",
   "metadata": {},
   "outputs": [],
   "source": [
    "# Task 1. Створити input.txt - заповнити його значенням - [Input text, try to read me]\n",
    "# Task 2. Створити output.txt - заповнити його значенням - ['Try to rewrite me']\n",
    " "
   ]
  },
  {
   "cell_type": "code",
   "execution_count": 100,
   "id": "7ab2a43f",
   "metadata": {},
   "outputs": [],
   "source": [
    "with open('input.txt', 'w') as inp, open('output.txt', 'w') as out:\n",
    "    inp.write('Input text, try to read me')\n",
    "    out.write(\"Try to rewrite me\")"
   ]
  },
  {
   "cell_type": "code",
   "execution_count": null,
   "id": "82053fed",
   "metadata": {},
   "outputs": [],
   "source": []
  },
  {
   "cell_type": "code",
   "execution_count": null,
   "id": "167b4089",
   "metadata": {},
   "outputs": [],
   "source": []
  },
  {
   "cell_type": "code",
   "execution_count": 101,
   "id": "857b87ea",
   "metadata": {},
   "outputs": [],
   "source": [
    "with open('input.txt', 'r') as input_file, open('output.txt', 'w') as output_file:\n",
    "    data = input_file.read()\n",
    "    output_file.write(data)"
   ]
  },
  {
   "cell_type": "code",
   "execution_count": 38,
   "id": "2c5e6638",
   "metadata": {},
   "outputs": [],
   "source": [
    "## Reading from the file"
   ]
  },
  {
   "cell_type": "code",
   "execution_count": 106,
   "id": "d5eddb6e",
   "metadata": {},
   "outputs": [],
   "source": [
    "data = '''\n",
    "Nowadays, with all these data we consume and generate every single day, algorithms must be good enough to handle operations in large volumes of data.\n",
    "In this post, we will understand a little more about time complexity, Big-O notation and why we need to be concerned about it when developing algorithms.\n",
    "'''"
   ]
  },
  {
   "cell_type": "code",
   "execution_count": 107,
   "id": "7f4483af",
   "metadata": {},
   "outputs": [],
   "source": [
    "with open('existing_file.txt', mode = 'w') as file:\n",
    "    text = file.write(data)"
   ]
  },
  {
   "cell_type": "code",
   "execution_count": 109,
   "id": "dfc5077f",
   "metadata": {},
   "outputs": [
    {
     "name": "stdout",
     "output_type": "stream",
     "text": [
      "\n",
      "Nowadays, with all these data we consume and generate every single day, algorithms must be good enough to handle operations in large volumes of data.\n",
      "In this post, we will understand a little more about time complexity, Big-O notation and why we need to be concerned about it when developing algorithms.\n",
      "\n"
     ]
    }
   ],
   "source": [
    "with open('existing_file.txt', 'r') as file:\n",
    "    text = file.read()\n",
    "    print(text)"
   ]
  },
  {
   "cell_type": "code",
   "execution_count": 110,
   "id": "c046b0e1",
   "metadata": {},
   "outputs": [
    {
     "data": {
      "text/plain": [
       "'\\nNowadays, with all these data we consume and generate every single day, algorithms must be good enough to handle operations in large volumes of data.\\nIn this post, we will understand a little more about time complexity, Big-O notation and why we need to be concerned about it when developing algorithms.\\n'"
      ]
     },
     "execution_count": 110,
     "metadata": {},
     "output_type": "execute_result"
    }
   ],
   "source": [
    "text"
   ]
  },
  {
   "cell_type": "code",
   "execution_count": 113,
   "id": "0b8051b3",
   "metadata": {},
   "outputs": [
    {
     "name": "stdout",
     "output_type": "stream",
     "text": [
      "\n",
      "Nowadays, with all these data we consume and generate every single day, algorithms must be good enough to handle operations in large volumes of data.\n",
      "In this post, we will understand a little more about time complexity, Big-O notation and why we need to be concerned about it when developing algorithms.\n"
     ]
    }
   ],
   "source": [
    "with open('existing_file.txt', 'r') as file:\n",
    "    for line in file:\n",
    "        print(line, end = '') # How to solve problem?"
   ]
  },
  {
   "cell_type": "markdown",
   "id": "09b1cae6",
   "metadata": {},
   "source": [
    "Функції для моду read: \n",
    "1. read(): Прочитайте все содержимое текста сразу и верните результат в виде строки\n",
    "2. readline(): Прочитайте только одну строку текста и верните результат в виде строки\n",
    "3. readlines(): Прочитайте все содержимое текста и верните результат в формате list"
   ]
  },
  {
   "cell_type": "code",
   "execution_count": 114,
   "id": "6288723a",
   "metadata": {},
   "outputs": [
    {
     "name": "stdout",
     "output_type": "stream",
     "text": [
      "['\\n', 'Nowadays, with all these data we consume and generate every single day, algorithms must be good enough to handle operations in large volumes of data.\\n', 'In this post, we will understand a little more about time complexity, Big-O notation and why we need to be concerned about it when developing algorithms.\\n']\n"
     ]
    }
   ],
   "source": [
    "with open('existing_file.txt', 'r') as file:\n",
    "    print(file.readlines())"
   ]
  },
  {
   "cell_type": "code",
   "execution_count": 51,
   "id": "d7836edc",
   "metadata": {},
   "outputs": [
    {
     "name": "stdout",
     "output_type": "stream",
     "text": [
      "\n",
      "Nowadays, with all these data we consume and generate every single day, algorithms must be good enough to handle operations in large volumes of data.\n",
      "In this post, we will understand a little more about time complexity, Big-O notation and why we need to be concerned about it when developing algorithms.\n",
      "\n"
     ]
    }
   ],
   "source": [
    "with open('existing_file.txt', 'r') as file:\n",
    "    print(file.read())"
   ]
  },
  {
   "cell_type": "code",
   "execution_count": 115,
   "id": "5249e2e9",
   "metadata": {},
   "outputs": [
    {
     "name": "stdout",
     "output_type": "stream",
     "text": [
      "\n",
      "\n",
      "Nowadays, with all these data we consume and generate every single day, algorithms must be good enough to handle operations in large volumes of data.\n",
      "\n"
     ]
    }
   ],
   "source": [
    "with open('existing_file.txt', 'r') as file:\n",
    "    print(file.readline())\n",
    "    print(file.readline())"
   ]
  },
  {
   "cell_type": "code",
   "execution_count": 119,
   "id": "ce82a452",
   "metadata": {},
   "outputs": [],
   "source": [
    "#file.readline()"
   ]
  },
  {
   "cell_type": "markdown",
   "id": "9f29014b",
   "metadata": {},
   "source": [
    "## Writing to files "
   ]
  },
  {
   "cell_type": "code",
   "execution_count": 117,
   "id": "08f8ca52",
   "metadata": {},
   "outputs": [],
   "source": [
    "with open('file1.txt', 'w') as file:\n",
    "    file.write('”I have great faith in fools — self-confidence my friends call it.”\\n')"
   ]
  },
  {
   "cell_type": "code",
   "execution_count": 118,
   "id": "cf45375b",
   "metadata": {},
   "outputs": [],
   "source": [
    "with open('file1.txt', 'w') as file:\n",
    "    file.write('End of the file') # Що буде в файлі?"
   ]
  },
  {
   "cell_type": "code",
   "execution_count": 120,
   "id": "a761018d",
   "metadata": {},
   "outputs": [],
   "source": [
    "with open('file1.txt', 'a') as file:\n",
    "    file.write('\\n“Either define the moment or the moment will define you.”')"
   ]
  },
  {
   "cell_type": "code",
   "execution_count": 121,
   "id": "6798884a",
   "metadata": {},
   "outputs": [],
   "source": [
    "second_coming = [\n",
    "    'Turning and turning in the widening gyre\\n',\n",
    "    'The falcon cannot hear the falconer;\\n',\n",
    "    'Things fall apart; the centre cannot hold;\\n',\n",
    "    'Mere anarchy is loosed upon the world,\\n',\n",
    "    'The blood-dimmed tide is loosed, and everywhere\\n',  \n",
    "    'The ceremony of innocence is drowned;\\n',\n",
    "    'The best lack all conviction, while the worst\\n',\n",
    "    'Are full of passionate intensity.\\n',\n",
    "]\n",
    "\n",
    "with open('new_file.txt', mode=\"w\", encoding=\"utf-8\") as file:\n",
    "    file.writelines(second_coming) # Запис построчно "
   ]
  },
  {
   "cell_type": "code",
   "execution_count": 122,
   "id": "120df0eb",
   "metadata": {
    "scrolled": true
   },
   "outputs": [
    {
     "ename": "FileNotFoundError",
     "evalue": "[Errno 2] No such file or directory: 'folder/file.txt'",
     "output_type": "error",
     "traceback": [
      "\u001b[0;31m---------------------------------------------------------------------------\u001b[0m",
      "\u001b[0;31mFileNotFoundError\u001b[0m                         Traceback (most recent call last)",
      "Cell \u001b[0;32mIn [122], line 2\u001b[0m\n\u001b[1;32m      1\u001b[0m \u001b[38;5;66;03m# Приклад, Python не може створювати директорії, але може читати з них \u001b[39;00m\n\u001b[0;32m----> 2\u001b[0m \u001b[38;5;28;01mwith\u001b[39;00m \u001b[38;5;28;43mopen\u001b[39;49m\u001b[43m(\u001b[49m\u001b[38;5;124;43m'\u001b[39;49m\u001b[38;5;124;43mfolder/file.txt\u001b[39;49m\u001b[38;5;124;43m'\u001b[39;49m\u001b[43m,\u001b[49m\u001b[43m \u001b[49m\u001b[43mmode\u001b[49m\u001b[38;5;241;43m=\u001b[39;49m\u001b[38;5;124;43m'\u001b[39;49m\u001b[38;5;124;43mw\u001b[39;49m\u001b[38;5;124;43m'\u001b[39;49m\u001b[43m)\u001b[49m \u001b[38;5;28;01mas\u001b[39;00m file:\n\u001b[1;32m      3\u001b[0m     file\u001b[38;5;241m.\u001b[39mwrite(\u001b[38;5;124m'\u001b[39m\u001b[38;5;124mHello\u001b[39m\u001b[38;5;124m'\u001b[39m)\n",
      "\u001b[0;31mFileNotFoundError\u001b[0m: [Errno 2] No such file or directory: 'folder/file.txt'"
     ]
    }
   ],
   "source": [
    "# Приклад, Python не може створювати директорії, але може читати з них \n",
    "with open('folder/file.txt', mode='w') as file:\n",
    "    file.write('Hello')"
   ]
  },
  {
   "cell_type": "code",
   "execution_count": 123,
   "id": "72f5b198",
   "metadata": {},
   "outputs": [
    {
     "name": "stdout",
     "output_type": "stream",
     "text": [
      "65\n"
     ]
    }
   ],
   "source": [
    "print(ord('A'))"
   ]
  },
  {
   "cell_type": "code",
   "execution_count": 124,
   "id": "07453c18",
   "metadata": {},
   "outputs": [],
   "source": [
    "from random import randint\n",
    "for i in range(ord('A'), ord('Z') + 1):\n",
    "    with open(chr(i)+'.txt', 'w') as f:\n",
    "        f.write(str(randint(1, 100)))"
   ]
  },
  {
   "cell_type": "code",
   "execution_count": null,
   "id": "815d7bcc",
   "metadata": {},
   "outputs": [],
   "source": [
    "import string\n",
    "for ch in string.ascii_uppercase:\n",
    "    with open(ch+'.txt', 'w') as f:\n",
    "        f.write(str(randint(1, 100)))"
   ]
  },
  {
   "cell_type": "markdown",
   "id": "0d386b07",
   "metadata": {},
   "source": [
    "## Practice\n",
    "\n",
    "1. \n",
    "    1. Write a program that generate 26 text files named A.txt, B.txt, and so on up to Z.txt.\n",
    "    2. To each file append a random number between 1 and 100.\n",
    "    3. Create a summary file (summary.txt) that contains name of the file and number in that file:\n",
    "\n",
    "        A.txt: 67\n",
    "\n",
    "        B.txt: 12\n",
    "\n",
    "        ...\n",
    "        \n",
    "        Z.txt: 98\n",
    "\n",
    "2. \n",
    "    1. Create file with some content. As example you can take this one\n",
    "    ```\n",
    "        Тому що ніколи тебе не вирвеш,\n",
    "        ніколи не забереш,\n",
    "        тому що вся твоя свобода\n",
    "        складається з меж,\n",
    "        тому що в тебе немає\n",
    "        жодного вантажу,\n",
    "        тому що ти ніколи не слухаєш,\n",
    "        оскільки знаєш і так,\n",
    "        що я скажу,\n",
    "    ```\n",
    "    2. Create second file and copy content of the first file to the second file in upper case.\n",
    "\n"
   ]
  },
  {
   "cell_type": "code",
   "execution_count": null,
   "id": "e4566f94",
   "metadata": {},
   "outputs": [],
   "source": []
  },
  {
   "cell_type": "code",
   "execution_count": 64,
   "id": "c604ee14",
   "metadata": {},
   "outputs": [],
   "source": [
    "## Working with CSV"
   ]
  },
  {
   "cell_type": "code",
   "execution_count": 65,
   "id": "d2fc30c0",
   "metadata": {},
   "outputs": [],
   "source": [
    "import csv # Модуль для роботи з Comma Separeted Value"
   ]
  },
  {
   "cell_type": "code",
   "execution_count": 127,
   "id": "71c345aa",
   "metadata": {},
   "outputs": [],
   "source": [
    "countries = [\n",
    "    ['Kyiv', 42_000_000, 603_000, 'Ukraine'],\n",
    "    ['Warsaw', 38_000_000, 312_000, 'Poland'],\n",
    "    ['Washington', 520_000_000, 5_500_000, 'USA'],\n",
    "    ['Paris', 67_000_000, 592_000, 'France'],\n",
    "]"
   ]
  },
  {
   "cell_type": "code",
   "execution_count": 141,
   "id": "70fc8a29",
   "metadata": {},
   "outputs": [],
   "source": [
    "# Інший варіант запису, не рекомендую\n",
    "with open('countries1.csv', 'w') as file:\n",
    "    for country in countries:\n",
    "        csv.writer(file, delimiter = ';').writerow(country)"
   ]
  },
  {
   "cell_type": "code",
   "execution_count": 137,
   "id": "5971b943",
   "metadata": {},
   "outputs": [],
   "source": [
    "with open('countries.csv', 'w') as file:\n",
    "    writer = csv.writer(file, delimiter = ';') # enter you delimiter\n",
    "    for country in countries:\n",
    "        writer.writerow(country)"
   ]
  },
  {
   "cell_type": "code",
   "execution_count": null,
   "id": "006d5feb",
   "metadata": {},
   "outputs": [],
   "source": [
    "# Task 2. Enter in csv file in first_row next_value ['Capital', 'Population', 'Square', 'Country']"
   ]
  },
  {
   "cell_type": "code",
   "execution_count": null,
   "id": "7fd3d357",
   "metadata": {},
   "outputs": [],
   "source": []
  },
  {
   "cell_type": "code",
   "execution_count": 142,
   "id": "949963b7",
   "metadata": {},
   "outputs": [],
   "source": [
    "with open('countries.csv', mode='w') as file:\n",
    "    writer = csv.writer(file)\n",
    "    writer.writerow(['Capital', 'Population', 'Square', 'Country']) # Запис однієї строки\n",
    "    writer.writerows(countries) # Запис багатьох строк"
   ]
  },
  {
   "cell_type": "code",
   "execution_count": 146,
   "id": "78cdea93",
   "metadata": {},
   "outputs": [
    {
     "name": "stdout",
     "output_type": "stream",
     "text": [
      "['Country', 'Population', 'Square', 'Country']\n",
      "['Kyiv', '42000000', '603000', 'Ukraine']\n",
      "['Warsaw', '38000000', '312000', 'Poland']\n",
      "['Washington', '520000000', '5500000', 'USA']\n",
      "['Paris', '67000000', '592000', 'France']\n"
     ]
    }
   ],
   "source": [
    "# How to read, we need to use dot-notation.reader\n",
    "with open('countries.csv', mode='r') as file:\n",
    "    reader = csv.reader(file)\n",
    "    for row in reader:\n",
    "        print(row)"
   ]
  },
  {
   "cell_type": "code",
   "execution_count": null,
   "id": "d8486ad8",
   "metadata": {},
   "outputs": [],
   "source": [
    "# Добавити коментарі до DictWriter"
   ]
  },
  {
   "cell_type": "code",
   "execution_count": 153,
   "id": "7b16402f",
   "metadata": {},
   "outputs": [],
   "source": [
    "with open('countries_2.csv', mode='w') as file:\n",
    "    fieldnames = ['Capital', 'Population', 'Area', 'Name']\n",
    "    writer = csv.DictWriter(file, fieldnames=fieldnames)\n",
    "\n",
    "    writer.writeheader()\n",
    "    writer.writerow({'Capital': 'Kyiv', 'Population': 42_000_000, 'Area': 603_000, 'Name': 'Ukraine'})\n",
    "    writer.writerow({'Capital': 'Warsaw', 'Population': 38_000_000, 'Area': 312_000, 'Name': 'Poland'})\n",
    "    writer.writerow({'Capital': 'Washington', 'Population': 520_000_000, 'Area': 5_500_000, 'Name': 'USA'})\n",
    "    writer.writerow({'Capital': 'Paris', 'Population': 67_000_000, 'Area': '5014' , 'Name': 'France'})\n"
   ]
  },
  {
   "cell_type": "code",
   "execution_count": 154,
   "id": "49f65039",
   "metadata": {},
   "outputs": [],
   "source": [
    "countries = [\n",
    "    {'Capital': 'Kyiv', 'Population': 42_000_000, 'Area': 603_000, 'Name': 'Ukraine'},\n",
    "    {'Capital': 'Warsaw', 'Population': 38_000_000, 'Area': 312_000, 'Name': 'Poland'},\n",
    "    {'Capital': 'Washington', 'Population': 520_000_000, 'Area': 5_500_000, 'Name': 'USA'},\n",
    "    {'Capital': 'Paris', 'Population': 67_000_000, 'Area': 592_000, 'Name': 'France'},\n",
    "    {'Capital': 'Paris', 'Population': 67_000_000, 'Name': 'France', },\n",
    "]\n",
    "header = ['Capital', 'Population', 'Area', 'Name' ]\n",
    "with open('countries.csv', mode='w') as file:\n",
    "    writer = csv.DictWriter(file, fieldnames=header)\n",
    "\n",
    "    writer.writeheader()\n",
    "    writer.writerows(countries)\n",
    "    "
   ]
  },
  {
   "cell_type": "code",
   "execution_count": 155,
   "id": "2cede909",
   "metadata": {},
   "outputs": [
    {
     "name": "stdout",
     "output_type": "stream",
     "text": [
      "['Capital', 'Population', 'Area', 'Name']\n",
      "{'Capital': 'Kyiv', 'Population': '42000000', 'Area': '603000', 'Name': 'Ukraine'}\n",
      "{'Capital': 'Warsaw', 'Population': '38000000', 'Area': '312000', 'Name': 'Poland'}\n",
      "{'Capital': 'Washington', 'Population': '520000000', 'Area': '5500000', 'Name': 'USA'}\n",
      "{'Capital': 'Paris', 'Population': '67000000', 'Area': '592000', 'Name': 'France'}\n",
      "{'Capital': 'Paris', 'Population': '67000000', 'Area': '', 'Name': 'France'}\n"
     ]
    }
   ],
   "source": [
    "\n",
    "with open('countries.csv', mode='r') as file:\n",
    "    reader = csv.DictReader(file)\n",
    "    print(reader.fieldnames)\n",
    "    for row in reader:\n",
    "        print(row)"
   ]
  },
  {
   "cell_type": "markdown",
   "id": "ee5c3a9d",
   "metadata": {},
   "source": [
    "## Practice\n",
    "\n",
    "3. Write a program that will simulate user score in a game. Create a list with 5 player's names. After that simulate 100 games for each player. As a result of the game create a list with player's name and his score (0-1000 range). And save it to a CSV file. File should looks like this:\n",
    "    ```\n",
    "    Player name, Score\n",
    "    Josh, 56\n",
    "    Luke, 784\n",
    "    Kate, 90\n",
    "    Mark, 125\n",
    "    Mary, 877\n",
    "    Josh, 345\n",
    "    ...\n",
    "    ```\n",
    "\n",
    "4. Write a script that reads the data from previous CSV file and creates a new file called high_scores.csv where each row contains the player name and their highest score. Final score should sorted by descending of highest score\n",
    "\n",
    "The output CSV file should look like this:\n",
    "\n",
    "    \n",
    "    Player name, Highest score\n",
    "    Kate, 907\n",
    "    Mary, 897\n",
    "    Luke, 784\n",
    "    Mark, 725\n",
    "    Josh, 345\n",
    "    "
   ]
  },
  {
   "cell_type": "code",
   "execution_count": 75,
   "id": "585fdf56",
   "metadata": {},
   "outputs": [],
   "source": [
    "# Task 4. Считать файл hw.csv и посчитать средний рост, средний вес в см и кг соответственно"
   ]
  },
  {
   "cell_type": "code",
   "execution_count": null,
   "id": "844bfe39",
   "metadata": {},
   "outputs": [],
   "source": []
  }
 ],
 "metadata": {
  "kernelspec": {
   "display_name": "Python 3.11.1 64-bit",
   "language": "python",
   "name": "python3"
  },
  "language_info": {
   "codemirror_mode": {
    "name": "ipython",
    "version": 3
   },
   "file_extension": ".py",
   "mimetype": "text/x-python",
   "name": "python",
   "nbconvert_exporter": "python",
   "pygments_lexer": "ipython3",
   "version": "3.11.1"
  },
  "vscode": {
   "interpreter": {
    "hash": "de47f5c92c0ee6f12a59a5613ac5feff6aab19ddff207ba0b3964cced08c4ccc"
   }
  }
 },
 "nbformat": 4,
 "nbformat_minor": 5
}
