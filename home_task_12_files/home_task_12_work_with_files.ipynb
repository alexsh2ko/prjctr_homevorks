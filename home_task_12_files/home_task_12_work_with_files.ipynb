{
 "cells": [
  {
   "cell_type": "markdown",
   "metadata": {},
   "source": [
    "1. Write a program that generate 26 text files named A.txt, B.txt, and so on up to Z.txt.\n",
    "    2. To each file append a random number between 1 and 100.\n",
    "    3. Create a summary file (summary.txt) that contains name of the file and number in that file:\n",
    "\n",
    "        A.txt: 67\n",
    "\n",
    "        B.txt: 12\n",
    "\n",
    "        ...\n",
    "        \n",
    "        Z.txt: 98"
   ]
  },
  {
   "cell_type": "code",
   "execution_count": null,
   "outputs": [],
   "source": [
    "import random\n",
    "import csv\n",
    "import os\n",
    "import string\n",
    "\n",
    "\n",
    "with open(\"summary.txt\", \"w\") as summary_file:\n",
    "    for letter in list(string.ascii_uppercase):\n",
    "        file_name = letter + \".txt\"\n",
    "        with open(file_name, \"w\") as file:\n",
    "            random_number = random.randint(1, 100)\n",
    "            file.write(str(random_number))\n",
    "            summary_file.write(file_name + \": \" + str(random_number) + \"\\n\")"
   ],
   "metadata": {
    "collapsed": false,
    "pycharm": {
     "name": "#%%\n"
    }
   }
  },
  {
   "cell_type": "markdown",
   "source": [
    "1. Create file with some content. As example you can take this one\n",
    "    ```\n",
    "        Тому що ніколи тебе не вирвеш,\n",
    "        ніколи не забереш,\n",
    "        тому що вся твоя свобода\n",
    "        складається з меж,\n",
    "        тому що в тебе немає\n",
    "        жодного вантажу,\n",
    "        тому що ти ніколи не слухаєш,\n",
    "        оскільки знаєш і так,\n",
    "        що я скажу,\n",
    "    ```\n",
    "    2. Create second file and copy content of the first file to the second file in upper case."
   ],
   "metadata": {
    "collapsed": false,
    "pycharm": {
     "name": "#%% md\n"
    }
   }
  },
  {
   "cell_type": "code",
   "execution_count": null,
   "outputs": [],
   "source": [
    "with open(\"virsh.txt\", \"w\") as virsh_file:\n",
    "    virsh_file.write(\"\"\"\n",
    "        Тому що ніколи тебе не вирвеш,\n",
    "        ніколи не забереш,\n",
    "        тому що вся твоя свобода\n",
    "        складається з меж,\n",
    "        тому що в тебе немає\n",
    "        жодного вантажу,\n",
    "        тому що ти ніколи не слухаєш,\n",
    "        оскільки знаєш і так,\n",
    "        що я скажу,\n",
    "        \"\"\"\n",
    "    )"
   ],
   "metadata": {
    "collapsed": false,
    "pycharm": {
     "name": "#%%\n"
    }
   }
  },
  {
   "cell_type": "code",
   "execution_count": null,
   "outputs": [],
   "source": [
    "with open(\"virsh.txt\", \"r\") as virsh_file, open(\"upper_virsh.txt\", \"w\") as upper_virsh_file:\n",
    "    reading = virsh_file.read()\n",
    "    reading = reading.upper()\n",
    "    upper_virsh_file.write(reading)"
   ],
   "metadata": {
    "collapsed": false,
    "pycharm": {
     "name": "#%%\n"
    }
   }
  },
  {
   "cell_type": "code",
   "execution_count": null,
   "outputs": [],
   "source": [
    "with open(\"upper_virsh.txt\", \"r\") as upper_virsh_file:\n",
    "    reading_sec = upper_virsh_file.read()\n",
    "    print(reading_sec)"
   ],
   "metadata": {
    "collapsed": false,
    "pycharm": {
     "name": "#%%\n"
    }
   }
  },
  {
   "cell_type": "markdown",
   "source": [
    "3. Write a program that will simulate user score in a game. Create a list with 5 player's names. After that simulate 100 games for each player. As a result of the game create a list with player's name and his score (0-1000 range). And save it to a CSV file. File should looks like this:\n",
    "    ```\n",
    "    Player name, Score\n",
    "    Josh, 56\n",
    "    Luke, 784\n",
    "    Kate, 90\n",
    "    Mark, 125\n",
    "    Mary, 877\n",
    "    Josh, 345\n",
    "    ...\n",
    "    ```"
   ],
   "metadata": {
    "collapsed": false,
    "pycharm": {
     "name": "#%% md\n"
    }
   }
  },
  {
   "cell_type": "code",
   "execution_count": null,
   "outputs": [],
   "source": [
    "with open(\"players.csv\", 'w', newline='') as file:\n",
    "    headers = ['Player name', 'Score']\n",
    "    writer = csv.DictWriter(file, fieldnames=headers)\n",
    "    writer.writeheader()\n",
    "    writer.writerow({'Player name': 'Josh', 'Score': random.randint(1, 1000)})\n",
    "    writer.writerow({'Player name': 'Luke', 'Score': random.randint(1, 1000)})\n",
    "    writer.writerow({'Player name': 'Kate', 'Score': random.randint(1, 1000)})\n",
    "    writer.writerow({'Player name': 'Mark', 'Score': random.randint(1, 1000)})\n",
    "    writer.writerow({'Player name': 'Mary', 'Score': random.randint(1, 1000)})\n",
    "    writer.writerow({'Player name': 'Josh', 'Score': random.randint(1, 1000)})\n",
    "    \n",
    "with open(\"players.csv\", 'r') as file:\n",
    "    reader = file.read()\n",
    "    print(reader, end='')"
   ],
   "metadata": {
    "collapsed": false,
    "pycharm": {
     "name": "#%%\n"
    }
   }
  },
  {
   "cell_type": "markdown",
   "source": [
    "4. Write a script that reads the data from previous CSV file and creates a new file called high_scores.csv where each row contains the player name and their highest score. Final score should sorted by descending of highest score\n",
    "\n",
    "The output CSV file should look like this:\n",
    "\n",
    "    \n",
    "    Player name, Highest score\n",
    "    Kate, 907\n",
    "    Mary, 897\n",
    "    Luke, 784\n",
    "    Mark, 725\n",
    "    Josh, 345"
   ],
   "metadata": {
    "collapsed": false,
    "pycharm": {
     "name": "#%% md\n"
    }
   }
  },
  {
   "cell_type": "code",
   "execution_count": null,
   "outputs": [],
   "source": [
    "\n",
    "\n",
    "with open('players.csv', 'r') as file:\n",
    "    reader = csv.DictReader(file)\n",
    "    players = [row for row in reader]\n",
    "players = sorted(players, key=lambda player: int(player['Score']), reverse=True)\n",
    "\n",
    "with open('high_scores.csv', mode='w', newline='') as file:\n",
    "    writer = csv.writer(file)\n",
    "    writer.writerow(['Player name', 'Score'])\n",
    "    for player in players:\n",
    "        writer.writerow([player['Player name'], player['Score']])\n",
    "with open(\"high_scores.csv\", 'r') as file:\n",
    "    reader = file.read()\n",
    "    print(reader, end='')"
   ],
   "metadata": {
    "collapsed": false,
    "pycharm": {
     "name": "#%%\n"
    }
   }
  },
  {
   "cell_type": "markdown",
   "source": [
    "5. Считать файл hw.csv и посчитать средний рост, средний вес в см и кг соответственно"
   ],
   "metadata": {
    "collapsed": false,
    "pycharm": {
     "name": "#%% md\n"
    }
   }
  },
  {
   "cell_type": "code",
   "execution_count": null,
   "outputs": [],
   "source": [
    "\n",
    "\n",
    "\n",
    "\n",
    "\n",
    "absolute_path = r\"C:\\Users\\user\\Desktop\\prjctr\\hw (1) (2).csv\"\n",
    "relative_path = os.path.relpath(absolute_path, \".\")\n",
    "\n",
    "print(\"Relative path to file:\", relative_path)\n",
    "total_height = 0\n",
    "total_weight = 0\n",
    "num_rows = 0\n",
    "with open(relative_path, 'r') as file:\n",
    "    reader = csv.DictReader(file)\n",
    "    for row in reader:\n",
    "        total_height += float(row[' \"Height(Inches)\"']) * 2.54\n",
    "        total_weight += float(row[' \"Weight(Pounds)\"']) // 2.205\n",
    "        num_rows += 1\n",
    "avg_height = total_height / num_rows\n",
    "avg_weight = total_weight / num_rows\n",
    "\n",
    "print(f\"Average height: {round(avg_height,2)} cm\")\n",
    "print(f\"Average weight: {round(avg_weight,2)} kg\")\n",
    "  "
   ],
   "metadata": {
    "collapsed": false,
    "pycharm": {
     "name": "#%%\n"
    }
   }
  },
  {
   "cell_type": "markdown",
   "metadata": {},
   "source": [
    "4. Write a script that reads the data from previous CSV file and creates a new file called high_scores.csv where each row contains the player name and their highest score. Final score should sorted by descending of highest score\n",
    "\n",
    "The output CSV file should look like this:\n",
    "\n",
    "    \n",
    "    Player name, Highest score\n",
    "    Kate, 907\n",
    "    Mary, 897\n",
    "    Luke, 784\n",
    "    Mark, 725\n",
    "    Josh, 345"
   ]
  },
  {
   "cell_type": "code",
   "execution_count": 51,
   "metadata": {},
   "outputs": [
    {
     "name": "stdout",
     "output_type": "stream",
     "text": [
      "Player name,Score\n",
      "Kate,958\n",
      "Mark,894\n",
      "Josh,624\n",
      "Mary,590\n",
      "Josh,238\n",
      "Luke,66\n"
     ]
    }
   ],
   "source": [
    "\n",
    "\n",
    "with open('players.csv', 'r') as file:\n",
    "    reader = csv.DictReader(file)\n",
    "    players = [row for row in reader]\n",
    "players = sorted(players, key=lambda player: int(player['Score']), reverse=True)\n",
    "\n",
    "with open('high_scores.csv', mode='w', newline='') as file:\n",
    "    writer = csv.writer(file)\n",
    "    writer.writerow(['Player name', 'Score'])\n",
    "    for player in players:\n",
    "        writer.writerow([player['Player name'], player['Score']])\n",
    "with open(\"high_scores.csv\", 'r') as file:\n",
    "    reader = file.read()\n",
    "    print(reader, end='')"
   ]
  },
  {
   "cell_type": "markdown",
   "metadata": {},
   "source": [
    "5. Считать файл hw.csv и посчитать средний рост, средний вес в см и кг соответственно"
   ]
  },
  {
   "cell_type": "code",
   "execution_count": 5,
   "metadata": {},
   "outputs": [
    {
     "name": "stdout",
     "output_type": "stream",
     "text": [
      "Relative path to file: ..\\hw (1) (2).csv\n",
      "Average height: 172.7 cm\n",
      "Average weight: 57.13 kg\n"
     ]
    }
   ],
   "source": [
    "\n",
    "\n",
    "\n",
    "\n",
    "\n",
    "absolute_path = r\"C:\\Users\\user\\Desktop\\prjctr\\hw (1) (2).csv\"\n",
    "relative_path = os.path.relpath(absolute_path, \".\")\n",
    "\n",
    "print(\"Relative path to file:\", relative_path)\n",
    "total_height = 0\n",
    "total_weight = 0\n",
    "num_rows = 0\n",
    "with open(relative_path, 'r') as file:\n",
    "    reader = csv.DictReader(file)\n",
    "    for row in reader:\n",
    "        total_height += float(row[' \"Height(Inches)\"']) * 2.54\n",
    "        total_weight += float(row[' \"Weight(Pounds)\"']) // 2.205\n",
    "        num_rows += 1\n",
    "avg_height = total_height / num_rows\n",
    "avg_weight = total_weight / num_rows\n",
    "\n",
    "print(f\"Average height: {round(avg_height,2)} cm\")\n",
    "print(f\"Average weight: {round(avg_weight,2)} kg\")\n",
    "  "
   ]
  }
 ],
 "metadata": {
  "kernelspec": {
   "display_name": "Python 3.11.1 ('venv': venv)",
   "language": "python",
   "name": "python3"
  },
  "language_info": {
   "codemirror_mode": {
    "name": "ipython",
    "version": 3
   },
   "file_extension": ".py",
   "mimetype": "text/x-python",
   "name": "python",
   "nbconvert_exporter": "python",
   "pygments_lexer": "ipython3",
   "version": "3.11.1"
  },
  "orig_nbformat": 4,
  "vscode": {
   "interpreter": {
    "hash": "f43b70178e3401d18a1e53c1d887c48fed44cf17a8cb113b111db3ee99cd3f85"
   }
  }
 },
 "nbformat": 4,
 "nbformat_minor": 2
}