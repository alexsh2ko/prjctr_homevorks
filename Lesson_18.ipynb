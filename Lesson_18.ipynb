{
 "cells": [
  {
   "cell_type": "markdown",
   "metadata": {},
   "source": [
    "# SQLite"
   ]
  },
  {
   "cell_type": "code",
   "execution_count": null,
   "metadata": {},
   "outputs": [],
   "source": [
    "import sqlite3\n",
    "\n",
    "conn = sqlite3.connect('database.db')"
   ]
  },
  {
   "cell_type": "code",
   "execution_count": null,
   "metadata": {},
   "outputs": [],
   "source": [
    "conn.execute(\n",
    "    \"\"\"\n",
    "    CREATE TABLE students (\n",
    "        name VARCHAR(50) NOT NULL,\n",
    "        age INT NOT NULL\n",
    "    );\n",
    "\"\"\")"
   ]
  },
  {
   "cell_type": "code",
   "execution_count": null,
   "metadata": {},
   "outputs": [],
   "source": [
    "values = ('Bill', '30')\n",
    "\n",
    "conn.execute(\"INSERT INTO students VALUES (?, ?)\", values)"
   ]
  },
  {
   "cell_type": "code",
   "execution_count": null,
   "metadata": {},
   "outputs": [],
   "source": [
    "cursor = conn.execute('SELECT * FROM students')\n",
    "cursor.fetchall() # .fetchone()\n"
   ]
  },
  {
   "cell_type": "code",
   "execution_count": null,
   "metadata": {},
   "outputs": [],
   "source": [
    "conn.execute(\"\"\"UPDATE students SET age = ? WHERE name = ?\"\"\", (25, 'Bill'))"
   ]
  },
  {
   "cell_type": "markdown",
   "metadata": {},
   "source": [
    "# PostgresSQL \n",
    "\n",
    "1. Server based\n",
    "2. Data types\n",
    "3. Full text search (LIKE requests)\n",
    "\n",
    "## install engine locally\n",
    "\n",
    "> pip install psycopg2"
   ]
  },
  {
   "cell_type": "code",
   "execution_count": null,
   "metadata": {},
   "outputs": [],
   "source": [
    "import psycopg2\n",
    "\n",
    "connection = psycopg2.connect(\n",
    "    host='localhost',\n",
    "    database='postgres',\n",
    "    user='user',\n",
    "    password='password',\n",
    "    port=5432,\n",
    ")"
   ]
  },
  {
   "cell_type": "code",
   "execution_count": null,
   "metadata": {},
   "outputs": [],
   "source": [
    "cursor = connection.cursor()\n",
    "\n",
    "cursor.execute(\"\"\"SELECT * FROM student\"\"\")"
   ]
  },
  {
   "cell_type": "code",
   "execution_count": null,
   "metadata": {},
   "outputs": [],
   "source": [
    "cursor.fetchall()"
   ]
  },
  {
   "cell_type": "code",
   "execution_count": null,
   "metadata": {},
   "outputs": [],
   "source": [
    "cursor.close()"
   ]
  },
  {
   "cell_type": "code",
   "execution_count": null,
   "metadata": {},
   "outputs": [],
   "source": [
    "with connection.cursor() as curs:\n",
    "    curs.execute(\"\"\"SELECT * FROM student\"\"\")\n",
    "\n",
    "    print(curs.fetchall())"
   ]
  },
  {
   "cell_type": "code",
   "execution_count": null,
   "metadata": {},
   "outputs": [],
   "source": [
    "# Update and commit changes\n",
    "\n",
    "with connection.cursor() as curs:\n",
    "    curs.execute(\"\"\"SELECT count(*) FROM student;\"\"\")\n",
    "    print(curs.fetchone())\n",
    "\n",
    "    curs.execute(\"INSERT INTO student(name, age) VALUES (%s, %s)\", ('STUDENT NAME 2', 35))\n",
    "    \n",
    "    curs.execute(\"\"\"SELECT count(*) FROM student;\"\"\")\n",
    "    print(curs.fetchone())\n"
   ]
  },
  {
   "cell_type": "markdown",
   "metadata": {},
   "source": [
    "## SQLAlchemy\n",
    "\n",
    "> pip install SQLAlchemy\n",
    "\n",
    "### What does SQLAlchemy do?"
   ]
  },
  {
   "cell_type": "code",
   "execution_count": null,
   "metadata": {},
   "outputs": [],
   "source": [
    "from sqlalchemy.ext.declarative import declarative_base\n",
    "from sqlalchemy import Column, Integer, String\n",
    "\n",
    "Base = declarative_base()\n",
    "\n",
    "class Student(Base):\n",
    "    __tablename__ = 'student'\n",
    "\n",
    "    id = Column(Integer, primary_key=True)\n",
    "    name = Column(String)\n",
    "    age = Column(Integer)\n",
    "\n",
    "    def __str__(self):\n",
    "        return f'This is {self.id} student {self.name}. Age: {self.age}'\n",
    "\n",
    "    def __repr__(self):\n",
    "        return f'This is {self.id} student {self.name}. Age: {self.age}'\n"
   ]
  },
  {
   "cell_type": "code",
   "execution_count": null,
   "metadata": {},
   "outputs": [],
   "source": [
    "from sqlalchemy import create_engine\n",
    "\n",
    "DATABASE_URI = 'postgresql://{user}:{password}@{host}:{port}/{database}'\n",
    "\n",
    "\n",
    "engine = create_engine(\n",
    "    DATABASE_URI.format(\n",
    "        host='localhost',\n",
    "        database='postgres',\n",
    "        user='user',\n",
    "        password='password',\n",
    "        port=5432,\n",
    "    )\n",
    ")"
   ]
  },
  {
   "cell_type": "code",
   "execution_count": null,
   "metadata": {},
   "outputs": [],
   "source": [
    "Base.metadata.create_all(engine)"
   ]
  },
  {
   "cell_type": "code",
   "execution_count": null,
   "metadata": {},
   "outputs": [],
   "source": [
    "from sqlalchemy.orm import sessionmaker\n",
    "\n",
    "Session = sessionmaker(bind=engine)\n",
    "\n",
    "session = Session()"
   ]
  },
  {
   "cell_type": "code",
   "execution_count": null,
   "metadata": {},
   "outputs": [],
   "source": [
    "session.close()"
   ]
  },
  {
   "cell_type": "code",
   "execution_count": null,
   "metadata": {},
   "outputs": [],
   "source": [
    "first_student = session.query(Student).first() # select * from student limit 1"
   ]
  },
  {
   "cell_type": "code",
   "execution_count": null,
   "metadata": {},
   "outputs": [],
   "source": [
    "first_student"
   ]
  },
  {
   "cell_type": "code",
   "execution_count": null,
   "metadata": {},
   "outputs": [],
   "source": [
    "first_student.id"
   ]
  },
  {
   "cell_type": "code",
   "execution_count": null,
   "metadata": {},
   "outputs": [],
   "source": [
    "students = session.query(Student).all() # select * from student \n",
    "\n",
    "for student in students:\n",
    "    print(f'Student id  {student.id}')\n",
    "    print(f'Student name  {student.name}')\n",
    "    print(f'Student age  {student.age}')\n",
    "    print()"
   ]
  },
  {
   "cell_type": "code",
   "execution_count": null,
   "metadata": {},
   "outputs": [],
   "source": [
    "session.query(Student.name, Student.age).all()\n",
    "# Select name, age from student"
   ]
  },
  {
   "cell_type": "code",
   "execution_count": null,
   "metadata": {},
   "outputs": [],
   "source": [
    "first_old_student = session.query(Student).filter(Student.age > 20).first()\n",
    "# Select * from student where age > 20 limit 1;\n",
    "print(first_old_student)"
   ]
  },
  {
   "cell_type": "code",
   "execution_count": null,
   "metadata": {},
   "outputs": [],
   "source": [
    "first_old_student = session.query(Student).filter(Student.age > 20).order_by(Student.id.desc()).first()\n",
    "# Select * from student where age > 20 order by id desc limit 1;\n",
    "print(first_old_student)"
   ]
  },
  {
   "cell_type": "code",
   "execution_count": null,
   "metadata": {},
   "outputs": [],
   "source": [
    "old_students: list[Student] = session.query(Student).filter(Student.age > 20).order_by(Student.id.desc()).all()\n",
    "# Select * from student where age > 20;\n",
    "print(old_students)"
   ]
  },
  {
   "cell_type": "code",
   "execution_count": null,
   "metadata": {},
   "outputs": [],
   "source": [
    "old_students = session.query(Student).filter(Student.age > 20).order_by(Student.id.asc()).all()\n",
    "# Select * from student where age > 20;\n",
    "print(old_students)"
   ]
  },
  {
   "cell_type": "markdown",
   "metadata": {},
   "source": [
    "### AND / OR"
   ]
  },
  {
   "cell_type": "code",
   "execution_count": null,
   "metadata": {},
   "outputs": [],
   "source": [
    "mature_students: list[Student] = (\n",
    "    session.query(Student)\n",
    "    .filter(Student.age.between(18, 20))\n",
    "    .all()\n",
    ")\n",
    "# Select * from student where age between 18 and 20\n",
    "\n",
    "print(mature_students)"
   ]
  },
  {
   "cell_type": "code",
   "execution_count": null,
   "metadata": {},
   "outputs": [],
   "source": [
    "### WHERE \n",
    "\n",
    "from sqlalchemy import and_\n",
    "\n",
    "mature_students: list[Student] = (\n",
    "    session.query(Student)\n",
    "    .filter(\n",
    "        and_(\n",
    "            Student.age.between(18, 20),\n",
    "            Student.name == 'Iria',\n",
    "        )\n",
    "    ).all()\n",
    ")\n",
    "\n",
    "# SELECT * from student where\n",
    "# age between 18 and 20 and nama = 'Iria'\n",
    "#\n",
    "\n",
    "print(mature_students)"
   ]
  },
  {
   "cell_type": "code",
   "execution_count": null,
   "metadata": {},
   "outputs": [],
   "source": [
    "from sqlalchemy import or_\n",
    "\n",
    "session.query(Student).filter(\n",
    "    or_(\n",
    "        Student.name == 'Bae',\n",
    "        Student.name == 'Lila',\n",
    "    )\n",
    ").all()\n",
    "\n",
    "# select * from student \n",
    "# where name = 'bae' or name = 'Lila'"
   ]
  },
  {
   "cell_type": "code",
   "execution_count": null,
   "metadata": {},
   "outputs": [],
   "source": [
    "session.query(Student).order_by(Student.name.desc()).limit(2).all()\n",
    "\n",
    "# select * from student order by name desc limit 2;"
   ]
  },
  {
   "cell_type": "code",
   "execution_count": null,
   "metadata": {},
   "outputs": [],
   "source": [
    "session.query(Student).limit(2).all()"
   ]
  },
  {
   "cell_type": "code",
   "execution_count": null,
   "metadata": {},
   "outputs": [],
   "source": [
    "from sqlalchemy import and_\n",
    "\n",
    "(\n",
    "    session.query(Student)\n",
    "    .filter(\n",
    "        and_(\n",
    "            or_(\n",
    "                Student.age < 18,\n",
    "                Student.age > 25,\n",
    "            ),\n",
    "            Student.id.between(1, 10)\n",
    "        )\n",
    "    )\n",
    "    .order_by(Student.name.desc())\n",
    "    .limit(10)\n",
    "    .all()\n",
    ")\n",
    "\n",
    "\n",
    "# Select * from student where (age < 18 or age > 25) and id between 1 and 10 order by name desc limit 10"
   ]
  },
  {
   "cell_type": "markdown",
   "metadata": {},
   "source": [
    "## Update"
   ]
  },
  {
   "cell_type": "code",
   "execution_count": null,
   "metadata": {},
   "outputs": [],
   "source": [
    "from random import randint\n",
    "\n",
    "bae = session.query(Student).filter(Student.name == 'Bae').first()\n",
    "\n",
    "print(bae)\n",
    "print(bae.id)"
   ]
  },
  {
   "cell_type": "code",
   "execution_count": null,
   "metadata": {},
   "outputs": [],
   "source": [
    "\n",
    "bae.age = randint(18, 25)\n",
    "\n",
    "print(bae)"
   ]
  },
  {
   "cell_type": "code",
   "execution_count": null,
   "metadata": {},
   "outputs": [],
   "source": [
    "bae.age"
   ]
  },
  {
   "cell_type": "code",
   "execution_count": null,
   "metadata": {},
   "outputs": [],
   "source": [
    "bae = session.query(Student).filter(Student.name == 'Bae').first()\n",
    "bae"
   ]
  },
  {
   "cell_type": "code",
   "execution_count": null,
   "metadata": {},
   "outputs": [],
   "source": [
    "\n",
    "session.commit()\n",
    "# session.rollback()"
   ]
  },
  {
   "cell_type": "code",
   "execution_count": null,
   "metadata": {},
   "outputs": [],
   "source": [
    "bae"
   ]
  },
  {
   "cell_type": "code",
   "execution_count": null,
   "metadata": {},
   "outputs": [],
   "source": [
    "bae = session.query(Student).filter(Student.name == 'Bae').first()\n",
    "bae"
   ]
  },
  {
   "cell_type": "markdown",
   "metadata": {},
   "source": [
    "## Insert"
   ]
  },
  {
   "cell_type": "code",
   "execution_count": null,
   "metadata": {},
   "outputs": [],
   "source": [
    "new_student = Student(name='Maksym', age=25)\n",
    "\n",
    "session.add(new_student)"
   ]
  },
  {
   "cell_type": "code",
   "execution_count": null,
   "metadata": {},
   "outputs": [],
   "source": [
    "session.query(Student).filter(\n",
    "    and_(\n",
    "        Student.name == 'Maksym',\n",
    "        Student.age == 25,\n",
    "    )\n",
    ").all()"
   ]
  },
  {
   "cell_type": "code",
   "execution_count": null,
   "metadata": {},
   "outputs": [],
   "source": [
    "session.commit()"
   ]
  },
  {
   "cell_type": "code",
   "execution_count": null,
   "metadata": {},
   "outputs": [],
   "source": [
    "from random import randint, choice\n",
    "\n",
    "random_names = ['Joe', 'Winston', 'Benedict', 'Andrea', 'Fillipe', 'Iria', 'Eric', 'Joan', 'Pablo', 'Brian', 'Timothy', 'Lee']\n",
    "\n",
    "for _ in range(10):\n",
    "    student = Student(name=choice(random_names), age=randint(18, 25))\n",
    "    session.add(student)\n",
    "\n",
    "session.commit()"
   ]
  },
  {
   "cell_type": "code",
   "execution_count": null,
   "metadata": {},
   "outputs": [],
   "source": [
    "session.query(Student).all()"
   ]
  },
  {
   "cell_type": "markdown",
   "metadata": {},
   "source": [
    "## Update"
   ]
  },
  {
   "cell_type": "code",
   "execution_count": null,
   "metadata": {},
   "outputs": [],
   "source": [
    "last_student = session.query(Student).order_by(Student.id.desc()).first()\n",
    "\n",
    "last_student"
   ]
  },
  {
   "cell_type": "code",
   "execution_count": null,
   "metadata": {},
   "outputs": [],
   "source": [
    "type(last_student)"
   ]
  },
  {
   "cell_type": "code",
   "execution_count": null,
   "metadata": {},
   "outputs": [],
   "source": [
    "last_student"
   ]
  },
  {
   "cell_type": "code",
   "execution_count": null,
   "metadata": {},
   "outputs": [],
   "source": [
    "session.commit()"
   ]
  },
  {
   "attachments": {},
   "cell_type": "markdown",
   "metadata": {},
   "source": [
    "## Practice\n",
    "\n",
    "1. Add models for student, subject and student_subject from previous lessons in SQLAlchemy.\n",
    "2. Find all students` name that visited 'English' classes.\n",
    "3. (Optional): Rewrite queries from the previous lesson using SQLAlchemy."
   ]
  }
 ],
 "metadata": {
  "kernelspec": {
   "display_name": "Python 3",
   "language": "python",
   "name": "python3"
  },
  "language_info": {
   "codemirror_mode": {
    "name": "ipython",
    "version": 3
   },
   "file_extension": ".py",
   "mimetype": "text/x-python",
   "name": "python",
   "nbconvert_exporter": "python",
   "pygments_lexer": "ipython3",
   "version": "3.9.16"
  },
  "orig_nbformat": 4,
  "vscode": {
   "interpreter": {
    "hash": "397704579725e15f5c7cb49fe5f0341eb7531c82d19f2c29d197e8b64ab5776b"
   }
  }
 },
 "nbformat": 4,
 "nbformat_minor": 2
}
