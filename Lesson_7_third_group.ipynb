{
 "cells": [
  {
   "cell_type": "markdown",
   "metadata": {},
   "source": [
    "### assert statement"
   ]
  },
  {
   "cell_type": "markdown",
   "metadata": {},
   "source": [
    "Ключове слово assert у Python використовується для перевірки того, чи умова має значення True або False. Якщо умова дорівнює True, програма продовжує виконання. Якщо умова дорівнює False, програма згенерує помилку твердження (AssertionError) і припинить виконання.\n",
    "\n",
    "Ось приклад використання ключового слова assert:"
   ]
  },
  {
   "cell_type": "code",
   "execution_count": 2,
   "metadata": {},
   "outputs": [
    {
     "name": "stdout",
     "output_type": "stream",
     "text": [
      "Цей рядок буде виконано, оскільки умова має значення True\n"
     ]
    }
   ],
   "source": [
    "x = 10\n",
    "y = 15\n",
    "\n",
    "assert x < y, \"x is not less than y\"\n",
    "\n",
    "print(\"Цей рядок буде виконано, оскільки умова має значення True\")"
   ]
  },
  {
   "cell_type": "markdown",
   "metadata": {},
   "source": [
    "У цьому прикладі умова x < y має значення True, тому програма виведе повідомлення і продовжить виконання. Якби умова була False, програма видала б помилку твердження (AssertionError) з повідомленням \"x не менше ніж y\".\n",
    "\n",
    "Ключове слово assert часто використовується з метою налагодження, оскільки воно дозволяє перевірити припущення та інваріанти вашого коду і переконатися, що вони правильні. Зазвичай воно не використовується у виробничому коді, оскільки повідомлення про помилку твердження (AssertionError), яке воно викликає, може бути складним для розуміння користувачами і може вказувати на проблему з програмою, а не на помилку у введенні даних користувачем."
   ]
  },
  {
   "cell_type": "code",
   "execution_count": 5,
   "metadata": {},
   "outputs": [],
   "source": [
    "assert len((1, 2, 3)) == 3"
   ]
  },
  {
   "cell_type": "code",
   "execution_count": null,
   "metadata": {},
   "outputs": [],
   "source": [
    "def fibonacci(n):\n",
    "    a = 0\n",
    "    b = 1\n",
    "    for i in range(n):\n",
    "        a, b = b, a + b\n",
    "    return a"
   ]
  },
  {
   "cell_type": "code",
   "execution_count": 8,
   "metadata": {},
   "outputs": [
    {
     "ename": "NameError",
     "evalue": "name 'fibonacci' is not defined",
     "output_type": "error",
     "traceback": [
      "\u001b[1;31m---------------------------------------------------------------------------\u001b[0m",
      "\u001b[1;31mNameError\u001b[0m                                 Traceback (most recent call last)",
      "Cell \u001b[1;32mIn[8], line 1\u001b[0m\n\u001b[1;32m----> 1\u001b[0m result \u001b[39m=\u001b[39m fibonacci(\u001b[39m10\u001b[39m)\n\u001b[0;32m      2\u001b[0m \u001b[39massert\u001b[39;00m result \u001b[39m==\u001b[39m (\u001b[39m0\u001b[39m, \u001b[39m1\u001b[39m, \u001b[39m1\u001b[39m, \u001b[39m2\u001b[39m, \u001b[39m3\u001b[39m, \u001b[39m5\u001b[39m, \u001b[39m8\u001b[39m, \u001b[39m12\u001b[39m), \u001b[39mf\u001b[39m\u001b[39m\"\u001b[39m\u001b[39mThe result is incorrect: \u001b[39m\u001b[39m{\u001b[39;00mresult\u001b[39m}\u001b[39;00m\u001b[39m\"\u001b[39m\n",
      "\u001b[1;31mNameError\u001b[0m: name 'fibonacci' is not defined"
     ]
    }
   ],
   "source": [
    "result = fibonacci(10)\n",
    "assert result == (0, 1, 1, 2, 3, 5, 8, 12), f\"The result is incorrect: {result}\""
   ]
  },
  {
   "attachments": {},
   "cell_type": "markdown",
   "metadata": {},
   "source": [
    "## List\n",
    "\n",
    "Список у Python - це впорядкована колекція елементів. Списки є одним з найпоширеніших типів даних у Python і використовуються для зберігання колекції елементів, які можуть бути будь-якого типу даних, включаючи інші списки. Списки є змінюваними, тобто їх можна змінювати після створення."
   ]
  },
  {
   "cell_type": "code",
   "execution_count": 10,
   "metadata": {},
   "outputs": [],
   "source": [
    "numbers = ['first', 2, 'third', 4, 'fifth']"
   ]
  },
  {
   "cell_type": "code",
   "execution_count": 9,
   "metadata": {},
   "outputs": [
    {
     "name": "stdout",
     "output_type": "stream",
     "text": [
      "[1, 2, 3]\n"
     ]
    }
   ],
   "source": [
    "_tuple = (1, 2, 3)\n",
    "_list = list(_tuple)\n",
    "print(_list)"
   ]
  },
  {
   "cell_type": "code",
   "execution_count": 11,
   "metadata": {},
   "outputs": [
    {
     "data": {
      "text/plain": [
       "['a', ',', 'b', ',', 'c']"
      ]
     },
     "execution_count": 11,
     "metadata": {},
     "output_type": "execute_result"
    }
   ],
   "source": [
    "list('a,b,c')"
   ]
  },
  {
   "cell_type": "code",
   "execution_count": 12,
   "metadata": {},
   "outputs": [
    {
     "name": "stdout",
     "output_type": "stream",
     "text": [
      "['a', 'b', 'c']\n"
     ]
    }
   ],
   "source": [
    "print('a,b,c'.split(','))"
   ]
  },
  {
   "cell_type": "code",
   "execution_count": 13,
   "metadata": {},
   "outputs": [
    {
     "data": {
      "text/plain": [
       "[2]"
      ]
     },
     "execution_count": 13,
     "metadata": {},
     "output_type": "execute_result"
    }
   ],
   "source": [
    "numbers = [1, 2, 3, 4, 5]\n",
    "numbers[1:3:2]"
   ]
  },
  {
   "cell_type": "code",
   "execution_count": 14,
   "metadata": {},
   "outputs": [
    {
     "name": "stdout",
     "output_type": "stream",
     "text": [
      "True\n"
     ]
    }
   ],
   "source": [
    "print(2 in numbers)"
   ]
  },
  {
   "cell_type": "code",
   "execution_count": 15,
   "metadata": {},
   "outputs": [
    {
     "name": "stdout",
     "output_type": "stream",
     "text": [
      "[1, 2, 3, 4, 5]\n",
      "[1, 'second', 3, 4, 5]\n"
     ]
    }
   ],
   "source": [
    "print(numbers)\n",
    "numbers[1] = 'second'\n",
    "print(numbers)"
   ]
  },
  {
   "cell_type": "code",
   "execution_count": 16,
   "metadata": {},
   "outputs": [
    {
     "name": "stdout",
     "output_type": "stream",
     "text": [
      "[1, 'second', 3, 4, 5]\n",
      "[1, 5, 10, 4, 5]\n"
     ]
    }
   ],
   "source": [
    "print(numbers)\n",
    "numbers[1:3] = 5, 10\n",
    "print(numbers)"
   ]
  },
  {
   "cell_type": "code",
   "execution_count": 18,
   "metadata": {},
   "outputs": [
    {
     "data": {
      "text/plain": [
       "['__add__',\n",
       " '__class__',\n",
       " '__class_getitem__',\n",
       " '__contains__',\n",
       " '__delattr__',\n",
       " '__delitem__',\n",
       " '__dir__',\n",
       " '__doc__',\n",
       " '__eq__',\n",
       " '__format__',\n",
       " '__ge__',\n",
       " '__getattribute__',\n",
       " '__getitem__',\n",
       " '__getstate__',\n",
       " '__gt__',\n",
       " '__hash__',\n",
       " '__iadd__',\n",
       " '__imul__',\n",
       " '__init__',\n",
       " '__init_subclass__',\n",
       " '__iter__',\n",
       " '__le__',\n",
       " '__len__',\n",
       " '__lt__',\n",
       " '__mul__',\n",
       " '__ne__',\n",
       " '__new__',\n",
       " '__reduce__',\n",
       " '__reduce_ex__',\n",
       " '__repr__',\n",
       " '__reversed__',\n",
       " '__rmul__',\n",
       " '__setattr__',\n",
       " '__setitem__',\n",
       " '__sizeof__',\n",
       " '__str__',\n",
       " '__subclasshook__',\n",
       " 'append',\n",
       " 'clear',\n",
       " 'copy',\n",
       " 'count',\n",
       " 'extend',\n",
       " 'index',\n",
       " 'insert',\n",
       " 'pop',\n",
       " 'remove',\n",
       " 'reverse',\n",
       " 'sort']"
      ]
     },
     "execution_count": 18,
     "metadata": {},
     "output_type": "execute_result"
    }
   ],
   "source": [
    "dir([])"
   ]
  },
  {
   "cell_type": "code",
   "execution_count": 19,
   "metadata": {},
   "outputs": [
    {
     "name": "stdout",
     "output_type": "stream",
     "text": [
      "[1, 5, 10, 4, 5]\n",
      "2023865784512\n",
      "[1, 5, 10, 4, 5, 3]\n",
      "2023866089600\n"
     ]
    }
   ],
   "source": [
    "print(numbers)\n",
    "print(id(numbers))\n",
    "\n",
    "numbers = numbers + [3]\n",
    "\n",
    "print(numbers)\n",
    "print(id(numbers))"
   ]
  },
  {
   "cell_type": "code",
   "execution_count": 20,
   "metadata": {},
   "outputs": [
    {
     "name": "stdout",
     "output_type": "stream",
     "text": [
      "[1, 5, 10, 4, 5, 3]\n",
      "2023866089600\n",
      "[1, 5, 10, 4, 5, 3]\n",
      "2023866179968\n"
     ]
    }
   ],
   "source": [
    "print(numbers)\n",
    "print(id(numbers))\n",
    "\n",
    "numbers = numbers + []\n",
    "\n",
    "print(numbers)\n",
    "print(id(numbers))"
   ]
  },
  {
   "cell_type": "code",
   "execution_count": 21,
   "metadata": {},
   "outputs": [
    {
     "name": "stdout",
     "output_type": "stream",
     "text": [
      "[1, 5, 10, 4, 5, 3]\n",
      "2023866179968\n",
      "[1, 5, 10, 4, 5, 3, 56]\n",
      "2023866179968\n"
     ]
    }
   ],
   "source": [
    "print(numbers)\n",
    "print(id(numbers))\n",
    "\n",
    "numbers.append(56)\n",
    "\n",
    "print(numbers)\n",
    "print(id(numbers))"
   ]
  },
  {
   "cell_type": "code",
   "execution_count": 22,
   "metadata": {},
   "outputs": [
    {
     "name": "stdout",
     "output_type": "stream",
     "text": [
      "[1, 5, 10, 4, 5, 3, 56]\n",
      "2023866179968\n",
      "[1, 5, 10, 4, 5, 3, 56, 3, 4]\n",
      "2023866179968\n"
     ]
    }
   ],
   "source": [
    "print(numbers)\n",
    "print(id(numbers))\n",
    "\n",
    "numbers += [3, 4]\n",
    "\n",
    "print(numbers)\n",
    "print(id(numbers))"
   ]
  },
  {
   "cell_type": "code",
   "execution_count": 23,
   "metadata": {},
   "outputs": [
    {
     "name": "stdout",
     "output_type": "stream",
     "text": [
      "[1, 5, 10, 4, 5, 3, 56, 3, 4]\n",
      "2023866179968\n",
      "[1, 5, 10, 4, 5, 3, 56, 3, 4, 45, 234, 78]\n",
      "2023866179968\n"
     ]
    }
   ],
   "source": [
    "print(numbers)\n",
    "print(id(numbers))\n",
    "\n",
    "numbers.extend([45, 234, 78])\n",
    "\n",
    "print(numbers)\n",
    "print(id(numbers))"
   ]
  },
  {
   "cell_type": "code",
   "execution_count": 24,
   "metadata": {},
   "outputs": [
    {
     "name": "stdout",
     "output_type": "stream",
     "text": [
      "[1, 5, 10, 4, 5, 3, 56, 3, 4, 45, 234, 78]\n",
      "[1, 'half', 5, 10, 4, 5, 3, 56, 3, 4, 45, 234, 78]\n"
     ]
    }
   ],
   "source": [
    "print(numbers)\n",
    "\n",
    "numbers.insert(1, 'half')\n",
    "\n",
    "print(numbers)"
   ]
  },
  {
   "cell_type": "code",
   "execution_count": 25,
   "metadata": {},
   "outputs": [
    {
     "name": "stdout",
     "output_type": "stream",
     "text": [
      "[1, 'half', 5, 10, 4, 5, 3, 56, 3, 4, 45, 234, 78]\n",
      "2\n"
     ]
    }
   ],
   "source": [
    "print(numbers)\n",
    "print(numbers.index(5))"
   ]
  },
  {
   "cell_type": "code",
   "execution_count": null,
   "metadata": {},
   "outputs": [],
   "source": [
    "print(numbers)\n",
    "print(numbers.pop(1))\n",
    "\n",
    "print(numbers)"
   ]
  },
  {
   "cell_type": "code",
   "execution_count": null,
   "metadata": {},
   "outputs": [],
   "source": [
    "print(numbers)\n",
    "print(numbers.remove('half'))\n",
    "print(numbers)"
   ]
  },
  {
   "cell_type": "code",
   "execution_count": null,
   "metadata": {},
   "outputs": [],
   "source": [
    "print(numbers)\n",
    "\n",
    "numbers[5] = 56\n",
    "\n",
    "print(numbers)"
   ]
  },
  {
   "cell_type": "code",
   "execution_count": null,
   "metadata": {},
   "outputs": [],
   "source": [
    "for i in numbers:\n",
    "    \n",
    "    \n",
    "    if isinstance(i, list):\n",
    "        for j in i:\n",
    "            print(j)\n",
    "    else:\n",
    "        print(f'element: {i}')"
   ]
  },
  {
   "cell_type": "code",
   "execution_count": 26,
   "metadata": {},
   "outputs": [
    {
     "name": "stdout",
     "output_type": "stream",
     "text": [
      "15\n"
     ]
    }
   ],
   "source": [
    "numbers = [1, 2, 3, 4, 5]\n",
    "total_sum = 0\n",
    "for number in numbers:\n",
    "    total_sum += number\n",
    "print(total_sum)"
   ]
  },
  {
   "cell_type": "code",
   "execution_count": 27,
   "metadata": {},
   "outputs": [
    {
     "name": "stdout",
     "output_type": "stream",
     "text": [
      "[1, 2, 3, 4, 5]\n",
      "Sum: 15\n",
      "Min: 1\n",
      "Max: 5\n"
     ]
    }
   ],
   "source": [
    "print(numbers)\n",
    "print(f'Sum: {sum(numbers)}')\n",
    "print(f'Min: {min(numbers)}')\n",
    "print(f'Max: {max(numbers)}')"
   ]
  },
  {
   "cell_type": "code",
   "execution_count": 28,
   "metadata": {},
   "outputs": [
    {
     "name": "stdout",
     "output_type": "stream",
     "text": [
      "Squares [1, 4, 9, 16, 25]\n"
     ]
    }
   ],
   "source": [
    "squares = []\n",
    "for number in numbers:\n",
    "    squares.append(number**2)\n",
    "print('Squares', squares)"
   ]
  },
  {
   "cell_type": "code",
   "execution_count": 29,
   "metadata": {},
   "outputs": [
    {
     "name": "stdout",
     "output_type": "stream",
     "text": [
      "[1, 4, 9, 16, 25]\n"
     ]
    }
   ],
   "source": [
    "squares = [i**2 for i in numbers]\n",
    "print(squares)"
   ]
  },
  {
   "cell_type": "code",
   "execution_count": 30,
   "metadata": {},
   "outputs": [
    {
     "name": "stdout",
     "output_type": "stream",
     "text": [
      "['1', '32', '243', '1024', '3125']\n"
     ]
    }
   ],
   "source": [
    "squares = [str(i**5) for i in numbers]\n",
    "print(squares)"
   ]
  },
  {
   "cell_type": "code",
   "execution_count": 35,
   "metadata": {},
   "outputs": [
    {
     "name": "stdout",
     "output_type": "stream",
     "text": [
      "['1', '32', '243', '1024', '3125']\n"
     ]
    }
   ],
   "source": [
    "squares = [str(i**5) for i in numbers if i < 1000]\n",
    "# list comprehension syntax\n",
    "# [expression for item in iterable if condition]\n",
    "print(squares)"
   ]
  },
  {
   "cell_type": "code",
   "execution_count": 36,
   "metadata": {},
   "outputs": [
    {
     "name": "stdout",
     "output_type": "stream",
     "text": [
      "Squares ['1', '32', '243', '1024', '3125']\n"
     ]
    }
   ],
   "source": [
    "# [str(i**5) for i in numbers if i < 10]\n",
    "\n",
    "elements = []\n",
    "for number in numbers:\n",
    "    if number < 10:\n",
    "        elements.append(str(number**5))\n",
    "print('Squares', elements)"
   ]
  },
  {
   "cell_type": "code",
   "execution_count": 37,
   "metadata": {},
   "outputs": [
    {
     "name": "stdout",
     "output_type": "stream",
     "text": [
      "[55.0, 37.0, 55.0]\n"
     ]
    }
   ],
   "source": [
    "rating = '54, 36, 54'\n",
    "ratings = rating.split(',')\n",
    "number_rating = [float(i.strip())+1 for i in ratings]\n",
    "print(number_rating)"
   ]
  },
  {
   "cell_type": "code",
   "execution_count": null,
   "metadata": {},
   "outputs": [],
   "source": [
    "str_numbers = (\"1.5\", \"2.3\", \"5.25\")\n",
    "print(f'String numbers: {str_numbers}')\n",
    "float_numbers = [float(value) for value in str_numbers]\n",
    "print(f'Float numbers: {float_numbers}')\n",
    "print(f'Float numbers sum: {sum(float_numbers)}')"
   ]
  },
  {
   "cell_type": "markdown",
   "metadata": {},
   "source": [
    "## Nesting, copying, and sorting"
   ]
  },
  {
   "cell_type": "code",
   "execution_count": 38,
   "metadata": {},
   "outputs": [
    {
     "name": "stdout",
     "output_type": "stream",
     "text": [
      "len(nested_list): 3\n"
     ]
    }
   ],
   "source": [
    "nested_list = [[1, 2, 3], [4, 5, 6], [7, 8, 9]]\n",
    "print(f'len(nested_list): {len(nested_list)}')"
   ]
  },
  {
   "cell_type": "code",
   "execution_count": 39,
   "metadata": {},
   "outputs": [
    {
     "data": {
      "text/plain": [
       "6"
      ]
     },
     "execution_count": 39,
     "metadata": {},
     "output_type": "execute_result"
    }
   ],
   "source": [
    "nested_list[1][2]"
   ]
  },
  {
   "cell_type": "code",
   "execution_count": null,
   "metadata": {},
   "outputs": [],
   "source": [
    "for i in nested_list:\n",
    "    for j in i:\n",
    "        print(j)\n",
    "    print()"
   ]
  },
  {
   "cell_type": "code",
   "execution_count": null,
   "metadata": {},
   "outputs": [],
   "source": [
    "first_list = [1, 2, 3]\n",
    "second_list = first_list\n",
    "second_list[0] = 0\n",
    "print(first_list)"
   ]
  },
  {
   "cell_type": "code",
   "execution_count": null,
   "metadata": {},
   "outputs": [],
   "source": [
    "first_list = [1, 2, 3]\n",
    "second_list = first_list[:] # [1, 2, 3]\n",
    "second_list[0] = 0\n",
    "print(first_list)"
   ]
  },
  {
   "cell_type": "code",
   "execution_count": null,
   "metadata": {},
   "outputs": [],
   "source": [
    "def some_function(value, temP_list = 'abc'):\n",
    "    temP_list += value\n",
    "    print(temP_list)"
   ]
  },
  {
   "cell_type": "code",
   "execution_count": null,
   "metadata": {},
   "outputs": [],
   "source": [
    "some_function('d')"
   ]
  },
  {
   "cell_type": "code",
   "execution_count": null,
   "metadata": {},
   "outputs": [],
   "source": [
    "def some_function(value, temP_list = []):\n",
    "    temP_list.append(value)\n",
    "    print(temP_list)"
   ]
  },
  {
   "cell_type": "code",
   "execution_count": null,
   "metadata": {},
   "outputs": [],
   "source": [
    "some_function('3')"
   ]
  },
  {
   "cell_type": "code",
   "execution_count": null,
   "metadata": {},
   "outputs": [],
   "source": [
    "some_function.__defaults__"
   ]
  },
  {
   "cell_type": "code",
   "execution_count": null,
   "metadata": {},
   "outputs": [],
   "source": [
    "def some_function(value, temP_list = None):\n",
    "    if temP_list is None:\n",
    "        temP_list = []\n",
    "\n",
    "    temP_list.append(value)\n",
    "    print(temP_list)"
   ]
  },
  {
   "cell_type": "code",
   "execution_count": null,
   "metadata": {},
   "outputs": [],
   "source": [
    "some_function(5)"
   ]
  },
  {
   "cell_type": "code",
   "execution_count": null,
   "metadata": {},
   "outputs": [],
   "source": [
    "unsorted_list = [3, 2, 1, 7, 4]\n",
    "unsorted_list.sort()\n",
    "print(f'use sort: {unsorted_list}')"
   ]
  },
  {
   "cell_type": "code",
   "execution_count": null,
   "metadata": {},
   "outputs": [],
   "source": [
    "def some_function(x):\n",
    "    return x**2"
   ]
  },
  {
   "cell_type": "code",
   "execution_count": null,
   "metadata": {},
   "outputs": [],
   "source": [
    "numbers = ['twenty', 'one']\n",
    "numbers.sort(key=len)\n",
    "print(numbers)"
   ]
  },
  {
   "cell_type": "code",
   "execution_count": null,
   "metadata": {},
   "outputs": [],
   "source": [
    "numbers = ['twenty', 'one']\n",
    "numbers2 = sorted(numbers, key=len)\n",
    "print(numbers)\n",
    "print(numbers2)"
   ]
  },
  {
   "cell_type": "code",
   "execution_count": null,
   "metadata": {},
   "outputs": [],
   "source": [
    "def my_range(*args):\n",
    "    start = 0\n",
    "    stop = None\n",
    "    \n",
    "    if len(args) == 1:\n",
    "        stop = args[0]\n",
    "    elif len(args) == 2:\n",
    "        start = args[0]\n",
    "        stop = args[1]\n",
    "    else:\n",
    "        raise ValueError('Invalid number of arguments')\n",
    "\n",
    "    while start < stop:\n",
    "        print(start)\n",
    "        start += 1"
   ]
  },
  {
   "cell_type": "code",
   "execution_count": null,
   "metadata": {},
   "outputs": [],
   "source": [
    "my_range(2, 5)"
   ]
  },
  {
   "attachments": {},
   "cell_type": "markdown",
   "metadata": {},
   "source": [
    "## Practice\n",
    "\n",
    "1. Write a Python program to compute the difference between two lists.\n",
    "\n",
    "    Sample data: ['a', 'b', 'c', 'd'], ['c', 'd', 'e']\n",
    "\n",
    "    Expected Output:\n",
    "\n",
    "    first-second: ['a', 'b']\n",
    "\n",
    "    second-first: ['e']\n",
    "    ```python\n",
    "    def compute_difference(first: list, second: list) -> tuple:\n",
    "        # write your code here\n",
    "        pass\n",
    "\n",
    "    def test_compute_difference():\n",
    "        result1 = compute_difference(['a', 'b', 'c', 'c', 'd'], ['c', 'd', 'e'])\n",
    "        assert result1 == (['a', 'b', 'c'], ['e'])\n",
    "\n",
    "        result2 = compute_difference([], ['c', 'd', 'e'])\n",
    "        assert result2 == ([], ['c', 'd', 'e'])\n",
    "\n",
    "        result3 = compute_difference([1, 2, 3], [4, 5, 6])\n",
    "        assert result3 == ([1, 2, 3], [4, 5, 6])\n",
    "\n",
    "        result3 = compute_difference([1, 2, 3], [2, 3, 4])\n",
    "        assert result3 == ([1], [4])\n",
    "    ```\n",
    "\n",
    "\n",
    "\n",
    "2. Given an array of integers nums and an integer target, return indices of the two numbers such that they add up to target.\n",
    "\n",
    "    You may assume that each input would have exactly one solution, and you may not use the same element twice.\n",
    "\n",
    "    You can return the answer in any order.\n",
    "\n",
    "    **Example 1:**\n",
    "\n",
    "    Input: nums = [2,7,11,15], target = 9\n",
    "\n",
    "    Output: [0,1]\n",
    "\n",
    "    Explanation: Because nums[0] + nums[1] == 9, we return [0, 1].\n",
    "\n",
    "    **Example 2:**\n",
    "\n",
    "    Input: nums = [3,2,4], target = 6\n",
    "\n",
    "    Output: [1,2]\n",
    "\n",
    "    **Example 3:**\n",
    "\n",
    "    Input: nums = [3,3], target = 6\n",
    "\n",
    "    Output: [0,1]\n",
    "\n",
    "    ```python\n",
    "    def sum_of_two(nums: list, target: int) -> list:\n",
    "        # write your code here\n",
    "        pass\n",
    "\n",
    "    def test_sum_of_two():\n",
    "        result1 = sum_of_two([2,7,11,15], 9)\n",
    "        assert result1 == [0, 1]\n",
    "\n",
    "        result2 = sum_of_two([3,2,4], 6)\n",
    "        assert result2 == [1, 2]\n",
    "\n",
    "        result3 = sum_of_two([3,3], 6)\n",
    "        assert result3 == [0, 1]\n",
    "    ```\n",
    "\n",
    "3. Write a program that takes a list of integers as input and returns a new list that contains only the elements that are unique (i.e., that appear only once in the list). For example, if the input list is [1, 2, 3, 2, 4, 5, 5], the output list should be [1, 3, 4]. You can not use set data structure. It`s also forbidden to use the count method.\n",
    "\n",
    "    ```python\n",
    "    def unique_elements(arr: list) -> list:\n",
    "        # write your code here\n",
    "        pass\n",
    "\n",
    "    def test_unique_elements():\n",
    "        result1 = unique_elements([1, 2, 3, 2, 4, 5, 5])\n",
    "        assert result1 == [1, 3, 4]\n",
    "\n",
    "        result2 = unique_elements([1, 2, 3, 4, 5])\n",
    "        assert result2 == []\n",
    "\n",
    "        result3 = unique_elements([1, 1, 1, 1, 1])\n",
    "        assert result3 == []\n",
    "    ```\n",
    "\n",
    "4. Write a program that takes a list of integers as input and returns a new list that contains only the elements that appear an odd number of times in the list. For example, if the input list is [1, 2, 3, 2, 4, 5, 5], the output list should be [1, 3, 4].\n",
    "    \n",
    "        ```python\n",
    "        def odd_elements(arr: list) -> list:\n",
    "            # write your code here\n",
    "            pass\n",
    "    \n",
    "        def test_odd_elements():\n",
    "            result1 = odd_elements([1, 2, 3, 2, 4, 5, 5])\n",
    "            assert result1 == [1, 3, 4]\n",
    "\n",
    "            result1 = odd_elements([1, 2, 3, 2, 4, 5, 5, 6, 6, 6])\n",
    "            assert result1 == [1, 3, 4, 6]\n",
    "        ```\n",
    "\n",
    "4. Write a program that takes a list of integers as input and returns the second-largest element in the list. If the list has fewer than two elements, the program should return None. For example, if the input list is [1, 2, 3, 2, 4, 5, 5], the program should return 5.\n",
    "    \n",
    "    ```python\n",
    "    def second_largest_element(arr: list) -> int:\n",
    "        # write your code here\n",
    "        pass\n",
    "\n",
    "    def test_second_largest_element():\n",
    "        result1 = second_largest_element([1, 2, 3, 2, 4, 5, 5])\n",
    "        assert result1 == 5\n",
    "\n",
    "        result2 = second_largest_element([1, 2, 3, 4, 5])\n",
    "        assert result2 == 4\n",
    "\n",
    "        result3 = second_largest_element([1, 1, 1, 1, 1])\n",
    "        assert result3 == None\n",
    "    ```\n",
    "\n",
    "4. Optional (hard): Longest Increasing Sequence\n",
    "\n",
    "    Have the function longest_increasing_sequence take the list of positive integers and return the length of the longest increasing subsequence (LIS). A LIS is a subset of the original list where the numbers are in sorted order, from lowest to highest, and are in increasing order. The sequence does not need to be contiguous or unique, and there can be several different subsequences. For example: if arr is [4, 3, 5, 1, 6] then a possible LIS is [3, 5, 6], and another is [1, 6]. For this input, your program should return 3 because that is the length of the longest increasing subsequence.\n",
    "    ```\n",
    "    Examples\n",
    "\n",
    "    Input: [9, 9, 4, 2]\n",
    "\n",
    "    Output: 1\n",
    "\n",
    "    Input: [10, 22, 9, 33, 21, 50, 41, 60, 22, 68, 90]\n",
    "\n",
    "    Output: 7\n",
    "\n",
    "    \n",
    "    ```\n",
    "    ```python\n",
    "    def longest_increasing_sequence(arr: list) -> int:\n",
    "        # write your code here\n",
    "        pass\n",
    "\n",
    "    def test_sum_of_two():\n",
    "        result1 = longest_increasing_sequence([9, 9, 4, 2])\n",
    "        assert result1 == 1\n",
    "\n",
    "        result2 = longest_increasing_sequence([10, 22, 9, 33, 21, 50, 41, 60, 22, 68, 90])\n",
    "        assert result2 == 7\n",
    "\n",
    "        result3 = longest_increasing_sequence([4, 3, 5, 1, 6])\n",
    "        assert result3 == 3\n",
    "    ```"
   ]
  },
  {
   "attachments": {},
   "cell_type": "markdown",
   "metadata": {},
   "source": [
    "7. Sort the following list by population. Calculate average and total population for cities from this list:\n",
    "```\n",
    "[\n",
    "    ('New York City', 8550405),\n",
    "    ('Los Angeles', 3792621),\n",
    "    ('Chicago', 2695598),\n",
    "    ('Houston', 2100263),\n",
    "    ('Philadelphia', 1526006),\n",
    "    ('Phoenix', 1445632),\n",
    "    ('San Antonio', 1327407),\n",
    "    ('San Diego', 1307402),\n",
    "    ('Dallas', 1197816),\n",
    "    ('San Jose', 945942),\n",
    "]\n",
    "```\n"
   ]
  },
  {
   "attachments": {},
   "cell_type": "markdown",
   "metadata": {},
   "source": [
    "### Materials\n",
    "\n",
    "1. [Asserts](https://realpython.com/python-assert-statement/)\n",
    "2. [List and Tuples](https://realpython.com/python-lists-tuples/)\n",
    "\n",
    "3. [WHat is generator](https://nvie.com/posts/iterators-vs-generators/)"
   ]
  }
 ],
 "metadata": {
  "kernelspec": {
   "display_name": "Python 3.11.1 64-bit",
   "language": "python",
   "name": "python3"
  },
  "language_info": {
   "codemirror_mode": {
    "name": "ipython",
    "version": 3
   },
   "file_extension": ".py",
   "mimetype": "text/x-python",
   "name": "python",
   "nbconvert_exporter": "python",
   "pygments_lexer": "ipython3",
   "version": "3.11.1"
  },
  "orig_nbformat": 4,
  "vscode": {
   "interpreter": {
    "hash": "de47f5c92c0ee6f12a59a5613ac5feff6aab19ddff207ba0b3964cced08c4ccc"
   }
  }
 },
 "nbformat": 4,
 "nbformat_minor": 2
}
