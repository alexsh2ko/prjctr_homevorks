{
 "cells": [
  {
   "cell_type": "markdown",
   "metadata": {},
   "source": [
    "###  Practice 1:\n",
    "\n",
    "\n",
    "\n",
    "1. Write a game where user should guess of a capital of the country that you have in your dictionary.\n",
    "\n",
    "    capitals = {\n",
    "        'Ukraine': 'Kyiv',\n",
    "        'France': 'Paris',\n",
    "        'Germany': 'Berlin',\n",
    "        'Italy': 'Rome',\n",
    "        'USA': 'Washington',\n",
    "        'Canada': 'Ottawa',\n",
    "        'Switzerland': 'Bern',\n",
    "        'Austria': 'Vienna',\n",
    "        'Belgium': 'Brussels',\n",
    "        'Sweden': 'Stockholm',\n",
    "        'Norway': 'Oslo',\n",
    "        'Denmark': 'Copenhagen',\n",
    "        'Finland': 'Helsinki',\n",
    "        'Poland': 'Warsaw',\n",
    "        'Romania': 'Bucharest',\n",
    "        'Bulgaria': 'Sofia',\n",
    "        'Greece': 'Athens',\n",
    "        ...\n",
    "    }\n",
    "\n",
    "    You should show user a random country from the list and ask him to guess the capital. If user input right capital, print \"You are right!\", add him a point and ask him to guess another country. If not, you should ask again. User should be able to quit the game by typing \"exit\".\n",
    "    You should print current score after each round. Also, you should print the final score before user quit the game.\n",
    "\n",
    "\n",
    "    Optional: \n",
    "    1. Give user a hint if he guesses wrong. Hint should looks like first letter of the capital. If you user make another mistake, you should print one more letter from the capital.\n",
    "\n",
    "    2. If user make a mistake you should decrement his lives. Initial amount of lives is 3. Game will end when user has no lives left. You should print the final score after user has no lives left."
   ]
  },
  {
   "cell_type": "code",
   "execution_count": null,
   "metadata": {},
   "outputs": [],
   "source": [
    "import random \n",
    "capitals = {\n",
    "        'Ukraine': 'Kyiv',\n",
    "        'France': 'Paris',\n",
    "        'Germany': 'Berlin',\n",
    "        'Italy': 'Rome',\n",
    "        'USA': 'Washington',\n",
    "        'Canada': 'Ottawa',\n",
    "        'Switzerland': 'Bern',\n",
    "        'Austria': 'Vienna',\n",
    "        'Belgium': 'Brussels',\n",
    "        'Sweden': 'Stockholm',\n",
    "        'Norway': 'Oslo',\n",
    "        'Denmark': 'Copenhagen',\n",
    "        'Finland': 'Helsinki',\n",
    "        'Poland': 'Warsaw',\n",
    "        'Romania': 'Bucharest',\n",
    "        'Bulgaria': 'Sofia',\n",
    "        'Greece': 'Athens'\n",
    "    }\n",
    "country = list(capitals.keys())\n",
    "lives = 3\n",
    "print ('Вгадай столицю країни. У вас 3 життя. Введіть exit щоб вийти з гри.')\n",
    "points = 0\n",
    "while lives > 0:\n",
    "    random_country = random.choice(country)\n",
    "    answer = input(f'Столиця {random_country}: ')\n",
    "    answer = answer.capitalize()\n",
    "    if answer == 'Exit':\n",
    "        break\n",
    "    if answer == capitals[random_country]:\n",
    "        points += 1\n",
    "        print(f'Ваша відповідь вірна! Кількість балів: {points}. Кількість життів: {lives}')\n",
    "    else:\n",
    "        lives -= 1\n",
    "        print(f'Ваша відповідь невірна! Кількість балів: {points}. Кількість життів: {lives}')\n",
    "print(f'Гра завершена. Кількість набраних балів: {points}')"
   ]
  },
  {
   "cell_type": "markdown",
   "metadata": {},
   "source": [
    "Given an array nums of size n, return the majority element.\n",
    "\n",
    "    The majority element is the element that appears more than any other element. You may assume that the majority element always exists in the array.\n",
    "\n",
    "        Example 1:\n",
    "\n",
    "        Input: nums = [3,2,3]\n",
    "        Output: 3\n",
    "\n",
    "        Example 2:\n",
    "\n",
    "        Input: nums = [2,2,1,1,1,2,2]\n",
    "        Output: 2\n",
    "\n",
    "    ```"
   ]
  },
  {
   "cell_type": "code",
   "execution_count": 21,
   "metadata": {},
   "outputs": [],
   "source": [
    "def majority_element(nums: list) -> int:\n",
    "    maxCount = 0\n",
    "    index = 0\n",
    "    for i in range(len(nums)):\n",
    "        count = 1\n",
    "        for j in range(i+1, len(nums)):\n",
    "            if(nums[i] == nums[j]):\n",
    "                count += 1\n",
    "        if(count > maxCount):\n",
    "            maxCount = count\n",
    "            index = i\n",
    "    if (maxCount > len(nums) // 2):\n",
    "        return nums[index]\n",
    "    else:\n",
    "        print(\"No element\")"
   ]
  },
  {
   "cell_type": "markdown",
   "metadata": {},
   "source": [
    "Assert"
   ]
  },
  {
   "cell_type": "code",
   "execution_count": 22,
   "metadata": {},
   "outputs": [],
   "source": [
    "def test_majority_element():\n",
    "        result1 = majority_element([3, 2, 3])\n",
    "        assert result1 == 3\n",
    "\n",
    "        result1 = majority_element([2, 2, 1, 1, 1, 2, 2])\n",
    "        assert result1 == 2\n",
    "test_majority_element()"
   ]
  },
  {
   "cell_type": "markdown",
   "metadata": {},
   "source": [
    "Given a string s, find the length of the longest substring without repeating characters.\n",
    "\n",
    "    Example 1:\n",
    "\n",
    "    Input: s = \"abcabcbb\"\n",
    "\n",
    "    Output: 3\n",
    "    Explanation: The answer is \"abc\", with the length of 3.\n",
    "\n",
    "    Example 2:\n",
    "\n",
    "    Input: s = \"bbbbb\"\n",
    "\n",
    "    Output: 1\n",
    "    Explanation: The answer is \"b\", with the length of 1.\n",
    "\n",
    "    Example 3:\n",
    "\n",
    "    Input: s = \"pwwkew\"\n",
    "\n",
    "    Output: 3\n",
    "\n",
    "    Explanation: The answer is \"wke\", with the length of 3.\n",
    "\n",
    "    Notice that the answer must be a substring, \"pwke\" is a subsequence and not a substring."
   ]
  },
  {
   "cell_type": "code",
   "execution_count": 49,
   "metadata": {},
   "outputs": [],
   "source": [
    "def length_of_longest_substring(s: str) -> int:\n",
    "    test = \"\"\n",
    "    max_len = 0\n",
    "    if (len(s) == 0):\n",
    "        return print('Ви нічого не ввели!')\n",
    "    elif(len(s) == 1):\n",
    "        print(f'Ваша підстрока: \"{s[0]}\", її довжина 1')\n",
    "        return 1\n",
    "    for c in list(s):\n",
    "        current = \"\".join(c)\n",
    "        if (current in test):\n",
    "            test = test[test.index(current) + 1:]\n",
    "        test = test + \"\".join(c)\n",
    "        maxLength = len(test)\n",
    "    print(f'Ваша підстрока: \"{test}\", її довжина {maxLength}')\n",
    "    return maxLength"
   ]
  },
  {
   "cell_type": "markdown",
   "metadata": {},
   "source": [
    "Assert"
   ]
  },
  {
   "cell_type": "code",
   "execution_count": null,
   "metadata": {},
   "outputs": [],
   "source": [
    "def test_length_of_longest_substring():\n",
    "            result1 = length_of_longest_substring('abcabcabc')\n",
    "            assert result1 == 3\n",
    "\n",
    "            result2 = length_of_longest_substring('bbbbb')\n",
    "            assert result2 == 1\n",
    "\n",
    "            result3 = length_of_longest_substring(\"pwwkew\")\n",
    "            assert result3 == 3\n",
    "test_length_of_longest_substring()"
   ]
  },
  {
   "cell_type": "markdown",
   "metadata": {},
   "source": [
    "Given two strings s and t, determine if they are isomorphic.\n",
    "\n",
    "    Two strings s and t are isomorphic if the characters in s can be replaced to get t.\n",
    "\n",
    "    All occurrences of a character must be replaced with another character while preserving the order of characters. No two characters may map to the same character, but a character may map to itself.\n",
    "\n",
    "        Example 1:\n",
    "\n",
    "        Input: s = \"egg\", t = \"add\"\n",
    "        Output: true\n",
    "\n",
    "        Example 2:\n",
    "\n",
    "        Input: s = \"foo\", t = \"bar\"\n",
    "        Output: false\n",
    "\n",
    "        Example 3:\n",
    "\n",
    "        Input: s = \"paper\", t = \"title\"\n",
    "        Output: true"
   ]
  },
  {
   "cell_type": "code",
   "execution_count": 17,
   "metadata": {},
   "outputs": [],
   "source": [
    "def is_isomorphic(s: str, t: str) -> bool:\n",
    "    if len(s) != len(t):       #, якщо s и t мають різну довжину, вони не ізоморфні\n",
    "        return False\n",
    "    compar = {}     # словник для зберігання співставлення символів рядка 's' зрядком 't'\n",
    "    reposit = set()     # множина для зберігання вже співставлених символів\n",
    "    for i in range(len(s)):\n",
    "        x_in_s = s[i]\n",
    "        y_in_t = t[i]\n",
    "        if x_in_s in compar:    # якщо 'x_in_s' був помічений раніше\n",
    "            if compar[x_in_s] != y_in_t:     # false, якщо перше входження `x_in_s` відображається на інший \n",
    "                return False\n",
    "        #, якщо 'x_in_s' відображається вперше\n",
    "        else:\n",
    "            if y_in_t in reposit:       # false, якщо 'y' вже співставлений з символом в 's' \n",
    "                return False\n",
    "            compar[x_in_s] = y_in_t     # співставляє 'y_in_t' с 'x_in_s' \n",
    "            reposit.add(y_in_t)         # додає його як співставлений\n",
    " \n",
    "    return True\n",
    "\n"
   ]
  },
  {
   "cell_type": "markdown",
   "metadata": {},
   "source": [
    "Assert"
   ]
  },
  {
   "cell_type": "code",
   "execution_count": 18,
   "metadata": {},
   "outputs": [],
   "source": [
    "def test_is_isomorphic():\n",
    "    assert is_isomorphic('egg', 'add') is True\n",
    "\n",
    "    assert is_isomorphic(\"foo\", \"bar\") is False\n",
    "\n",
    "    assert is_isomorphic('paper', 'title') is True\n",
    "test_is_isomorphic()"
   ]
  }
 ],
 "metadata": {
  "kernelspec": {
   "display_name": "Python 3.11.1 64-bit",
   "language": "python",
   "name": "python3"
  },
  "language_info": {
   "codemirror_mode": {
    "name": "ipython",
    "version": 3
   },
   "file_extension": ".py",
   "mimetype": "text/x-python",
   "name": "python",
   "nbconvert_exporter": "python",
   "pygments_lexer": "ipython3",
   "version": "3.11.1"
  },
  "orig_nbformat": 4,
  "vscode": {
   "interpreter": {
    "hash": "de47f5c92c0ee6f12a59a5613ac5feff6aab19ddff207ba0b3964cced08c4ccc"
   }
  }
 },
 "nbformat": 4,
 "nbformat_minor": 2
}
