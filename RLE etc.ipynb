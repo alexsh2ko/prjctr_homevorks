{
 "cells": [
  {
   "cell_type": "markdown",
   "metadata": {},
   "source": [
    "1. Напишіть програму, яка зчитує вік користувача та виводить повідомлення \"Ви повнолітній\", якщо користувач має 18 або більше років, та \"Ви неповнолітній\", якщо менше 18."
   ]
  },
  {
   "cell_type": "code",
   "execution_count": null,
   "metadata": {},
   "outputs": [],
   "source": [
    "try:\n",
    "    age = int(input(\"Введіть ваш вік: \"))\n",
    "except ValueError:\n",
    "    print(\"Помилка введення, повторіть!\")\n",
    "    age = int(input(\"Введіть ваш вік: \"))\n",
    "match age:\n",
    "    case age if age < 0:\n",
    "        print(\"Помилка введення, повторіть!\")\n",
    "        age = int(input(\"Введіть ваш вік: \"))\n",
    "    case age if age >= 18:\n",
    "        print(f\"Ваш вік: {age} - вы повнолітній\")\n",
    "    case age if age >0 and age < 18:\n",
    "        print(f\"Ваш вік: {age} - вы неповнолітній\")\n",
    "     "
   ]
  },
  {
   "cell_type": "markdown",
   "metadata": {},
   "source": [
    "2. Створіть програму, яка визначає, чи є рік, введений користувачем, високосним. Якщо рік високосний, програма має вивести \"Це високосний рік\", інакше - \"Це не високосний рік\"."
   ]
  },
  {
   "cell_type": "code",
   "execution_count": null,
   "metadata": {},
   "outputs": [],
   "source": [
    "try:\n",
    "    year = int(input(\"Введіть ваш рік: \"))\n",
    "except ValueError:\n",
    "    print(\"Повторіть введення\")\n",
    "    year = int(input(\"Введіть ваш рік: \"))\n",
    "if year < 0:\n",
    "    print(\"Ви ввели негативне значення, повторіть введення\")\n",
    "def is_leap_year(year):\n",
    "    if (year % 400 == 0):      #перевірка на те, чи є він високосним, згідно з помилкою яку враховує грегоріанський календар\n",
    "        return print(f\"{year} рік є високосним\")    \n",
    "    elif (year % 100 == 0):     #кожен рік який ділится без залишку на 4 є високосним\n",
    "        return print(f\"{year} рік не високосний\")       #не є високосний рік, якщо він без залишку ділиться на 100\n",
    "    elif (year % 4 == 0):       #про те рік є високосний, якщо він без залишку ділиться водночас на 100 і на 400\n",
    "        return print(f\"{year} рік є високосним\")\n",
    "    else:\n",
    "        return print(f\"{year} рік не високосний\")\n",
    "is_leap_year(year)"
   ]
  },
  {
   "cell_type": "markdown",
   "metadata": {},
   "source": [
    "3. Напишіть програму, яка зчитує три числа від користувача та виводить найбільше з них."
   ]
  },
  {
   "cell_type": "code",
   "execution_count": null,
   "metadata": {},
   "outputs": [],
   "source": [
    "try:\n",
    "    list1 = input(\"Введіть послідовність чисел, через ','\").split(\",\")\n",
    "    for i in range(len(list1)):\n",
    "        list1[i] = int(list1[i])\n",
    "except ValueError:\n",
    "    print(\"Повторіть введення\")\n",
    "    list1 = input(\"Введіть послідовність чисел, через ','\").split(\",\")\n",
    "    for i in range(len(list1)):\n",
    "        list1[i] = int(list1[i])\n",
    "print(list1)\n",
    "print(f\"Найбільше число {max(list1)}\")\n"
   ]
  },
  {
   "cell_type": "markdown",
   "metadata": {},
   "source": [
    "4. Створіть програму, яка запитує у користувача кольори світлофора, який знаходиться на перехресті, та виводить повідомлення \"Рух заборонено\", \"Рух дозволено\" або \"Рух дозволено з обережністю\", в залежності від того, який колір світлофора вказує на поточний момент."
   ]
  },
  {
   "cell_type": "code",
   "execution_count": null,
   "metadata": {},
   "outputs": [],
   "source": [
    "color = input(\"Введіть колір світлофора [green, yellow, red]: \")\n",
    "\n",
    "match color:\n",
    "    case 'green':\n",
    "        print('Рух дозволено')\n",
    "    case 'yellow':\n",
    "        print('Рух дозволено з обережністю')\n",
    "    case 'red':\n",
    "        print('Рух заборонено')\n",
    "    case color if color != 'green' or color != 'yellow' or color != 'red':\n",
    "        print(\"Помилка введення, повторіть!\")\n",
    "        color = input(\"Введіть колір світлофора [green, yellow, red]: \")\n",
    "        match color:\n",
    "            case 'green':\n",
    "                print('Рух дозволено')\n",
    "            case 'yellow':\n",
    "                print('Рух дозволено з обережністю')\n",
    "            case 'red':\n",
    "                print('Рух заборонено')"
   ]
  },
  {
   "cell_type": "markdown",
   "metadata": {},
   "source": [
    "5. Напишіть програму, яка перевіряє, чи належить введене користувачем число діапазону від 1 до 100 включно, та виводить повідомлення \"Число належить діапазону\", якщо так, і \"Число не належить діапазону\", якщо ні. "
   ]
  },
  {
   "cell_type": "code",
   "execution_count": null,
   "metadata": {},
   "outputs": [],
   "source": [
    "try:\n",
    "    us_num = int(input(\"Введіть веше число: \"))\n",
    "except ValueError:\n",
    "    print(\"Помилка введення, повторіть!\")\n",
    "    us_num = int(input(\"Введіть веше число: \"))\n",
    "if us_num >= 1 and us_num <= 100:\n",
    "    print(f'Число {us_num} належить діапазону від 0 до 100')\n",
    "else:\n",
    "    print(f'Число {us_num} не належить діапазону від 0 до 100')"
   ]
  },
  {
   "cell_type": "markdown",
   "metadata": {},
   "source": [
    "1. Створіть програму, яка зчитує вік користувача та використовуючи match/case виводить повідомлення залежно від діапазону віку: \"Ви підліток\" для віку від 13 до 17, \"Ви доросла людина\" для віку від 18 до 59, \"Ви сеніор\" для віку від 60 та старше, або \"Введіть правильний вік\", якщо вік не потрапляє в жоден з цих діапазонів.\n"
   ]
  },
  {
   "cell_type": "code",
   "execution_count": null,
   "metadata": {},
   "outputs": [],
   "source": [
    "user_age = int(input(\"Введіть ваш вік \"))\n",
    "def age_you_are(user_age: int) -> str:\n",
    "    match user_age:\n",
    "        case user_age if user_age > 0 and user_age < 13:\n",
    "            return print(\"Ви дитина\")\n",
    "        case user_age if user_age <= 17 and user_age >= 13:\n",
    "            return print(\"Ви підліток\")\n",
    "        case user_age if user_age >= 18 and user_age <= 59:\n",
    "            return print(\"Ви доросла людина\")\n",
    "        case user_age if user_age > 59:\n",
    "            return print(\"Ви сеніор\")\n",
    "age_you_are(user_age)"
   ]
  },
  {
   "cell_type": "markdown",
   "metadata": {},
   "source": [
    "2. Напишіть програму, яка зчитує номер місяця від користувача та використовуючи match/case "
   ]
  },
  {
   "cell_type": "code",
   "execution_count": null,
   "metadata": {},
   "outputs": [],
   "source": [
    "try:\n",
    "    month = int(input(\"Введіть номер місяця [1-12]: \"))\n",
    "except ValueError:\n",
    "    print(\"Помилка введення, повторіть!\")\n",
    "    month = int(input(\"Введіть номер місяця [1-12]: \"))\n",
    "     \n",
    "def what_month(month: int):\n",
    "    match month:\n",
    "        case month if month < 1 or month > 12:\n",
    "            print(\"Помилка введення, повторіть!\")\n",
    "            month = int(input(\"Введіть номер місяця [1-12]: \"))\n",
    "        case 1:\n",
    "            return print('Січень')\n",
    "        case 2:\n",
    "            return print('Лютий')\n",
    "        case 3:\n",
    "            return print('Березень')\n",
    "        case 4:\n",
    "            return print('Квітень')\n",
    "        case 5:\n",
    "            return print('Травень')\n",
    "        case 6:\n",
    "            return print('Червень')\n",
    "        case 7:\n",
    "            return print('Липень')\n",
    "        case 8:\n",
    "            return print('Серпень')\n",
    "        case 9:\n",
    "            return print('Вересень')\n",
    "        case 10:\n",
    "            return print('Жовтень')\n",
    "        case 11:\n",
    "            return print('Листопад')\n",
    "        case 12:\n",
    "            return print('Грудень')\n",
    "what_month(month)"
   ]
  },
  {
   "cell_type": "markdown",
   "metadata": {},
   "source": [
    "RLE encoder \n",
    "\n",
    "Given a string of letters (without numbers), create a string encoding it by the rules where the first character is char itself, followed by a number indicating the number of letter repeats.\n",
    "\n",
    "Examples:\n",
    "\n",
    "ABBA => A1B2A1\n",
    "ATTTGC => A1T3G1C1 "
   ]
  },
  {
   "cell_type": "code",
   "execution_count": 18,
   "metadata": {},
   "outputs": [],
   "source": [
    "def encoder (us_inp):\n",
    "    count = 1\n",
    "    prev_symb = us_inp[0]\n",
    "    res = \"\"\n",
    "    for symb in us_inp[1:]:\n",
    "        if symb == prev_symb:\n",
    "            count += 1\n",
    "        else:\n",
    "            res += prev_symb + str(count)\n",
    "            count = 1\n",
    "            prev_symb = symb\n",
    "    res += prev_symb + str(count)\n",
    "    print(res)\n",
    "    return res "
   ]
  },
  {
   "cell_type": "markdown",
   "metadata": {},
   "source": [
    "Assert"
   ]
  },
  {
   "cell_type": "code",
   "execution_count": 19,
   "metadata": {},
   "outputs": [
    {
     "name": "stdout",
     "output_type": "stream",
     "text": [
      "A1B2A1\n",
      "A1T3G1C1\n"
     ]
    }
   ],
   "source": [
    "def test_encoder():\n",
    "        result1 = encoder('ABBA')\n",
    "        assert result1 == 'A1B2A1'\n",
    "\n",
    "        result2 = encoder('ATTTGC')\n",
    "        assert result2 == 'A1T3G1C1'\n",
    "\n",
    "test_encoder()"
   ]
  }
 ],
 "metadata": {
  "kernelspec": {
   "display_name": "Python 3.11.1 64-bit",
   "language": "python",
   "name": "python3"
  },
  "language_info": {
   "codemirror_mode": {
    "name": "ipython",
    "version": 3
   },
   "file_extension": ".py",
   "mimetype": "text/x-python",
   "name": "python",
   "nbconvert_exporter": "python",
   "pygments_lexer": "ipython3",
   "version": "3.11.1"
  },
  "orig_nbformat": 4,
  "vscode": {
   "interpreter": {
    "hash": "de47f5c92c0ee6f12a59a5613ac5feff6aab19ddff207ba0b3964cced08c4ccc"
   }
  }
 },
 "nbformat": 4,
 "nbformat_minor": 2
}
