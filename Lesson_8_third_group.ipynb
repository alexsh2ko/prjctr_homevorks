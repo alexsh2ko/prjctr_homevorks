{
 "cells": [
  {
   "attachments": {},
   "cell_type": "markdown",
   "metadata": {},
   "source": [
    "## Set\n",
    "\n",
    "set is a collection of unique items. Sets are similar to lists or tuples, but they do not preserve any order and do not allow duplicate values. They are defined by curly braces { } or the built-in set() function."
   ]
  },
  {
   "cell_type": "code",
   "execution_count": null,
   "metadata": {},
   "outputs": [],
   "source": [
    "set_ = {1, 4, 6, 1}\n",
    "set_"
   ]
  },
  {
   "cell_type": "code",
   "execution_count": null,
   "metadata": {},
   "outputs": [],
   "source": [
    "empty_set = set()\n",
    "print(empty_set)"
   ]
  },
  {
   "cell_type": "code",
   "execution_count": null,
   "metadata": {},
   "outputs": [],
   "source": [
    "a = [1,2,3,5,1,5,2,4,6]\n",
    "set_a = set(a)\n",
    "print(set_a)"
   ]
  },
  {
   "cell_type": "code",
   "execution_count": null,
   "metadata": {},
   "outputs": [],
   "source": [
    "set_a.add(10)\n",
    "print(set_a)"
   ]
  },
  {
   "cell_type": "code",
   "execution_count": null,
   "metadata": {},
   "outputs": [],
   "source": [
    "set_a.add(4)\n",
    "set_a"
   ]
  },
  {
   "cell_type": "code",
   "execution_count": null,
   "metadata": {},
   "outputs": [],
   "source": [
    "len(set_a)"
   ]
  },
  {
   "cell_type": "code",
   "execution_count": null,
   "metadata": {},
   "outputs": [],
   "source": [
    "set_a[0]"
   ]
  },
  {
   "cell_type": "code",
   "execution_count": null,
   "metadata": {},
   "outputs": [],
   "source": [
    "print(10 in set_a)\n",
    "print(20 in set_a)"
   ]
  },
  {
   "cell_type": "code",
   "execution_count": null,
   "metadata": {},
   "outputs": [],
   "source": [
    "set_a.remove(10)\n",
    "set_a"
   ]
  },
  {
   "cell_type": "code",
   "execution_count": null,
   "metadata": {},
   "outputs": [],
   "source": [
    "a = set_a.pop()\n",
    "set_a"
   ]
  },
  {
   "cell_type": "code",
   "execution_count": null,
   "metadata": {},
   "outputs": [],
   "source": [
    "set_a.clear()\n",
    "print(set_a)\n",
    "print(bool(set_a))"
   ]
  },
  {
   "cell_type": "code",
   "execution_count": null,
   "metadata": {},
   "outputs": [],
   "source": [
    "set_b = {5,4,8,12,45}\n",
    "print(set_a)\n",
    "print(set_b)"
   ]
  },
  {
   "cell_type": "code",
   "execution_count": null,
   "metadata": {},
   "outputs": [],
   "source": [
    "set_a == set_b"
   ]
  },
  {
   "cell_type": "code",
   "execution_count": null,
   "metadata": {},
   "outputs": [],
   "source": [
    "set([1, 1, 1]) == set([1])"
   ]
  },
  {
   "cell_type": "code",
   "execution_count": null,
   "metadata": {},
   "outputs": [],
   "source": [
    "set_a = {1, 2}\n",
    "set_b = {1, 2, 3}\n",
    "\n",
    "print(set_a)\n",
    "print(set_b)\n",
    "# set_a <= set_b\n",
    "set_a.issubset(set_b)"
   ]
  },
  {
   "cell_type": "code",
   "execution_count": null,
   "metadata": {},
   "outputs": [],
   "source": [
    "# set_a >= set_b \n",
    "set_a.issuperset(set_b)"
   ]
  },
  {
   "cell_type": "code",
   "execution_count": null,
   "metadata": {},
   "outputs": [],
   "source": [
    "set_a = {1, 2, 3}\n",
    "set_b = {3, 4, 5}\n",
    "set_a.union(set_b).union({5, 6, 7})"
   ]
  },
  {
   "cell_type": "code",
   "execution_count": null,
   "metadata": {},
   "outputs": [],
   "source": [
    "set_a.intersection(set_b)"
   ]
  },
  {
   "cell_type": "code",
   "execution_count": null,
   "metadata": {},
   "outputs": [],
   "source": [
    "dir(set_a)"
   ]
  },
  {
   "cell_type": "code",
   "execution_count": null,
   "metadata": {},
   "outputs": [],
   "source": [
    "frozen_a = frozenset([1, 2, 3])\n",
    "frozen_a.add(10)"
   ]
  },
  {
   "cell_type": "code",
   "execution_count": null,
   "metadata": {},
   "outputs": [],
   "source": [
    "{1, 2, (1, 2, 3), 'str'}"
   ]
  },
  {
   "cell_type": "code",
   "execution_count": null,
   "metadata": {},
   "outputs": [],
   "source": [
    "{1, 2, (1, 2, 3), 'str', [1, 2, 3]}"
   ]
  },
  {
   "cell_type": "code",
   "execution_count": null,
   "metadata": {},
   "outputs": [],
   "source": [
    "list_ = [1, 2, 3, 1]\n",
    "\n",
    "list_ = list(set(list_))\n",
    "print(list_)"
   ]
  },
  {
   "cell_type": "code",
   "execution_count": null,
   "metadata": {},
   "outputs": [],
   "source": [
    "set([1, 2, 3])"
   ]
  },
  {
   "cell_type": "code",
   "execution_count": null,
   "metadata": {},
   "outputs": [],
   "source": [
    "[{1, 2}, {3, 4}][0]"
   ]
  },
  {
   "attachments": {},
   "cell_type": "markdown",
   "metadata": {},
   "source": [
    "### Dictionary\n",
    "\n",
    "In Python, a dictionary (also known as a \"dict\") is a collection of key-value pairs. Each key is connected to a value, and you can use a key to access the value associated with it. Dictionaries are defined using curly braces { } with keys and values separated by a colon :. Here's an example of creating a dictionary:"
   ]
  },
  {
   "cell_type": "markdown",
   "metadata": {},
   "source": [
    "\n",
    "| Key  | Value |\n",
    "| -- | -- |\n",
    "| 'France' | 'Paris |\n",
    "| 'Ukraine' | 'Kyiv' |\n",
    "| 'Germany' | 'Berlin' |\n"
   ]
  },
  {
   "cell_type": "code",
   "execution_count": null,
   "metadata": {},
   "outputs": [],
   "source": [
    "capitals = {\n",
    "    'France': 'Paris',\n",
    "    'Ukraine': 'Kyiv',\n",
    "    'Germany': 'Berlin',\n",
    "}\n",
    "print(capitals)"
   ]
  },
  {
   "cell_type": "code",
   "execution_count": null,
   "metadata": {},
   "outputs": [],
   "source": [
    "print(capitals['France'])"
   ]
  },
  {
   "cell_type": "code",
   "execution_count": null,
   "metadata": {},
   "outputs": [],
   "source": [
    "capitals['Italy'] = 'Rome'\n",
    "print(capitals)"
   ]
  },
  {
   "cell_type": "code",
   "execution_count": null,
   "metadata": {},
   "outputs": [],
   "source": [
    "capitals['Ukraine'] = ('Kyiv1', 'Kiev')"
   ]
  },
  {
   "cell_type": "code",
   "execution_count": null,
   "metadata": {},
   "outputs": [],
   "source": [
    "capitals"
   ]
  },
  {
   "cell_type": "code",
   "execution_count": null,
   "metadata": {},
   "outputs": [],
   "source": [
    "capitals['Ukraine'][0][0]"
   ]
  },
  {
   "cell_type": "code",
   "execution_count": null,
   "metadata": {},
   "outputs": [],
   "source": [
    "capitals[0] = [1, 10]"
   ]
  },
  {
   "cell_type": "code",
   "execution_count": null,
   "metadata": {},
   "outputs": [],
   "source": [
    "print(capitals[0])"
   ]
  },
  {
   "cell_type": "code",
   "execution_count": null,
   "metadata": {},
   "outputs": [],
   "source": [
    "del capitals[\"Italy\"]\n",
    "print(capitals)"
   ]
  },
  {
   "cell_type": "code",
   "execution_count": null,
   "metadata": {},
   "outputs": [],
   "source": [
    "print('France' in capitals)"
   ]
  },
  {
   "cell_type": "code",
   "execution_count": null,
   "metadata": {},
   "outputs": [],
   "source": [
    "print('Paris' in capitals)"
   ]
  },
  {
   "cell_type": "code",
   "execution_count": null,
   "metadata": {},
   "outputs": [],
   "source": [
    "for country in capitals:\n",
    "    print(f'Country: {country} Capital: {capitals[country]}')"
   ]
  },
  {
   "cell_type": "code",
   "execution_count": null,
   "metadata": {},
   "outputs": [],
   "source": [
    "print(f'Keys: {capitals.keys()}')\n",
    "print(f'Keys: {capitals.values()}')\n",
    "print(f'Items: {capitals.items()}')\n"
   ]
  },
  {
   "cell_type": "code",
   "execution_count": null,
   "metadata": {},
   "outputs": [],
   "source": [
    "for country, capital in capitals.items():\n",
    "    print(f\"The capital of {country} is {capital}\")"
   ]
  },
  {
   "cell_type": "code",
   "execution_count": null,
   "metadata": {},
   "outputs": [],
   "source": [
    "capitals['Poland']"
   ]
  },
  {
   "cell_type": "code",
   "execution_count": null,
   "metadata": {},
   "outputs": [],
   "source": [
    "if 'Poland' in capitals:\n",
    "    print(capitals['Poland'])"
   ]
  },
  {
   "cell_type": "code",
   "execution_count": null,
   "metadata": {},
   "outputs": [],
   "source": [
    "capitals.get('Poland')"
   ]
  },
  {
   "cell_type": "code",
   "execution_count": null,
   "metadata": {},
   "outputs": [],
   "source": [
    "capitals[(1, 2)] = 'London'"
   ]
  },
  {
   "cell_type": "code",
   "execution_count": 2,
   "metadata": {},
   "outputs": [],
   "source": [
    "countries = {\n",
    "    'Ukraine': {\n",
    "        'population': 40_000_000,\n",
    "        'fact': 'The capital of Ukraine is Kyiv',\n",
    "        'capital': 'Kyiv',\n",
    "    },\n",
    "    'France': {\n",
    "        'population': 67_000_000,\n",
    "        'fact': 'The capital of France is Paris',\n",
    "        'capital': 'Paris',\n",
    "    },\n",
    "    'Germany': {\n",
    "        'population': 80_000_000,\n",
    "        'fact': 'The capital of Germany is Berlin',\n",
    "        'capital': 'Berlin',\n",
    "    },\n",
    "}"
   ]
  },
  {
   "cell_type": "code",
   "execution_count": null,
   "metadata": {},
   "outputs": [],
   "source": [
    "countries['Ukraine']['capital']"
   ]
  },
  {
   "cell_type": "code",
   "execution_count": 3,
   "metadata": {},
   "outputs": [],
   "source": [
    "countries.get('Poland', {}).get('capital')"
   ]
  },
  {
   "cell_type": "code",
   "execution_count": null,
   "metadata": {},
   "outputs": [],
   "source": [
    "d = {}"
   ]
  },
  {
   "cell_type": "code",
   "execution_count": null,
   "metadata": {},
   "outputs": [],
   "source": [
    "import random\n",
    "\n",
    "for i in range(100):\n",
    "    side = random.randint(1, 6)\n",
    "    if side in d:\n",
    "        d[side] += 1\n",
    "    else:\n",
    "        d[side] = 1"
   ]
  },
  {
   "cell_type": "code",
   "execution_count": null,
   "metadata": {},
   "outputs": [],
   "source": [
    "d"
   ]
  },
  {
   "cell_type": "code",
   "execution_count": null,
   "metadata": {},
   "outputs": [],
   "source": [
    "from collections import defaultdict\n",
    "\n",
    "\n",
    "d = defaultdict(int)"
   ]
  },
  {
   "cell_type": "code",
   "execution_count": null,
   "metadata": {},
   "outputs": [],
   "source": [
    "import random\n",
    "\n",
    "for i in range(100):\n",
    "    side = random.randint(1, 6)\n",
    "    d[side] += 1\n"
   ]
  },
  {
   "cell_type": "code",
   "execution_count": null,
   "metadata": {},
   "outputs": [],
   "source": [
    "d"
   ]
  },
  {
   "attachments": {},
   "cell_type": "markdown",
   "metadata": {},
   "source": [
    "### Collections\n",
    "\n",
    "The collections module is a built-in module that implements specialized container datatypes providing alternatives to Python’s general purpose built-in containers, dict, list, set, and tuple."
   ]
  },
  {
   "cell_type": "code",
   "execution_count": null,
   "metadata": {},
   "outputs": [],
   "source": [
    "# *kwargs\n",
    "def function_with_kwargs(argument1, *args, **kwargs):\n",
    "    print(f'argument1: {argument1}')\n",
    "    print(f'args: {args}')\n",
    "    print(f'kwargs: {kwargs}')"
   ]
  },
  {
   "cell_type": "code",
   "execution_count": null,
   "metadata": {},
   "outputs": [],
   "source": [
    "function_with_kwargs(1, 2, 3, argument4=4, argument5=5)"
   ]
  },
  {
   "cell_type": "code",
   "execution_count": null,
   "metadata": {},
   "outputs": [],
   "source": [
    "def common_fucntion(argument1, ..., argumentn, **data)\n",
    "    argument1 * argumentn\n",
    "\n",
    "    if 'marks' in data:\n",
    "        # do smth for student\n",
    "        pass\n",
    "        \n",
    "    if 'availability' in data:\n",
    "        # do smth for tutor\n",
    "\n",
    "\n",
    "# student.py\n",
    "common_fucntion(1, marks=[4, 5, 3])\n",
    "\n",
    "\n",
    "# tutor.py\n",
    "common_fucntion(1, availability={'Monday': '8-16'})"
   ]
  },
  {
   "cell_type": "code",
   "execution_count": null,
   "metadata": {},
   "outputs": [],
   "source": [
    "# Here is an example from real production code where i replaced some sensitive variable name. \n",
    "\n",
    "def some_function(*args, **kwargs):\n",
    "    instance = kwargs.get('instance')\n",
    "    if instance:\n",
    "        init_username = {'username': instance.username}\n",
    "\n",
    "        if 'initial' in kwargs:\n",
    "            kwargs['initial'].update(init_username)\n",
    "        else:\n",
    "            kwargs['initial'] = {\n",
    "                **init_username,\n",
    "            }\n"
   ]
  },
  {
   "cell_type": "code",
   "execution_count": null,
   "metadata": {},
   "outputs": [],
   "source": [
    "d = (1, 2, 3)\n",
    "\n",
    "c = (4, 5, 6, *d)\n",
    "\n",
    "print(c)"
   ]
  },
  {
   "cell_type": "code",
   "execution_count": null,
   "metadata": {},
   "outputs": [],
   "source": [
    "d = {1: 2, 3: 4}\n",
    "\n",
    "c = {5: 6, **d}\n",
    "\n",
    "print(c)"
   ]
  },
  {
   "cell_type": "code",
   "execution_count": null,
   "metadata": {},
   "outputs": [],
   "source": [
    "d = {1: 2, 3: 4}\n",
    "\n",
    "c = {5: 6}\n",
    "c.update(d)\n",
    "\n",
    "print(c)"
   ]
  },
  {
   "cell_type": "code",
   "execution_count": null,
   "metadata": {},
   "outputs": [],
   "source": [
    "def f(hash_map: dict):\n",
    "    print(hash_map)"
   ]
  },
  {
   "cell_type": "code",
   "execution_count": null,
   "metadata": {},
   "outputs": [],
   "source": [
    "f({\n",
    "    1: 2,\n",
    "    3: 4,\n",
    "    **d,\n",
    "})"
   ]
  },
  {
   "cell_type": "code",
   "execution_count": null,
   "metadata": {},
   "outputs": [],
   "source": [
    "# Here is an example from real production code where i replaced some sensitive variable name. \n",
    "\n",
    "values = {\n",
    "    'type': 'new_order',\n",
    "    'name': \"Oleh\",\n",
    "    'order': [\n",
    "        {'item1': {\n",
    "            'name': 'some',\n",
    "            'quantity': 2\n",
    "        }}\n",
    "    ]\n",
    "}\n",
    "values = {\n",
    "    'type': 'new_item_in_checkout',\n",
    "    'name': \"Oleh\",\n",
    "    'item': {\n",
    "        'name': 'some',\n",
    "        'quantity': 2\n",
    "    }\n",
    "}\n",
    "\n",
    "def some_function(*args, **kwargs):\n",
    "    print(f'args: {args}')\n",
    "    message_type = kwargs.get('type')\n",
    "    if message_type == 'new_order':\n",
    "        send_new_order(kwargs)\n",
    "    elif message_type == 'new_item_in_checkout':\n",
    "        # send_new_item(kwargs)\n",
    "\n",
    "\n",
    "some_function(**values)"
   ]
  },
  {
   "attachments": {},
   "cell_type": "markdown",
   "metadata": {},
   "source": [
    "###  Practice 1:\n",
    "\n",
    "\n",
    "\n",
    "1. Write a game where user should guess of a capital of the country that you have in your dictionary.\n",
    "\n",
    "    capitals = {\n",
    "        'Ukraine': 'Kyiv',\n",
    "        'France': 'Paris',\n",
    "        'Germany': 'Berlin',\n",
    "        'Italy': 'Rome',\n",
    "        'USA': 'Washington',\n",
    "        'Canada': 'Ottawa',\n",
    "        'Switzerland': 'Bern',\n",
    "        'Austria': 'Vienna',\n",
    "        'Belgium': 'Brussels',\n",
    "        'Sweden': 'Stockholm',\n",
    "        'Norway': 'Oslo',\n",
    "        'Denmark': 'Copenhagen',\n",
    "        'Finland': 'Helsinki',\n",
    "        'Poland': 'Warsaw',\n",
    "        'Romania': 'Bucharest',\n",
    "        'Bulgaria': 'Sofia',\n",
    "        'Greece': 'Athens',\n",
    "        ...\n",
    "    }\n",
    "\n",
    "    You should show user a random country from the list and ask him to guess the capital. If user input right capital, print \"You are right!\", add him a point and ask him to guess another country. If not, you should ask again. User should be able to quit the game by typing \"exit\".\n",
    "    You should print current score after each round. Also, you should print the final score before user quit the game.\n",
    "\n",
    "\n",
    "    Optional: \n",
    "    1. Give user a hint if he guesses wrong. Hint should looks like first letter of the capital. If you user make another mistake, you should print one more letter from the capital.\n",
    "\n",
    "    2. If user make a mistake you should decrement his lives. Initial amount of lives is 3. Game will end when user has no lives left. You should print the final score after user has no lives left."
   ]
  },
  {
   "attachments": {},
   "cell_type": "markdown",
   "metadata": {},
   "source": [
    "\n",
    "2. **Optional** Roman numerals are represented by seven different symbols: I, V, X, L, C, D and M.\n",
    "\n",
    "    Symbol       Value\n",
    "    I             1\n",
    "    V             5\n",
    "    X             10\n",
    "    L             50\n",
    "    C             100\n",
    "    D             500\n",
    "    M             1000\n",
    "\n",
    "    For example, 2 is written as II in Roman numeral, just two ones added together. 12 is written as XII, which is simply X + II. The number 27 is written as XXVII, which is XX + V + II.\n",
    "\n",
    "    Roman numerals are usually written largest to smallest from left to right. However, the numeral for four is not IIII. Instead, the number four is written as IV. Because the one is before the five we subtract it making four. The same principle applies to the number nine, which is written as IX. There are six instances where subtraction is used:\n",
    "\n",
    "    * I can be placed before V (5) and X (10) to make 4 and 9. \n",
    "    * X can be placed before L (50) and C (100) to make 40 and 90. \n",
    "    * can be placed before D (500) and M (1000) to make 400 and 900.\n",
    "\n",
    "    Given a roman numeral, convert it to an integer.\n",
    "\n",
    "        Example 1:\n",
    "\n",
    "        Input: s = \"III\"\n",
    "        Output: 3\n",
    "        Explanation: III = 3.\n",
    "\n",
    "        Example 2:\n",
    "\n",
    "        Input: s = \"LVIII\"\n",
    "        Output: 58\n",
    "        Explanation: L = 50, V= 5, III = 3.\n",
    "\n",
    "        Example 3:\n",
    "\n",
    "        Input: s = \"MCMXCIV\"\n",
    "        Output: 1994\n",
    "        Explanation: M = 1000, CM = 900, XC = 90 and IV = 4.\n",
    "\n",
    "    ```python\n",
    "    def roman_to_int(s: str) -> int:\n",
    "        # write your code here\n",
    "\n",
    "    def test_roman_to_int():\n",
    "        result1 = roman_to_int(\"III\")\n",
    "        assert result1 == 3\n",
    "\n",
    "        result1 = roman_to_int(\"LVIII\")\n",
    "        assert result1 == 58\n",
    "\n",
    "        result1 = roman_to_int(\"MCMXCIV\")\n",
    "        assert result1 == 1994\n",
    "    ```\n",
    "\n",
    "\n",
    "\n",
    "\n",
    "\n",
    "3. **Optional** Try to create a function that will do reverse operation - from integer to roman\n",
    "\n",
    "    ```python\n",
    "    def int_to_roman(s: str) -> int:\n",
    "        # write your code here\n",
    "\n",
    "    def test_int_to_roman():\n",
    "        result1 = int_to_roman(3)\n",
    "        assert result1 == \"III\"\n",
    "\n",
    "        result1 = int_to_roman(58)\n",
    "        assert result1 == \"LVIII\"\n",
    "\n",
    "        result1 = int_to_roman(1994)\n",
    "        assert result1 == \"MCMXCIV\"\n",
    "    ```\n"
   ]
  },
  {
   "attachments": {},
   "cell_type": "markdown",
   "metadata": {},
   "source": [
    "4. Given an array nums of size n, return the majority element.\n",
    "\n",
    "    The majority element is the element that appears more than any other element. You may assume that the majority element always exists in the array.\n",
    "\n",
    "        Example 1:\n",
    "\n",
    "        Input: nums = [3,2,3]\n",
    "        Output: 3\n",
    "\n",
    "        Example 2:\n",
    "\n",
    "        Input: nums = [2,2,1,1,1,2,2]\n",
    "        Output: 2\n",
    "\n",
    "    ```python\n",
    "    def majority_element(nums: list) -> int:\n",
    "        # write your code here\n",
    "\n",
    "    def test_majority_element():\n",
    "        result1 = majority_element([3, 2, 3])\n",
    "        assert result1 == 3\n",
    "\n",
    "        result1 = majority_element([2, 2, 1, 1, 1, 2, 2])\n",
    "        assert result1 == 2\n",
    "    ```\n"
   ]
  },
  {
   "attachments": {},
   "cell_type": "markdown",
   "metadata": {},
   "source": [
    "5. **Optional** Write an algorithm to determine if a number n is happy.\n",
    "\n",
    "    A happy number is a number defined by the following process:\n",
    "\n",
    "        * Starting with any positive integer, replace the number by the sum of the squares of its digits.\n",
    "        * Repeat the process until the number equals 1 (where it will stay), or it loops endlessly in a cycle which does not include 1.\n",
    "        * Those numbers for which this process ends in 1 are happy.\n",
    "\n",
    "    Return true if n is a happy number, and false if not.\n",
    "\n",
    "        Example 1:\n",
    "\n",
    "        Input: n = 19\n",
    "        Output: true\n",
    "\n",
    "        Explanation:\n",
    "        12 + 92 = 82\n",
    "        82 + 22 = 68\n",
    "        62 + 82 = 100\n",
    "        12 + 02 + 02 = 1\n",
    "\n",
    "        Example 2:\n",
    "\n",
    "        Input: n = 2\n",
    "        Output: false\n",
    "\n",
    "\n",
    "    ```python\n",
    "    def is_happy(self, n: int) -> bool:\n",
    "        # write your code here\n",
    "\n",
    "    def test_is_happy():\n",
    "        result1 = is_happy(19)\n",
    "        assert result1 is True\n",
    "\n",
    "        result1 = is_happy(2)\n",
    "        assert result1 is False\n",
    "    ```"
   ]
  },
  {
   "attachments": {},
   "cell_type": "markdown",
   "metadata": {},
   "source": [
    "6. Given a string s, find the length of the longest substring without repeating characters.\n",
    "\n",
    "    Example 1:\n",
    "\n",
    "    Input: s = \"abcabcbb\"\n",
    "\n",
    "    Output: 3\n",
    "    Explanation: The answer is \"abc\", with the length of 3.\n",
    "\n",
    "    Example 2:\n",
    "\n",
    "    Input: s = \"bbbbb\"\n",
    "\n",
    "    Output: 1\n",
    "    Explanation: The answer is \"b\", with the length of 1.\n",
    "\n",
    "    Example 3:\n",
    "\n",
    "    Input: s = \"pwwkew\"\n",
    "\n",
    "    Output: 3\n",
    "\n",
    "    Explanation: The answer is \"wke\", with the length of 3.\n",
    "\n",
    "    Notice that the answer must be a substring, \"pwke\" is a subsequence and not a substring.\n",
    "\n",
    "\n",
    "    ```python\n",
    "        def length_of_longest_substring(s: str) -> int:\n",
    "            pass\n",
    "\n",
    "        def test_length_of_longest_substring():\n",
    "            result1 = length_of_longest_substring('abcabcabc')\n",
    "            assert result1 = 3\n",
    "\n",
    "            result2 = length_of_longest_substring('bbbbb')\n",
    "            assert result2 = 1\n",
    "\n",
    "            result3 = length_of_longest_substring(\"pwwkew\")\n",
    "            assert result3 = 3\n",
    "    ```"
   ]
  },
  {
   "attachments": {},
   "cell_type": "markdown",
   "metadata": {},
   "source": [
    "7. Given two strings s and t, determine if they are isomorphic.\n",
    "\n",
    "    Two strings s and t are isomorphic if the characters in s can be replaced to get t.\n",
    "\n",
    "    All occurrences of a character must be replaced with another character while preserving the order of characters. No two characters may map to the same character, but a character may map to itself.\n",
    "\n",
    "        Example 1:\n",
    "\n",
    "        Input: s = \"egg\", t = \"add\"\n",
    "        Output: true\n",
    "\n",
    "        Example 2:\n",
    "\n",
    "        Input: s = \"foo\", t = \"bar\"\n",
    "        Output: false\n",
    "\n",
    "        Example 3:\n",
    "\n",
    "        Input: s = \"paper\", t = \"title\"\n",
    "        Output: true\n",
    "\n",
    "    ```python\n",
    "    def is_isomorphic(s: str, t: str) -> bool:\n",
    "        pass\n",
    "\n",
    "    def test_is_isomorphic():\n",
    "        assert is_isomorphic('egg', 'add') is True\n",
    "\n",
    "        assert is_isomorphic(\"foo\", \"bar\") is False\n",
    "\n",
    "        assert is_isomorphic('paper', 'title') is True\n",
    "    ```"
   ]
  },
  {
   "attachments": {},
   "cell_type": "markdown",
   "metadata": {},
   "source": [
    "### Material\n",
    "\n",
    "### Set\n",
    "1. [Set basic](https://realpython.com/python-sets/)\n",
    "\n",
    "\n",
    "#### Dict \n",
    "1. [Dict basic](https://realpython.com/python-dicts/)\n",
    "2. [How dicts work under the hood](https://realpython.com/python-hash-table/)"
   ]
  }
 ],
 "metadata": {
  "kernelspec": {
   "display_name": "Python 3.11.1 64-bit",
   "language": "python",
   "name": "python3"
  },
  "language_info": {
   "codemirror_mode": {
    "name": "ipython",
    "version": 3
   },
   "file_extension": ".py",
   "mimetype": "text/x-python",
   "name": "python",
   "nbconvert_exporter": "python",
   "pygments_lexer": "ipython3",
   "version": "3.11.1"
  },
  "orig_nbformat": 4,
  "vscode": {
   "interpreter": {
    "hash": "de47f5c92c0ee6f12a59a5613ac5feff6aab19ddff207ba0b3964cced08c4ccc"
   }
  }
 },
 "nbformat": 4,
 "nbformat_minor": 2
}
