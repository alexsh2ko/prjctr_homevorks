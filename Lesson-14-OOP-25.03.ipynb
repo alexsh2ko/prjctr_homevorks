{
 "cells": [
  {
   "cell_type": "markdown",
   "id": "eafc2e45",
   "metadata": {},
   "source": [
    "#### Lesson 14. OOP. 25-03.22\n",
    "Topics:\n",
    "> 1. OOP \n",
    "> 2. Methods\n",
    "> 3. Magic Methods\n",
    "\n",
    "Materials:\n",
    "> 1. [OOP](https://www.geeksforgeeks.org/python-oops-concepts/)\n",
    "> 2. [More about OOP](https://realpython.com/python3-object-oriented-programming/)\n",
    "> 3. [Class](https://www.programiz.com/python-programming/object-oriented-programming)"
   ]
  },
  {
   "cell_type": "markdown",
   "id": "b26f3cf2",
   "metadata": {},
   "source": [
    "# Object-oriented programming \n",
    "\n",
    "\n",
    "OOP, or Object-Oriented Programming, is a method of structuring a program by bundling related properties and behaviors into individual objects."
   ]
  },
  {
   "cell_type": "code",
   "execution_count": null,
   "id": "a0b97b09",
   "metadata": {},
   "outputs": [],
   "source": [
    "## Class"
   ]
  },
  {
   "cell_type": "code",
   "execution_count": 7,
   "id": "fcc02fc3",
   "metadata": {},
   "outputs": [],
   "source": [
    "ukraine = ['Kyiv', 42_000_000, 603_000, 'The capital of Ukraine is Kyiv']\n",
    "poland = ['Warsaw', 38_000_000, 312_000, 'The capital of Poland is Warsaw']\n",
    "france = ['Paris', 67_000_000, 592_000, 'The capital of France is Paris']\n",
    "usa = ['Washington', 520_000_000, 5_500_000, 'The capital of USA is Washington']"
   ]
  },
  {
   "cell_type": "code",
   "execution_count": 8,
   "id": "f0b21ccd",
   "metadata": {},
   "outputs": [
    {
     "data": {
      "text/plain": [
       "'Warsaw'"
      ]
     },
     "execution_count": 8,
     "metadata": {},
     "output_type": "execute_result"
    }
   ],
   "source": [
    "poland[0]"
   ]
  },
  {
   "cell_type": "markdown",
   "id": "59aa1e3c",
   "metadata": {},
   "source": [
    "## What is the class?\n",
    "\n",
    "Classes are used to create user-defined data structures. Classes also have special functions, called methods, that define behaviors and actions that an object created from the class can perform with its data.\n",
    "\n",
    "### Class vs instance\n",
    "\n",
    "\n",
    "\n",
    "1. Class\n",
    "2. Methods\n",
    "3. Instance\n"
   ]
  },
  {
   "cell_type": "code",
   "execution_count": 1,
   "id": "1096bae5",
   "metadata": {},
   "outputs": [],
   "source": [
    "class Country:\n",
    "    pass"
   ]
  },
  {
   "cell_type": "code",
   "execution_count": 2,
   "id": "0afc414f",
   "metadata": {},
   "outputs": [],
   "source": [
    "c = Country()"
   ]
  },
  {
   "cell_type": "code",
   "execution_count": 3,
   "id": "086aada7",
   "metadata": {},
   "outputs": [
    {
     "data": {
      "text/plain": [
       "__main__.Country"
      ]
     },
     "execution_count": 3,
     "metadata": {},
     "output_type": "execute_result"
    }
   ],
   "source": [
    "type(c)"
   ]
  },
  {
   "cell_type": "code",
   "execution_count": null,
   "id": "2904574b",
   "metadata": {},
   "outputs": [],
   "source": []
  },
  {
   "cell_type": "code",
   "execution_count": 4,
   "id": "5405a8d4",
   "metadata": {},
   "outputs": [],
   "source": [
    "class Country:\n",
    "    # adding custom attributes\n",
    "    def __init__(self, name: str, population: int):\n",
    "        self.name = name\n",
    "        self.population = population\n",
    "\n",
    "portugal = Country('Portugal', 10_000_000)"
   ]
  },
  {
   "cell_type": "code",
   "execution_count": 6,
   "id": "498e35b3",
   "metadata": {},
   "outputs": [
    {
     "data": {
      "text/plain": [
       "'Portugal'"
      ]
     },
     "execution_count": 6,
     "metadata": {},
     "output_type": "execute_result"
    }
   ],
   "source": [
    "portugal.name"
   ]
  },
  {
   "cell_type": "code",
   "execution_count": null,
   "id": "b7258d7a",
   "metadata": {},
   "outputs": [],
   "source": [
    "#portugal2 = Country('Portugal', 10_000_000)"
   ]
  },
  {
   "cell_type": "code",
   "execution_count": 9,
   "id": "d4bfdbc6",
   "metadata": {},
   "outputs": [
    {
     "data": {
      "text/plain": [
       "('Portugal', 10000000)"
      ]
     },
     "execution_count": 9,
     "metadata": {},
     "output_type": "execute_result"
    }
   ],
   "source": [
    "portugal.name, portugal.population"
   ]
  },
  {
   "cell_type": "code",
   "execution_count": null,
   "id": "bf6255e4",
   "metadata": {},
   "outputs": [],
   "source": [
    "# with open('file.csv', 'r') as f:\n",
    "#     for name, population in f:\n",
    "#         country = Country(name=name, population=population)"
   ]
  },
  {
   "cell_type": "code",
   "execution_count": 10,
   "id": "d9036485",
   "metadata": {},
   "outputs": [
    {
     "name": "stdout",
     "output_type": "stream",
     "text": [
      "10000000\n"
     ]
    }
   ],
   "source": [
    "print(portugal.population)"
   ]
  },
  {
   "cell_type": "code",
   "execution_count": 11,
   "id": "9fb06153",
   "metadata": {},
   "outputs": [
    {
     "name": "stdout",
     "output_type": "stream",
     "text": [
      "123\n"
     ]
    }
   ],
   "source": [
    "portugal.some_attr = '123'\n",
    "\n",
    "print(portugal.some_attr)"
   ]
  },
  {
   "cell_type": "code",
   "execution_count": 12,
   "id": "13c08949",
   "metadata": {},
   "outputs": [
    {
     "data": {
      "text/plain": [
       "'123'"
      ]
     },
     "execution_count": 12,
     "metadata": {},
     "output_type": "execute_result"
    }
   ],
   "source": [
    "portugal.some_attr"
   ]
  },
  {
   "cell_type": "code",
   "execution_count": 13,
   "id": "2d399643",
   "metadata": {},
   "outputs": [],
   "source": [
    "poland = Country('Poland', 10_00_000)"
   ]
  },
  {
   "cell_type": "code",
   "execution_count": 14,
   "id": "d5ce4cd2",
   "metadata": {},
   "outputs": [
    {
     "ename": "AttributeError",
     "evalue": "'Country' object has no attribute 'some_attr'",
     "output_type": "error",
     "traceback": [
      "\u001b[0;31m---------------------------------------------------------------------------\u001b[0m",
      "\u001b[0;31mAttributeError\u001b[0m                            Traceback (most recent call last)",
      "Cell \u001b[0;32mIn[14], line 1\u001b[0m\n\u001b[0;32m----> 1\u001b[0m poland\u001b[39m.\u001b[39;49msome_attr\n",
      "\u001b[0;31mAttributeError\u001b[0m: 'Country' object has no attribute 'some_attr'"
     ]
    }
   ],
   "source": [
    "poland.some_attr"
   ]
  },
  {
   "cell_type": "code",
   "execution_count": 15,
   "id": "8fa6a018",
   "metadata": {},
   "outputs": [
    {
     "data": {
      "text/plain": [
       "['__class__',\n",
       " '__delattr__',\n",
       " '__dict__',\n",
       " '__dir__',\n",
       " '__doc__',\n",
       " '__eq__',\n",
       " '__format__',\n",
       " '__ge__',\n",
       " '__getattribute__',\n",
       " '__getstate__',\n",
       " '__gt__',\n",
       " '__hash__',\n",
       " '__init__',\n",
       " '__init_subclass__',\n",
       " '__le__',\n",
       " '__lt__',\n",
       " '__module__',\n",
       " '__ne__',\n",
       " '__new__',\n",
       " '__reduce__',\n",
       " '__reduce_ex__',\n",
       " '__repr__',\n",
       " '__setattr__',\n",
       " '__sizeof__',\n",
       " '__str__',\n",
       " '__subclasshook__',\n",
       " '__weakref__',\n",
       " 'name',\n",
       " 'population',\n",
       " 'some_attr']"
      ]
     },
     "execution_count": 15,
     "metadata": {},
     "output_type": "execute_result"
    }
   ],
   "source": [
    "dir(portugal) # Поверне всі доступні атрибути"
   ]
  },
  {
   "cell_type": "code",
   "execution_count": 16,
   "id": "4e1d4c2f",
   "metadata": {},
   "outputs": [
    {
     "data": {
      "text/plain": [
       "['__class__',\n",
       " '__delattr__',\n",
       " '__dict__',\n",
       " '__dir__',\n",
       " '__doc__',\n",
       " '__eq__',\n",
       " '__format__',\n",
       " '__ge__',\n",
       " '__getattribute__',\n",
       " '__getstate__',\n",
       " '__gt__',\n",
       " '__hash__',\n",
       " '__init__',\n",
       " '__init_subclass__',\n",
       " '__le__',\n",
       " '__lt__',\n",
       " '__module__',\n",
       " '__ne__',\n",
       " '__new__',\n",
       " '__reduce__',\n",
       " '__reduce_ex__',\n",
       " '__repr__',\n",
       " '__setattr__',\n",
       " '__sizeof__',\n",
       " '__str__',\n",
       " '__subclasshook__',\n",
       " '__weakref__',\n",
       " 'name',\n",
       " 'population']"
      ]
     },
     "execution_count": 16,
     "metadata": {},
     "output_type": "execute_result"
    }
   ],
   "source": [
    "dir(poland)"
   ]
  },
  {
   "cell_type": "code",
   "execution_count": 17,
   "id": "d5f7799b",
   "metadata": {},
   "outputs": [
    {
     "data": {
      "text/plain": [
       "False"
      ]
     },
     "execution_count": 17,
     "metadata": {},
     "output_type": "execute_result"
    }
   ],
   "source": [
    "hasattr(poland, '123' ) # Перевірка на наявність атрибута"
   ]
  },
  {
   "cell_type": "code",
   "execution_count": 18,
   "id": "dd5eb337",
   "metadata": {},
   "outputs": [],
   "source": [
    "class Country:\n",
    "    pass\n"
   ]
  },
  {
   "cell_type": "code",
   "execution_count": 19,
   "id": "c858c1d3",
   "metadata": {},
   "outputs": [
    {
     "name": "stdout",
     "output_type": "stream",
     "text": [
      "False\n"
     ]
    }
   ],
   "source": [
    "c1 = Country()\n",
    "c2 = Country()\n",
    "print(c1 == c2) # Що поверне?"
   ]
  },
  {
   "cell_type": "code",
   "execution_count": 20,
   "id": "b7005e7f",
   "metadata": {},
   "outputs": [
    {
     "name": "stdout",
     "output_type": "stream",
     "text": [
      "<__main__.Country object at 0x10d175710> <__main__.Country object at 0x10d66c0d0>\n"
     ]
    }
   ],
   "source": [
    "print(c1, c2)"
   ]
  },
  {
   "cell_type": "code",
   "execution_count": null,
   "id": "e20684a7",
   "metadata": {},
   "outputs": [],
   "source": []
  },
  {
   "cell_type": "markdown",
   "id": "fb11fd28",
   "metadata": {},
   "source": [
    "### Class and instance attributes"
   ]
  },
  {
   "cell_type": "code",
   "execution_count": 21,
   "id": "5a072fa3",
   "metadata": {},
   "outputs": [],
   "source": [
    "class Country:\n",
    "    x = 'distinct territorial body, a state, nation, or other political entity' # Спільний атрубут\n",
    "    y = 123\n",
    "    \n",
    "    # adding custom attributes\n",
    "    def __init__(self: 'Country', name: str, population: int):\n",
    "        self.name = name\n",
    "        self.population = population\n",
    "        self.big = population > 100_000_000"
   ]
  },
  {
   "cell_type": "code",
   "execution_count": 22,
   "id": "9e73396c",
   "metadata": {},
   "outputs": [],
   "source": [
    "spain = Country('Spain', 46_000_000)"
   ]
  },
  {
   "cell_type": "code",
   "execution_count": 23,
   "id": "a5c58f0b",
   "metadata": {},
   "outputs": [],
   "source": [
    "spain2 = Country('Spain1', 46_000_000)"
   ]
  },
  {
   "cell_type": "code",
   "execution_count": 24,
   "id": "6389bb1e",
   "metadata": {},
   "outputs": [
    {
     "data": {
      "text/plain": [
       "False"
      ]
     },
     "execution_count": 24,
     "metadata": {},
     "output_type": "execute_result"
    }
   ],
   "source": [
    "spain.big"
   ]
  },
  {
   "cell_type": "code",
   "execution_count": 25,
   "id": "789b09e2",
   "metadata": {},
   "outputs": [
    {
     "data": {
      "text/plain": [
       "'Spain'"
      ]
     },
     "execution_count": 25,
     "metadata": {},
     "output_type": "execute_result"
    }
   ],
   "source": [
    "spain.name"
   ]
  },
  {
   "cell_type": "code",
   "execution_count": 26,
   "id": "eb9c9988",
   "metadata": {},
   "outputs": [
    {
     "data": {
      "text/plain": [
       "False"
      ]
     },
     "execution_count": 26,
     "metadata": {},
     "output_type": "execute_result"
    }
   ],
   "source": [
    "spain == spain2"
   ]
  },
  {
   "cell_type": "code",
   "execution_count": 29,
   "id": "f70c354c",
   "metadata": {},
   "outputs": [],
   "source": [
    "spain.x = 'Something'"
   ]
  },
  {
   "cell_type": "code",
   "execution_count": 30,
   "id": "c421c09c",
   "metadata": {},
   "outputs": [
    {
     "data": {
      "text/plain": [
       "'Something'"
      ]
     },
     "execution_count": 30,
     "metadata": {},
     "output_type": "execute_result"
    }
   ],
   "source": [
    "spain.x"
   ]
  },
  {
   "cell_type": "code",
   "execution_count": 33,
   "id": "bf9b4ddf",
   "metadata": {},
   "outputs": [
    {
     "data": {
      "text/plain": [
       "'distinct territorial body, a state, nation, or other political entity'"
      ]
     },
     "execution_count": 33,
     "metadata": {},
     "output_type": "execute_result"
    }
   ],
   "source": [
    "spain2.x"
   ]
  },
  {
   "cell_type": "code",
   "execution_count": 34,
   "id": "0377b01d",
   "metadata": {},
   "outputs": [],
   "source": [
    "c = Country('Colombia', 53_000_000)"
   ]
  },
  {
   "cell_type": "code",
   "execution_count": 35,
   "id": "cf4303ed",
   "metadata": {},
   "outputs": [
    {
     "data": {
      "text/plain": [
       "'distinct territorial body, a state, nation, or other political entity'"
      ]
     },
     "execution_count": 35,
     "metadata": {},
     "output_type": "execute_result"
    }
   ],
   "source": [
    "c.x"
   ]
  },
  {
   "cell_type": "code",
   "execution_count": 36,
   "id": "dd696ad0",
   "metadata": {},
   "outputs": [],
   "source": [
    "c.y = 124\n",
    "\n",
    "c.s = 'rq'"
   ]
  },
  {
   "cell_type": "code",
   "execution_count": 37,
   "id": "30fddfa0",
   "metadata": {},
   "outputs": [
    {
     "data": {
      "text/plain": [
       "124"
      ]
     },
     "execution_count": 37,
     "metadata": {},
     "output_type": "execute_result"
    }
   ],
   "source": [
    "c.y"
   ]
  },
  {
   "cell_type": "code",
   "execution_count": 38,
   "id": "bb4d8e10",
   "metadata": {},
   "outputs": [
    {
     "data": {
      "text/plain": [
       "'rq'"
      ]
     },
     "execution_count": 38,
     "metadata": {},
     "output_type": "execute_result"
    }
   ],
   "source": [
    "c.s"
   ]
  },
  {
   "cell_type": "code",
   "execution_count": 39,
   "id": "70c8e07d",
   "metadata": {},
   "outputs": [
    {
     "ename": "AttributeError",
     "evalue": "'Country' object has no attribute 's'",
     "output_type": "error",
     "traceback": [
      "\u001b[0;31m---------------------------------------------------------------------------\u001b[0m",
      "\u001b[0;31mAttributeError\u001b[0m                            Traceback (most recent call last)",
      "Cell \u001b[0;32mIn[39], line 1\u001b[0m\n\u001b[0;32m----> 1\u001b[0m spain\u001b[39m.\u001b[39;49ms\n",
      "\u001b[0;31mAttributeError\u001b[0m: 'Country' object has no attribute 's'"
     ]
    }
   ],
   "source": [
    "spain.s"
   ]
  },
  {
   "cell_type": "code",
   "execution_count": 40,
   "id": "925d85be",
   "metadata": {},
   "outputs": [
    {
     "name": "stdout",
     "output_type": "stream",
     "text": [
      "country: <__main__.Country object at 0x10d66e6d0>\n",
      "name: Spain\n",
      "population: 46000000\n"
     ]
    }
   ],
   "source": [
    "print('country:', spain)\n",
    "print('name:', spain.name)\n",
    "print('population:', spain.population)\n",
    "#print('description:', spain.description)"
   ]
  },
  {
   "cell_type": "code",
   "execution_count": null,
   "id": "876e5bd3",
   "metadata": {},
   "outputs": [],
   "source": []
  },
  {
   "cell_type": "markdown",
   "id": "d5557511",
   "metadata": {},
   "source": [
    "#### Instance method"
   ]
  },
  {
   "cell_type": "code",
   "execution_count": 51,
   "id": "8f7c481a",
   "metadata": {},
   "outputs": [],
   "source": [
    "class Country:\n",
    "    \n",
    "    # instance method\n",
    "    def description(self):\n",
    "        return f'The population of {self.name} is {self.population}'\n",
    "\n",
    "    # instance with a parameter\n",
    "    def make_declaration(self, speech: str):\n",
    "        print(f'!!!!!!!!!!!!!!!!!!!!!!!!!!')\n",
    "        return f'{self.name} declare: {speech}'\n",
    "    \n",
    "    def __init__(self, name, population):\n",
    "        self.name = name\n",
    "        self.population = population"
   ]
  },
  {
   "cell_type": "code",
   "execution_count": 52,
   "id": "c50b36cf",
   "metadata": {},
   "outputs": [
    {
     "name": "stdout",
     "output_type": "stream",
     "text": [
      "description of Argentina: The population of Argentina is 43000000\n",
      "!!!!!!!!!!!!!!!!!!!!!!!!!!\n",
      "Argentina declare: We declare independence!\n"
     ]
    }
   ],
   "source": [
    "argentina = Country('Argentina', 43_000_000)\n",
    "print(f'description of Argentina: {argentina.description()}')\n",
    "\n",
    "print(argentina.make_declaration('We declare independence!'))"
   ]
  },
  {
   "cell_type": "code",
   "execution_count": 47,
   "id": "ab3c1013",
   "metadata": {},
   "outputs": [
    {
     "data": {
      "text/plain": [
       "<function __main__.Country.description(self)>"
      ]
     },
     "execution_count": 47,
     "metadata": {},
     "output_type": "execute_result"
    }
   ],
   "source": [
    "Country.description"
   ]
  },
  {
   "cell_type": "code",
   "execution_count": 46,
   "id": "8c7f6f07",
   "metadata": {},
   "outputs": [
    {
     "ename": "AttributeError",
     "evalue": "'Country' object has no attribute 'speech'",
     "output_type": "error",
     "traceback": [
      "\u001b[0;31m---------------------------------------------------------------------------\u001b[0m",
      "\u001b[0;31mAttributeError\u001b[0m                            Traceback (most recent call last)",
      "Cell \u001b[0;32mIn[46], line 1\u001b[0m\n\u001b[0;32m----> 1\u001b[0m argentina\u001b[39m.\u001b[39;49mspeech\n",
      "\u001b[0;31mAttributeError\u001b[0m: 'Country' object has no attribute 'speech'"
     ]
    }
   ],
   "source": [
    "argentina.speech"
   ]
  },
  {
   "cell_type": "markdown",
   "id": "08c545eb",
   "metadata": {},
   "source": [
    "### Classmethod and staticmethod"
   ]
  },
  {
   "cell_type": "code",
   "execution_count": 60,
   "id": "570983bb",
   "metadata": {},
   "outputs": [],
   "source": [
    "class Country:\n",
    "    \n",
    "    # Конструктор - для створення нового object\n",
    "    def __init__(self, name, population):\n",
    "        self.name = name\n",
    "        self.population = population\n",
    "\n",
    "    # Classmethod - для змінни поведінки классу\n",
    "    @classmethod\n",
    "    def create_million_country(cls, name = 'Standard name'):\n",
    "        instance = cls(name, 1_000_000)\n",
    "        return instance\n",
    "    \n",
    "    @classmethod\n",
    "    def read_countries_from_file(cls, filename):\n",
    "        instances = []\n",
    "        with open(filename) as file:\n",
    "            for row in file:\n",
    "                instances.append(cls(name=row[0], population=row[1]))\n",
    "\n",
    "        return instances\n",
    "\n",
    "\n",
    "    # Statickmethods - не змінює поведінку классу або object\n",
    "    @staticmethod\n",
    "    def create_great_speech(speech):\n",
    "        return f'Said: {speech} with gratitude'\n",
    "\n",
    "    \n",
    "    @property \n",
    "    def population_in_millions(self):\n",
    "        return self.population / 1_000_000\n",
    "\n",
    "    def description(self):\n",
    "        return f'The population of {self.name} is {self.population}'\n"
   ]
  },
  {
   "cell_type": "code",
   "execution_count": 55,
   "id": "ae697e58",
   "metadata": {},
   "outputs": [
    {
     "name": "stdout",
     "output_type": "stream",
     "text": [
      "hello Some name\n",
      "hello Sasha\n"
     ]
    }
   ],
   "source": [
    "def hello(name = 'Some name'):\n",
    "    print(f'hello {name}')\n",
    "\n",
    "hello()\n",
    "hello('Sasha')"
   ]
  },
  {
   "cell_type": "code",
   "execution_count": 61,
   "id": "2534210d",
   "metadata": {},
   "outputs": [],
   "source": [
    "columbia = Country.create_million_country('Columbia')"
   ]
  },
  {
   "cell_type": "code",
   "execution_count": 62,
   "id": "fa483fb9",
   "metadata": {},
   "outputs": [
    {
     "name": "stdout",
     "output_type": "stream",
     "text": [
      "Said: Some Speech with gratitude\n",
      "columbia.population 1000000\n",
      "population_in_milions 1.0\n"
     ]
    }
   ],
   "source": [
    "\n",
    "print(columbia.create_great_speech('Some Speech'))\n",
    "print('columbia.population', columbia.population)\n",
    "#print('is_million_country:', Country.is_million_country(columbia.population))\n",
    "print('population_in_milions', columbia.population_in_millions)"
   ]
  },
  {
   "cell_type": "code",
   "execution_count": 63,
   "id": "5ece3ecc",
   "metadata": {},
   "outputs": [
    {
     "data": {
      "text/plain": [
       "'The population of Columbia is 1000000'"
      ]
     },
     "execution_count": 63,
     "metadata": {},
     "output_type": "execute_result"
    }
   ],
   "source": [
    "columbia.description()"
   ]
  },
  {
   "cell_type": "code",
   "execution_count": 64,
   "id": "d548a5c9",
   "metadata": {},
   "outputs": [
    {
     "data": {
      "text/plain": [
       "1000000"
      ]
     },
     "execution_count": 64,
     "metadata": {},
     "output_type": "execute_result"
    }
   ],
   "source": [
    "columbia.population"
   ]
  },
  {
   "cell_type": "code",
   "execution_count": 65,
   "id": "bb241cd9",
   "metadata": {},
   "outputs": [],
   "source": [
    "countries = [Country('name1', 10000), Country('name2', 10000)]"
   ]
  },
  {
   "cell_type": "code",
   "execution_count": 66,
   "id": "8e8df850",
   "metadata": {},
   "outputs": [
    {
     "data": {
      "text/plain": [
       "'name1'"
      ]
     },
     "execution_count": 66,
     "metadata": {},
     "output_type": "execute_result"
    }
   ],
   "source": [
    "countries[0].name "
   ]
  },
  {
   "cell_type": "code",
   "execution_count": null,
   "id": "9f531c55",
   "metadata": {},
   "outputs": [],
   "source": [
    "some_country = countries[0]"
   ]
  },
  {
   "cell_type": "code",
   "execution_count": null,
   "id": "199bfe4f",
   "metadata": {},
   "outputs": [],
   "source": [
    "### Private method"
   ]
  },
  {
   "cell_type": "code",
   "execution_count": 67,
   "id": "5c4341b2",
   "metadata": {},
   "outputs": [],
   "source": [
    "class Country:\n",
    "    def __init__(self, gdp): # Dunder Score\n",
    "        self._gdp = gdp\n",
    "\n",
    "    def get_gdp(self):\n",
    "        return self._gdp\n",
    "    \n",
    "    def set_gdp(self, new_value):\n",
    "        if new_value > self._gdp:\n",
    "            self._gdp = new_value"
   ]
  },
  {
   "cell_type": "code",
   "execution_count": 68,
   "id": "c6e363a7",
   "metadata": {},
   "outputs": [
    {
     "name": "stdout",
     "output_type": "stream",
     "text": [
      "_gdp: 4000\n",
      "_get_gdp: 4000\n"
     ]
    }
   ],
   "source": [
    "c = Country(4_000)\n",
    "print('_gdp:', c._gdp)\n",
    "print('_get_gdp:', c.get_gdp())"
   ]
  },
  {
   "cell_type": "code",
   "execution_count": 73,
   "id": "56eb535d",
   "metadata": {},
   "outputs": [
    {
     "name": "stdout",
     "output_type": "stream",
     "text": [
      "2000\n",
      "None\n",
      "2500\n"
     ]
    }
   ],
   "source": [
    "c._gdp = 2000\n",
    "print(c._gdp)\n",
    "print(c.set_gdp(2500))\n",
    "print(c._gdp)"
   ]
  },
  {
   "cell_type": "code",
   "execution_count": 81,
   "id": "1e380b38",
   "metadata": {},
   "outputs": [],
   "source": [
    "class Country:\n",
    "    def __init__(self, gdp):\n",
    "        self.__gdp = gdp\n",
    "\n",
    "    def get_gdp(self):\n",
    "        return self.__gdp\n",
    "\n",
    "    def double_gdp(self):\n",
    "        return self.__gdp * 2"
   ]
  },
  {
   "cell_type": "code",
   "execution_count": 82,
   "id": "493fdcc8",
   "metadata": {},
   "outputs": [
    {
     "name": "stdout",
     "output_type": "stream",
     "text": [
      "5000\n",
      "_get_gdp: 40000\n",
      "80000\n"
     ]
    }
   ],
   "source": [
    "c = Country(40_000)\n",
    "\n",
    "print(c.__gdp)\n",
    "#print('_gdp:', c.__gdp)\n",
    "# print(dir(c))\n",
    "print('_get_gdp:', c.get_gdp())\n",
    "print(c.double_gdp())"
   ]
  },
  {
   "cell_type": "code",
   "execution_count": 83,
   "id": "0dc1883d",
   "metadata": {},
   "outputs": [],
   "source": [
    "# How to close access properly\n",
    "\n",
    "class Country:\n",
    "    def __init__(self, gdp):\n",
    "        self.__gdp = gdp\n",
    "\n",
    "    def _get_gdp(self):\n",
    "        return self.__gdp\n",
    "    \n",
    "    def get_gdp(self):\n",
    "        return self.__gdp\n"
   ]
  },
  {
   "cell_type": "code",
   "execution_count": null,
   "id": "7aa7c720",
   "metadata": {},
   "outputs": [],
   "source": []
  },
  {
   "cell_type": "code",
   "execution_count": null,
   "id": "3a2c204f",
   "metadata": {},
   "outputs": [],
   "source": [
    "#### Magic methods"
   ]
  },
  {
   "cell_type": "code",
   "execution_count": 84,
   "id": "36494c3d",
   "metadata": {},
   "outputs": [],
   "source": [
    "class Country:\n",
    "    def __init__(self, name, population):\n",
    "        self.name = name\n",
    "        self.population = population\n",
    "\n",
    "    # magic method\n",
    "    def __str__(self):\n",
    "        return f'Country: {self.name} with population {self.population}'\n"
   ]
  },
  {
   "cell_type": "code",
   "execution_count": 89,
   "id": "abe343b5",
   "metadata": {},
   "outputs": [
    {
     "name": "stdout",
     "output_type": "stream",
     "text": [
      "cuba: Country: Cuba with population 11000000\n"
     ]
    }
   ],
   "source": [
    "cuba = Country('Cuba', 11_000_000)\n",
    "print('cuba:', cuba)\n"
   ]
  },
  {
   "cell_type": "code",
   "execution_count": 86,
   "id": "08ddb98d",
   "metadata": {},
   "outputs": [],
   "source": [
    "class Country1:\n",
    "    pass"
   ]
  },
  {
   "cell_type": "code",
   "execution_count": 88,
   "id": "9e91ee75",
   "metadata": {},
   "outputs": [
    {
     "name": "stdout",
     "output_type": "stream",
     "text": [
      "False <__main__.Country1 object at 0x10d70ac10>\n"
     ]
    }
   ],
   "source": [
    "cur1 = Country1()\n",
    "cur2 = Country1()\n",
    "print(cur1 == cur2, cur1)"
   ]
  },
  {
   "cell_type": "code",
   "execution_count": 98,
   "id": "c2e66622",
   "metadata": {},
   "outputs": [],
   "source": [
    "class Country:\n",
    "    def __init__(self, name, population):\n",
    "        self.name = name\n",
    "        self.population = population\n",
    "\n",
    "    # magic method\n",
    "    def __str__(self):\n",
    "        return f'Country: {self.name} with population {self.population}'\n",
    "\n",
    "    def __eq__(self, args): # Порівнювання\n",
    "        print(self.name, self.population)\n",
    "        print(args.name, args.population)\n",
    "        return self.population == args.population\n"
   ]
  },
  {
   "cell_type": "code",
   "execution_count": 99,
   "id": "c8d61df2",
   "metadata": {},
   "outputs": [
    {
     "name": "stdout",
     "output_type": "stream",
     "text": [
      "Cuba1 11000000\n",
      "Cuba2 11000000\n",
      "True\n"
     ]
    }
   ],
   "source": [
    "cuba1 = Country('Cuba1', 11_000_000)\n",
    "cuba2 = Country('Cuba2', 11_000_000)\n",
    "\n",
    "\n",
    "print(cuba1 == cuba2)"
   ]
  },
  {
   "cell_type": "code",
   "execution_count": 93,
   "id": "b0c76ad0",
   "metadata": {},
   "outputs": [
    {
     "name": "stdout",
     "output_type": "stream",
     "text": [
      "Country: Cuba1 with population 11000000\n"
     ]
    }
   ],
   "source": [
    "print(cuba1)"
   ]
  },
  {
   "cell_type": "code",
   "execution_count": null,
   "id": "20c66e29",
   "metadata": {},
   "outputs": [],
   "source": [
    "cuba3 = cuba1 + cuba2"
   ]
  },
  {
   "cell_type": "code",
   "execution_count": 100,
   "id": "899b580e",
   "metadata": {},
   "outputs": [
    {
     "data": {
      "text/plain": [
       "['__abs__',\n",
       " '__add__',\n",
       " '__and__',\n",
       " '__bool__',\n",
       " '__ceil__',\n",
       " '__class__',\n",
       " '__delattr__',\n",
       " '__dir__',\n",
       " '__divmod__',\n",
       " '__doc__',\n",
       " '__eq__',\n",
       " '__float__',\n",
       " '__floor__',\n",
       " '__floordiv__',\n",
       " '__format__',\n",
       " '__ge__',\n",
       " '__getattribute__',\n",
       " '__getnewargs__',\n",
       " '__getstate__',\n",
       " '__gt__',\n",
       " '__hash__',\n",
       " '__index__',\n",
       " '__init__',\n",
       " '__init_subclass__',\n",
       " '__int__',\n",
       " '__invert__',\n",
       " '__le__',\n",
       " '__lshift__',\n",
       " '__lt__',\n",
       " '__mod__',\n",
       " '__mul__',\n",
       " '__ne__',\n",
       " '__neg__',\n",
       " '__new__',\n",
       " '__or__',\n",
       " '__pos__',\n",
       " '__pow__',\n",
       " '__radd__',\n",
       " '__rand__',\n",
       " '__rdivmod__',\n",
       " '__reduce__',\n",
       " '__reduce_ex__',\n",
       " '__repr__',\n",
       " '__rfloordiv__',\n",
       " '__rlshift__',\n",
       " '__rmod__',\n",
       " '__rmul__',\n",
       " '__ror__',\n",
       " '__round__',\n",
       " '__rpow__',\n",
       " '__rrshift__',\n",
       " '__rshift__',\n",
       " '__rsub__',\n",
       " '__rtruediv__',\n",
       " '__rxor__',\n",
       " '__setattr__',\n",
       " '__sizeof__',\n",
       " '__str__',\n",
       " '__sub__',\n",
       " '__subclasshook__',\n",
       " '__truediv__',\n",
       " '__trunc__',\n",
       " '__xor__',\n",
       " 'as_integer_ratio',\n",
       " 'bit_count',\n",
       " 'bit_length',\n",
       " 'conjugate',\n",
       " 'denominator',\n",
       " 'from_bytes',\n",
       " 'imag',\n",
       " 'numerator',\n",
       " 'real',\n",
       " 'to_bytes']"
      ]
     },
     "execution_count": 100,
     "metadata": {},
     "output_type": "execute_result"
    }
   ],
   "source": [
    "# list of magic methods\n",
    "dir(int)"
   ]
  },
  {
   "cell_type": "code",
   "execution_count": null,
   "id": "449cb198",
   "metadata": {},
   "outputs": [],
   "source": []
  },
  {
   "cell_type": "markdown",
   "id": "30ad6963",
   "metadata": {},
   "source": [
    "### Practice\n",
    "\n",
    "1. Modify the Country class to include a third instance attribute called capital as a string. Store your new class in a script and test it out by adding the following code at the bottom of the script:\n",
    "```\n",
    "japan = Country('Japan', 140_000_000, 'Tokyo')\n",
    "print(f\"{japan.name} population is {japan.population} and capital is {japan.capital}.\") \n",
    "```\n",
    "The output of your script should be:\n",
    "\n",
    "Japan population is 140000000 and capital is Tokyo.\n",
    "\n",
    "2. Add increase_population method to country class. This method should take an argument and increase population of the country on this number. \n",
    "\n",
    "3. Create add method to add two countries together. This method should create another country object with the name of the two countries combined and population of the two countries added together.\n",
    "```\n",
    "bosnia = Country('Bosnia', 10_000_000)\n",
    "herzegovina = Country('Herzegovina', 5_000_000)\n",
    "\n",
    "bosnia_herzegovina = bosnia.add(herzegovina)\n",
    "bosnia_herzegovina.population -> 15_000_000\n",
    "bosnia_herzegovina.name -> 'Bosnia Herzegovina'\n",
    "```\n",
    "\n",
    "4. (Optional) Implement previous method with magic method\n",
    "\n",
    "```\n",
    "bosnia = Country('Bosnia', 10_000_000)\n",
    "herzegovina = Country('Herzegovina', 5_000_000)\n",
    "\n",
    "bosnia_herzegovina = bosnia + herzegovina\n",
    "bosnia_herzegovina.population -> 15_000_000\n",
    "bosnia_herzegovina.name -> 'Bosnia Herzegovina'\n",
    "```"
   ]
  },
  {
   "cell_type": "code",
   "execution_count": null,
   "id": "8c3d6300",
   "metadata": {},
   "outputs": [],
   "source": []
  }
 ],
 "metadata": {
  "kernelspec": {
   "display_name": "Python 3 (ipykernel)",
   "language": "python",
   "name": "python3"
  },
  "language_info": {
   "codemirror_mode": {
    "name": "ipython",
    "version": 3
   },
   "file_extension": ".py",
   "mimetype": "text/x-python",
   "name": "python",
   "nbconvert_exporter": "python",
   "pygments_lexer": "ipython3",
   "version": "3.11.0"
  }
 },
 "nbformat": 4,
 "nbformat_minor": 5
}
