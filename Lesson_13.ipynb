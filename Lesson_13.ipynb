{
 "cells": [
  {
   "cell_type": "markdown",
   "metadata": {},
   "source": [
    "# Decorator\n",
    "\n",
    "## Functions"
   ]
  },
  {
   "cell_type": "code",
   "execution_count": 3,
   "metadata": {},
   "outputs": [
    {
     "name": "stdout",
     "output_type": "stream",
     "text": [
      "4\n"
     ]
    }
   ],
   "source": [
    "def increase(value):\n",
    "    return value + 1\n",
    "\n",
    "print(increase(3))"
   ]
  },
  {
   "cell_type": "code",
   "execution_count": 4,
   "metadata": {},
   "outputs": [
    {
     "data": {
      "text/plain": [
       "function"
      ]
     },
     "execution_count": 4,
     "metadata": {},
     "output_type": "execute_result"
    }
   ],
   "source": [
    "def increase(value):\n",
    "    return value + 1\n",
    "\n",
    "type(increase)"
   ]
  },
  {
   "cell_type": "markdown",
   "metadata": {},
   "source": [
    "## First class object"
   ]
  },
  {
   "cell_type": "code",
   "execution_count": 5,
   "metadata": {},
   "outputs": [],
   "source": [
    "def warning(value):\n",
    "    return f'!!{value}!!'\n",
    "\n",
    "def line(value):\n",
    "    return f'||{value}||'\n",
    "\n",
    "def prettify(func):\n",
    "    return func('Name')"
   ]
  },
  {
   "cell_type": "code",
   "execution_count": 6,
   "metadata": {},
   "outputs": [
    {
     "data": {
      "text/plain": [
       "'!!Name!!'"
      ]
     },
     "execution_count": 6,
     "metadata": {},
     "output_type": "execute_result"
    }
   ],
   "source": [
    "prettify(warning)"
   ]
  },
  {
   "cell_type": "code",
   "execution_count": 7,
   "metadata": {},
   "outputs": [
    {
     "data": {
      "text/plain": [
       "'||Name||'"
      ]
     },
     "execution_count": 7,
     "metadata": {},
     "output_type": "execute_result"
    }
   ],
   "source": [
    "prettify(line)"
   ]
  },
  {
   "cell_type": "markdown",
   "metadata": {},
   "source": [
    "## Inner Functions"
   ]
  },
  {
   "cell_type": "code",
   "execution_count": 8,
   "metadata": {},
   "outputs": [
    {
     "name": "stdout",
     "output_type": "stream",
     "text": [
      "Parent function\n",
      "Second child function\n",
      "First child function\n"
     ]
    }
   ],
   "source": [
    "def main():\n",
    "    print(\"Parent function\")\n",
    "\n",
    "    def first():\n",
    "        print(\"First child function\")\n",
    "\n",
    "    def second():\n",
    "        print(\"Second child function\")\n",
    "\n",
    "    second()\n",
    "    first()\n",
    "    \n",
    "main()"
   ]
  },
  {
   "cell_type": "code",
   "execution_count": 9,
   "metadata": {},
   "outputs": [],
   "source": [
    "## Return function\n",
    "\n",
    "def main(value: int):\n",
    "    def first():\n",
    "        return \"First function\"\n",
    "\n",
    "    def second():\n",
    "        return \"Second function\"\n",
    "\n",
    "    if value == 2:\n",
    "        return second\n",
    "\n",
    "    return first"
   ]
  },
  {
   "cell_type": "code",
   "execution_count": 10,
   "metadata": {},
   "outputs": [
    {
     "name": "stdout",
     "output_type": "stream",
     "text": [
      "First function\n"
     ]
    }
   ],
   "source": [
    "result = main(0)()\n",
    "print(result)"
   ]
  },
  {
   "cell_type": "code",
   "execution_count": 11,
   "metadata": {},
   "outputs": [
    {
     "name": "stdout",
     "output_type": "stream",
     "text": [
      "First function\n",
      "Second function\n"
     ]
    }
   ],
   "source": [
    "first = main(1)\n",
    "print(first())\n",
    "second = main(2)\n",
    "print(second())"
   ]
  },
  {
   "cell_type": "markdown",
   "metadata": {},
   "source": [
    "## First decorator"
   ]
  },
  {
   "cell_type": "code",
   "execution_count": 12,
   "metadata": {},
   "outputs": [],
   "source": [
    "def hello():\n",
    "    print(\"Hello world\")\n",
    "\n",
    "def decorator(func):\n",
    "    def wrapper():\n",
    "        print(\"!!!!!! Before !!!!!!\")\n",
    "        func()\n",
    "        print(\"!!!!!! After !!!!!!\")\n",
    "    return wrapper\n",
    "\n",
    "\n",
    "def bye():\n",
    "    print(\"Bye world\")\n",
    "\n",
    "say_hello = decorator(hello)\n",
    "say_bye = decorator(bye)"
   ]
  },
  {
   "cell_type": "code",
   "execution_count": 13,
   "metadata": {},
   "outputs": [
    {
     "name": "stdout",
     "output_type": "stream",
     "text": [
      "!!!!!! Before !!!!!!\n",
      "Hello world\n",
      "!!!!!! After !!!!!!\n"
     ]
    }
   ],
   "source": [
    "say_hello()"
   ]
  },
  {
   "cell_type": "code",
   "execution_count": 1,
   "metadata": {},
   "outputs": [],
   "source": [
    "from datetime import datetime\n",
    "\n",
    "def decorator(func):\n",
    "    def wrapper():\n",
    "        print(f'Start: {datetime.now()}')\n",
    "        func()\n",
    "        print(f'End: {datetime.now()}')\n",
    "    return wrapper\n",
    "\n",
    "def build_list():\n",
    "    _list = []\n",
    "    for i in range(1_000_000_00):\n",
    "        _list.append(i)\n",
    "\n",
    "calculate_build_list = decorator(build_list)"
   ]
  },
  {
   "cell_type": "code",
   "execution_count": 2,
   "metadata": {},
   "outputs": [
    {
     "name": "stdout",
     "output_type": "stream",
     "text": [
      "Start: 2023-03-23 19:59:36.988078\n",
      "End: 2023-03-23 19:59:42.734033\n"
     ]
    }
   ],
   "source": [
    "calculate_build_list()"
   ]
  },
  {
   "cell_type": "code",
   "execution_count": 3,
   "metadata": {},
   "outputs": [],
   "source": [
    "def build_huge_list():\n",
    "    _list = []\n",
    "    for i in range(100_000_000):\n",
    "        _list.append(i)\n",
    "\n",
    "build = decorator(build_huge_list)"
   ]
  },
  {
   "cell_type": "code",
   "execution_count": 4,
   "metadata": {},
   "outputs": [
    {
     "name": "stdout",
     "output_type": "stream",
     "text": [
      "Start: 2023-03-23 19:59:53.820747\n",
      "End: 2023-03-23 20:00:01.871621\n"
     ]
    }
   ],
   "source": [
    "build()"
   ]
  },
  {
   "attachments": {},
   "cell_type": "markdown",
   "metadata": {},
   "source": [
    "### Practice for a lesson (not a homework!)\n",
    "\n",
    "Write a decorator that will calculate the execution time of a function.\n",
    "\n",
    "Example:\n",
    "\n",
    "```python\n",
    "@calculate_execution_time\n",
    "def add(a: int, b: int) -> int:\n",
    "    return a + b\n",
    "\n",
    "add(1, 2)\n",
    "> 3\n",
    "> Execution time: 0.0005 seconds\n",
    "```\n"
   ]
  },
  {
   "cell_type": "markdown",
   "metadata": {},
   "source": [
    "## Desserts, please\n"
   ]
  },
  {
   "cell_type": "code",
   "execution_count": 5,
   "metadata": {},
   "outputs": [],
   "source": [
    "from datetime import datetime\n",
    "\n",
    "\n",
    "def decorator(func):\n",
    "    def wrapper():\n",
    "        print(f'Start: {datetime.now()}')\n",
    "        func()\n",
    "        print(f'End: {datetime.now()}')\n",
    "    return wrapper\n",
    "\n",
    "\n",
    "def hello():\n",
    "    print(\"Hello world\")\n",
    "\n",
    "\n",
    "hello2 = decorator(hello)\n",
    "\n",
    "@decorator\n",
    "def hello2():\n",
    "    print(\"Hello world\")\n",
    "\n",
    "\n",
    "@decorator\n",
    "def bye():\n",
    "    print(\"bye world\")"
   ]
  },
  {
   "cell_type": "code",
   "execution_count": 6,
   "metadata": {},
   "outputs": [
    {
     "name": "stdout",
     "output_type": "stream",
     "text": [
      "Start: 2023-03-23 20:01:51.675350\n",
      "Hello world\n",
      "End: 2023-03-23 20:01:51.675350\n"
     ]
    }
   ],
   "source": [
    "hello2()"
   ]
  },
  {
   "cell_type": "code",
   "execution_count": 7,
   "metadata": {},
   "outputs": [
    {
     "name": "stdout",
     "output_type": "stream",
     "text": [
      "Start: 2023-03-23 20:02:28.405738\n",
      "bye world\n",
      "End: 2023-03-23 20:02:28.405738\n"
     ]
    }
   ],
   "source": [
    "bye()"
   ]
  },
  {
   "cell_type": "code",
   "execution_count": null,
   "metadata": {},
   "outputs": [],
   "source": [
    "def duplicate_exec(func):\n",
    "    def wrapper():\n",
    "        func()\n",
    "        func()\n",
    "    return wrapper\n",
    "\n",
    "\n",
    "@duplicate_exec\n",
    "def hello():\n",
    "\n",
    "    print(\"Hello world!\")\n",
    "\n",
    "# hello = duplicate_exec(hello)\n",
    "\n",
    "hello()"
   ]
  },
  {
   "cell_type": "markdown",
   "metadata": {},
   "source": [
    "## Arguments in decorator"
   ]
  },
  {
   "cell_type": "code",
   "execution_count": null,
   "metadata": {},
   "outputs": [],
   "source": [
    "def duplicate_exec(func):\n",
    "    def wrapper(*args, **kwargs):\n",
    "        func(*args, **kwargs)\n",
    "        func(*args, **kwargs)\n",
    "    return wrapper"
   ]
  },
  {
   "cell_type": "code",
   "execution_count": null,
   "metadata": {},
   "outputs": [],
   "source": [
    "@duplicate_exec\n",
    "def hello(name):\n",
    "    print(f\"Hello {name}!\")\n",
    "\n",
    "\n",
    "hello('Eugene')"
   ]
  },
  {
   "cell_type": "code",
   "execution_count": null,
   "metadata": {},
   "outputs": [],
   "source": [
    "@duplicate_exec\n",
    "def hello(name):\n",
    "    print(f\"Hello, {name}!\")\n",
    "\n",
    "\n",
    "hello('Eugene')"
   ]
  },
  {
   "cell_type": "code",
   "execution_count": null,
   "metadata": {},
   "outputs": [],
   "source": [
    "def duplicate_exec(func):\n",
    "    def wrapper(*args, **kwargs):\n",
    "        func(*args, **kwargs)\n",
    "        return func(*args, **kwargs)\n",
    "    return wrapper"
   ]
  },
  {
   "cell_type": "markdown",
   "metadata": {},
   "source": [
    "### How to return values from decorator"
   ]
  },
  {
   "cell_type": "code",
   "execution_count": null,
   "metadata": {},
   "outputs": [],
   "source": [
    "@duplicate_exec\n",
    "def hello(name):\n",
    "    value = f\"Hello {name}!\"\n",
    "    print(value)  # what if i will comment it?\n",
    "    return value\n",
    "\n",
    "\n",
    "name_var = hello('World')\n",
    "\n",
    "print(name_var)"
   ]
  },
  {
   "cell_type": "markdown",
   "metadata": {},
   "source": [
    "### Reveal proper function name"
   ]
  },
  {
   "cell_type": "code",
   "execution_count": null,
   "metadata": {},
   "outputs": [],
   "source": [
    "hello.__name__"
   ]
  },
  {
   "cell_type": "code",
   "execution_count": null,
   "metadata": {},
   "outputs": [],
   "source": [
    "import functools\n",
    "\n",
    "def duplicate_exec(func):\n",
    "    @functools.wraps(func)\n",
    "    def wrapper(*args, **kwargs):\n",
    "        func(*args, **kwargs)\n",
    "        return func(*args, **kwargs)\n",
    "    return wrapper"
   ]
  },
  {
   "cell_type": "code",
   "execution_count": null,
   "metadata": {},
   "outputs": [],
   "source": [
    "@duplicate_exec\n",
    "def hello_function(name: str) -> str:\n",
    "    \"\"\"_summary_\n",
    "\n",
    "    Args:\n",
    "        name (str): _description_\n",
    "\n",
    "    Returns:\n",
    "        str: _description_\n",
    "    \"\"\"\n",
    "    return f\"Hello {name}!\"\n",
    "\n",
    "hello_function.__name__\n",
    "hello_function.__annotations__\n",
    "# dir(hello_function)"
   ]
  },
  {
   "cell_type": "code",
   "execution_count": null,
   "metadata": {},
   "outputs": [],
   "source": [
    "help(hello_function)"
   ]
  },
  {
   "cell_type": "markdown",
   "metadata": {},
   "source": [
    "## Few decorators"
   ]
  },
  {
   "cell_type": "code",
   "execution_count": null,
   "metadata": {},
   "outputs": [],
   "source": [
    "def make_bold(func):\n",
    "    @functools.wraps(func)\n",
    "    def wrapper(*args, **kwargs):\n",
    "        return \"**\" + func(*args, **kwargs) + \"**\"\n",
    "    return wrapper\n",
    "\n",
    "def make_italic(func):\n",
    "    @functools.wraps(func)\n",
    "    def wrapper(*args, **kwargs):\n",
    "        return \"__\" + func(*args, **kwargs) + \"__\"\n",
    "    return wrapper"
   ]
  },
  {
   "cell_type": "code",
   "execution_count": null,
   "metadata": {},
   "outputs": [],
   "source": [
    "@make_italic\n",
    "@make_bold\n",
    "def hello(name):\n",
    "    return f\"Hello {name}!\"\n",
    "\n",
    "result = hello('my_name')\n",
    "print(result)"
   ]
  },
  {
   "cell_type": "code",
   "execution_count": null,
   "metadata": {},
   "outputs": [],
   "source": [
    "@repeat(num_times=4)\n",
    "def hello(name):\n",
    "    print(f'Hello, {name}')\n",
    "    return f\"Hello, {name}\"\n",
    "\n",
    "name = hello('Name')"
   ]
  },
  {
   "cell_type": "markdown",
   "metadata": {},
   "source": [
    "### Decorators With Arguments"
   ]
  },
  {
   "cell_type": "code",
   "execution_count": null,
   "metadata": {},
   "outputs": [],
   "source": [
    "def repeat(num_times):\n",
    "\n",
    "    def decorator_repeat(func):\n",
    "\n",
    "        @functools.wraps(func)\n",
    "        def wrapper_repeat(*args, **kwargs):\n",
    "            for _ in range(num_times):\n",
    "                value = func(*args, **kwargs)\n",
    "            return value\n",
    "\n",
    "        return wrapper_repeat\n",
    "\n",
    "    return decorator_repeat"
   ]
  },
  {
   "attachments": {},
   "cell_type": "markdown",
   "metadata": {},
   "source": [
    "## Practice\n",
    "\n",
    "1. Write a decorator that ensures a function is only called by users with a specific role. Each function should have an user_type with a string type in kwargs\n",
    "\n",
    "    Example\n",
    "\n",
    "    ```python\n",
    "    @is_admin\n",
    "    def show_customer_receipt(user_type: str):\n",
    "        # some very dangerous operation\n",
    "\n",
    "    show_customer_receipt(user_type='user')\n",
    "    > ValueError: Permission denied\n",
    "\n",
    "    show_customer_receipt(user_type='admin')\n",
    "    > function pass as it should be\n",
    "    ```\n",
    "\n",
    "2. Write a decorator that wraps a function in a try-except block and print an error if error has happened\n",
    "\n",
    "    Example\n",
    "    ```python\n",
    "    @catch_errors\n",
    "    def some_function_with_risky_operation(data):\n",
    "        print(data['key'])\n",
    "\n",
    "\n",
    "    some_function_with_risky_operation({'foo': 'bar'})\n",
    "    > Found 1 error during execution of your function: KeyError no such key as foo\n",
    "\n",
    "    some_function_with_risky_operation({'key': 'bar'})\n",
    "    > bar\n",
    "    ```\n",
    "\n",
    "3. Optional: Create a decorator that will check types. It should take a function with arguments and validate inputs with annotations.\n",
    "\n",
    "    Example:\n",
    "\n",
    "    ```python\n",
    "    @check_types\n",
    "    def add(a: int, b: int) -> int:\n",
    "        return a + b\n",
    "\n",
    "    add(1, 2)\n",
    "    > 3\n",
    "\n",
    "    add(\"1\", \"2\")\n",
    "    > TypeError: Argument a must be int, not str\n",
    "    ```\n",
    "\n",
    "4. Optional: Create a function that caches the result of a function, so that if it is called with same same argument multiple times, it returns the cached result first instead of re-executing the function. It`s one of the real task on the project\n",
    "\n",
    "5. Optional: Write a decorator that adds a rate-limiter to a function, so that it can only be called a certain amount of times per minute. \n",
    "I also had a task with such a problem in one of the projects"
   ]
  },
  {
   "attachments": {},
   "cell_type": "markdown",
   "metadata": {},
   "source": [
    "## Materials\n",
    "\n",
    "1. [Python Decorators](https://realpython.com/primer-on-python-decorators/)"
   ]
  }
 ],
 "metadata": {
  "kernelspec": {
   "display_name": "Python 3.11.1 64-bit",
   "language": "python",
   "name": "python3"
  },
  "language_info": {
   "codemirror_mode": {
    "name": "ipython",
    "version": 3
   },
   "file_extension": ".py",
   "mimetype": "text/x-python",
   "name": "python",
   "nbconvert_exporter": "python",
   "pygments_lexer": "ipython3",
   "version": "3.11.1"
  },
  "orig_nbformat": 4,
  "vscode": {
   "interpreter": {
    "hash": "de47f5c92c0ee6f12a59a5613ac5feff6aab19ddff207ba0b3964cced08c4ccc"
   }
  }
 },
 "nbformat": 4,
 "nbformat_minor": 2
}
